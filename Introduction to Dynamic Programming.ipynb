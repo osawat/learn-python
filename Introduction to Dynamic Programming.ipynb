{
 "metadata": {
  "name": "",
  "signature": "sha256:6c36d380b59261d8b0912f8bb439addfee4d6b13fbe56bb05e3c2f0430345b8c"
 },
 "nbformat": 3,
 "nbformat_minor": 0,
 "worksheets": [
  {
   "cells": [
    {
     "cell_type": "markdown",
     "metadata": {},
     "source": [
      "http://20bits.com/article/introduction-to-dynamic-programming"
     ]
    },
    {
     "cell_type": "code",
     "collapsed": false,
     "input": [
      "def factorial(n):\n",
      "    if n == 0: return 1\n",
      "    return n*factorial(n-1)"
     ],
     "language": "python",
     "metadata": {},
     "outputs": [],
     "prompt_number": 1
    },
    {
     "cell_type": "code",
     "collapsed": false,
     "input": [
      "factorial(5)"
     ],
     "language": "python",
     "metadata": {},
     "outputs": [
      {
       "metadata": {},
       "output_type": "pyout",
       "prompt_number": 2,
       "text": [
        "120"
       ]
      }
     ],
     "prompt_number": 2
    },
    {
     "cell_type": "code",
     "collapsed": false,
     "input": [
      "def fib(n):\n",
      "    if n==0: return 0\n",
      "    if n==1: return 1\n",
      "    return fib(n-1) + fib(n-2)"
     ],
     "language": "python",
     "metadata": {},
     "outputs": [],
     "prompt_number": 3
    },
    {
     "cell_type": "code",
     "collapsed": false,
     "input": [
      "fib(5)"
     ],
     "language": "python",
     "metadata": {},
     "outputs": [
      {
       "metadata": {},
       "output_type": "pyout",
       "prompt_number": 4,
       "text": [
        "5"
       ]
      }
     ],
     "prompt_number": 4
    },
    {
     "cell_type": "code",
     "collapsed": false,
     "input": [
      "x = range(20)"
     ],
     "language": "python",
     "metadata": {},
     "outputs": [],
     "prompt_number": 5
    },
    {
     "cell_type": "code",
     "collapsed": false,
     "input": [
      "x"
     ],
     "language": "python",
     "metadata": {},
     "outputs": [
      {
       "metadata": {},
       "output_type": "pyout",
       "prompt_number": 6,
       "text": [
        "[0, 1, 2, 3, 4, 5, 6, 7, 8, 9, 10, 11, 12, 13, 14, 15, 16, 17, 18, 19]"
       ]
      }
     ],
     "prompt_number": 6
    },
    {
     "cell_type": "code",
     "collapsed": false,
     "input": [
      "y = []\n",
      "for i in x:\n",
      "    y.append(fib(i))"
     ],
     "language": "python",
     "metadata": {},
     "outputs": [],
     "prompt_number": 7
    },
    {
     "cell_type": "code",
     "collapsed": false,
     "input": [
      "%matplotlib"
     ],
     "language": "python",
     "metadata": {},
     "outputs": [
      {
       "output_type": "stream",
       "stream": "stdout",
       "text": [
        "Using matplotlib backend: MacOSX\n"
       ]
      }
     ],
     "prompt_number": 8
    },
    {
     "cell_type": "code",
     "collapsed": false,
     "input": [
      "def fib2(n):\n",
      "    n2, n1 = 0, 1\n",
      "    for i in range(n-2):\n",
      "        n2, n1 = n1, n1 + n2\n",
      "    return n2 + n1"
     ],
     "language": "python",
     "metadata": {},
     "outputs": [],
     "prompt_number": 9
    },
    {
     "cell_type": "code",
     "collapsed": false,
     "input": [
      "x = range(10)\n",
      "y = []\n",
      "for i in x:\n",
      "    y.append(fib2(x[i]))"
     ],
     "language": "python",
     "metadata": {},
     "outputs": [],
     "prompt_number": 10
    },
    {
     "cell_type": "code",
     "collapsed": false,
     "input": [
      "import matplotlib.pyplot as plt"
     ],
     "language": "python",
     "metadata": {},
     "outputs": [],
     "prompt_number": 11
    },
    {
     "cell_type": "code",
     "collapsed": false,
     "input": [
      "plt.plot(x, y)\n",
      "plt.bar(x, y)"
     ],
     "language": "python",
     "metadata": {},
     "outputs": [
      {
       "metadata": {},
       "output_type": "pyout",
       "prompt_number": 12,
       "text": [
        "<Container object of 10 artists>"
       ]
      }
     ],
     "prompt_number": 12
    },
    {
     "cell_type": "code",
     "collapsed": false,
     "input": [
      "def msum(a):\n",
      "\treturn max([(sum(a[j:i]), (j,i)) for i in range(1,len(a)+1) for j in range(i)])"
     ],
     "language": "python",
     "metadata": {},
     "outputs": [],
     "prompt_number": 13
    },
    {
     "cell_type": "code",
     "collapsed": false,
     "input": [
      "a =  [1,2,-5,4,7,2]"
     ],
     "language": "python",
     "metadata": {},
     "outputs": [],
     "prompt_number": 14
    },
    {
     "cell_type": "code",
     "collapsed": false,
     "input": [
      "msum(a)"
     ],
     "language": "python",
     "metadata": {},
     "outputs": [
      {
       "metadata": {},
       "output_type": "pyout",
       "prompt_number": 15,
       "text": [
        "(13, (3, 6))"
       ]
      }
     ],
     "prompt_number": 15
    },
    {
     "cell_type": "code",
     "collapsed": false,
     "input": [
      "[ i for i in range(5)]"
     ],
     "language": "python",
     "metadata": {},
     "outputs": [
      {
       "metadata": {},
       "output_type": "pyout",
       "prompt_number": 16,
       "text": [
        "[0, 1, 2, 3, 4]"
       ]
      }
     ],
     "prompt_number": 16
    },
    {
     "cell_type": "code",
     "collapsed": false,
     "input": [
      "[(i, i) for i in range(5)]"
     ],
     "language": "python",
     "metadata": {},
     "outputs": [
      {
       "metadata": {},
       "output_type": "pyout",
       "prompt_number": 17,
       "text": [
        "[(0, 0), (1, 1), (2, 2), (3, 3), (4, 4)]"
       ]
      }
     ],
     "prompt_number": 17
    },
    {
     "cell_type": "code",
     "collapsed": false,
     "input": [
      "[(i, j) for i in range(3) for j in range(3)]"
     ],
     "language": "python",
     "metadata": {},
     "outputs": [
      {
       "metadata": {},
       "output_type": "pyout",
       "prompt_number": 18,
       "text": [
        "[(0, 0), (0, 1), (0, 2), (1, 0), (1, 1), (1, 2), (2, 0), (2, 1), (2, 2)]"
       ]
      }
     ],
     "prompt_number": 18
    },
    {
     "cell_type": "code",
     "collapsed": false,
     "input": [
      "a =  [1,2,-5,4,7,2]\n",
      "[[(j,i), a[j:i]] for i in range(1, len(a)+1) for j in range(i)]"
     ],
     "language": "python",
     "metadata": {},
     "outputs": [
      {
       "metadata": {},
       "output_type": "pyout",
       "prompt_number": 19,
       "text": [
        "[[(0, 1), [1]],\n",
        " [(0, 2), [1, 2]],\n",
        " [(1, 2), [2]],\n",
        " [(0, 3), [1, 2, -5]],\n",
        " [(1, 3), [2, -5]],\n",
        " [(2, 3), [-5]],\n",
        " [(0, 4), [1, 2, -5, 4]],\n",
        " [(1, 4), [2, -5, 4]],\n",
        " [(2, 4), [-5, 4]],\n",
        " [(3, 4), [4]],\n",
        " [(0, 5), [1, 2, -5, 4, 7]],\n",
        " [(1, 5), [2, -5, 4, 7]],\n",
        " [(2, 5), [-5, 4, 7]],\n",
        " [(3, 5), [4, 7]],\n",
        " [(4, 5), [7]],\n",
        " [(0, 6), [1, 2, -5, 4, 7, 2]],\n",
        " [(1, 6), [2, -5, 4, 7, 2]],\n",
        " [(2, 6), [-5, 4, 7, 2]],\n",
        " [(3, 6), [4, 7, 2]],\n",
        " [(4, 6), [7, 2]],\n",
        " [(5, 6), [2]]]"
       ]
      }
     ],
     "prompt_number": 19
    },
    {
     "cell_type": "code",
     "collapsed": false,
     "input": [
      "sum(range(5))"
     ],
     "language": "python",
     "metadata": {},
     "outputs": [
      {
       "metadata": {},
       "output_type": "pyout",
       "prompt_number": 20,
       "text": [
        "10"
       ]
      }
     ],
     "prompt_number": 20
    },
    {
     "cell_type": "code",
     "collapsed": false,
     "input": [
      "a =  [1,2,-5,4,7,2]\n",
      "[(sum(a[j:i]), (j,i)) for i in range(1, len(a)+1) for j in range(i)]"
     ],
     "language": "python",
     "metadata": {},
     "outputs": [
      {
       "metadata": {},
       "output_type": "pyout",
       "prompt_number": 21,
       "text": [
        "[(1, (0, 1)),\n",
        " (3, (0, 2)),\n",
        " (2, (1, 2)),\n",
        " (-2, (0, 3)),\n",
        " (-3, (1, 3)),\n",
        " (-5, (2, 3)),\n",
        " (2, (0, 4)),\n",
        " (1, (1, 4)),\n",
        " (-1, (2, 4)),\n",
        " (4, (3, 4)),\n",
        " (9, (0, 5)),\n",
        " (8, (1, 5)),\n",
        " (6, (2, 5)),\n",
        " (11, (3, 5)),\n",
        " (7, (4, 5)),\n",
        " (11, (0, 6)),\n",
        " (10, (1, 6)),\n",
        " (8, (2, 6)),\n",
        " (13, (3, 6)),\n",
        " (9, (4, 6)),\n",
        " (2, (5, 6))]"
       ]
      }
     ],
     "prompt_number": 21
    },
    {
     "cell_type": "code",
     "collapsed": false,
     "input": [
      "max([(sum(a[j:i]), (j,i)) for i in range(1, len(a)+1) for j in range(i)])"
     ],
     "language": "python",
     "metadata": {},
     "outputs": [
      {
       "metadata": {},
       "output_type": "pyout",
       "prompt_number": 22,
       "text": [
        "(13, (3, 6))"
       ]
      }
     ],
     "prompt_number": 22
    },
    {
     "cell_type": "code",
     "collapsed": false,
     "input": [
      "a[0:3]"
     ],
     "language": "python",
     "metadata": {},
     "outputs": [
      {
       "metadata": {},
       "output_type": "pyout",
       "prompt_number": 23,
       "text": [
        "[1, 2, -5]"
       ]
      }
     ],
     "prompt_number": 23
    },
    {
     "cell_type": "code",
     "collapsed": false,
     "input": [
      "def msum2(a):\n",
      "\tbounds, s, t, j = (0,0), -float('infinity'), 0, 0\n",
      "\t\n",
      "\tfor i in range(len(a)):\n",
      "\t\tt = t + a[i]\n",
      "\t\tif t > s: bounds, s = (j, i+1), t\n",
      "\t\tif t < 0: t, j = 0, i+1\n",
      "\treturn (s, bounds)"
     ],
     "language": "python",
     "metadata": {},
     "outputs": [],
     "prompt_number": 24
    },
    {
     "cell_type": "code",
     "collapsed": false,
     "input": [
      "s = -float('infinity')"
     ],
     "language": "python",
     "metadata": {},
     "outputs": [],
     "prompt_number": 25
    },
    {
     "cell_type": "code",
     "collapsed": false,
     "input": [
      "%save test 24"
     ],
     "language": "python",
     "metadata": {},
     "outputs": [
      {
       "output_type": "stream",
       "stream": "stdout",
       "text": [
        "The following commands were written to file `test.py`:\n",
        "def msum2(a):\n",
        "\tbounds, s, t, j = (0,0), -float('infinity'), 0, 0\n",
        "\t\n",
        "\tfor i in range(len(a)):\n",
        "\t\tt = t + a[i]\n",
        "\t\tif t > s: bounds, s = (j, i+1), t\n",
        "\t\tif t < 0: t, j = 0, i+1\n",
        "\treturn (s, bounds)\n"
       ]
      }
     ],
     "prompt_number": 49
    },
    {
     "cell_type": "code",
     "collapsed": false,
     "input": [
      "%%script bash\n",
      "for i in `seq 1 10`\n",
      "do\n",
      "echo ${i}\n",
      "done"
     ],
     "language": "python",
     "metadata": {},
     "outputs": [
      {
       "output_type": "stream",
       "stream": "stdout",
       "text": [
        "1\n",
        "2\n",
        "3\n",
        "4\n",
        "5\n",
        "6\n",
        "7\n",
        "8\n",
        "9\n",
        "10\n"
       ]
      }
     ],
     "prompt_number": 51
    },
    {
     "cell_type": "code",
     "collapsed": false,
     "input": [
      "class Point:\n",
      "    pass\n",
      "blank = Point()\n",
      "blank.x = 10\n",
      "blank.y = 20"
     ],
     "language": "python",
     "metadata": {},
     "outputs": [],
     "prompt_number": 55
    },
    {
     "cell_type": "code",
     "collapsed": false,
     "input": [
      "for i in range(5):\n",
      "    print \"xyz\""
     ],
     "language": "python",
     "metadata": {},
     "outputs": []
    },
    {
     "cell_type": "code",
     "collapsed": false,
     "input": [
      "pwd"
     ],
     "language": "python",
     "metadata": {},
     "outputs": [
      {
       "metadata": {},
       "output_type": "pyout",
       "prompt_number": 1,
       "text": [
        "u'/Users/osawa/python/learn-python'"
       ]
      }
     ],
     "prompt_number": 1
    },
    {
     "cell_type": "code",
     "collapsed": false,
     "input": [
      "\"\"\"This module contains code from\n",
      "Think Python by Allen B. Downey\n",
      "http://thinkpython.com\n",
      "\n",
      "Copyright 2012 Allen B. Downey\n",
      "License: GNU GPLv3 http://www.gnu.org/licenses/gpl.html\n",
      "\n",
      "\"\"\"\n",
      "\n",
      "# here is a mostly-straightforward solution to the\n",
      "# two-by-two version of the grid.\n",
      "\n",
      "def do_twice(f):\n",
      "    f()\n",
      "    f()\n",
      "\n",
      "def do_four(f):\n",
      "    do_twice(f)\n",
      "    do_twice(f)\n",
      "\n",
      "def print_beam():\n",
      "    print '+ - - - -',\n",
      "\n",
      "def print_post():\n",
      "    print '|        ',\n",
      "\n",
      "def print_beams():\n",
      "    do_twice(print_beam)\n",
      "    print '+'\n",
      "\n",
      "def print_posts():\n",
      "    do_twice(print_post)\n",
      "    print '|'\n",
      "\n",
      "def print_row():\n",
      "    print_beams()\n",
      "    do_four(print_posts)\n",
      "\n",
      "def print_grid():\n",
      "    do_twice(print_row)\n",
      "    print_beams()\n",
      "\n",
      "print_grid()\n",
      "    \n",
      "\n",
      "# here is a less-straightforward solution to the\n",
      "# four-by-four grid\n",
      "\n",
      "def one_four_one(f, g, h):\n",
      "    f()\n",
      "    do_four(g)\n",
      "    h()\n",
      "\n",
      "def print_plus():\n",
      "    print '+',\n",
      "\n",
      "def print_dash():\n",
      "    print '-',\n",
      "\n",
      "def print_bar():\n",
      "    print '|',\n",
      "\n",
      "def print_space():\n",
      "    print ' ',\n",
      "\n",
      "def print_end():\n",
      "    print\n",
      "\n",
      "def nothing():\n",
      "    \"do nothing\"\n",
      "\n",
      "def print1beam():\n",
      "    one_four_one(nothing, print_dash, print_plus)\n",
      "\n",
      "def print1post():\n",
      "    one_four_one(nothing, print_space, print_bar)\n",
      "\n",
      "def print4beams():\n",
      "    one_four_one(print_plus, print1beam, print_end)\n",
      "\n",
      "def print4posts():\n",
      "    one_four_one(print_bar, print1post, print_end)\n",
      "\n",
      "def print_row():\n",
      "    one_four_one(nothing, print4posts, print4beams)\n",
      "\n",
      "def print_grid():\n",
      "    one_four_one(print4beams, print_row, nothing)\n",
      "\n",
      "print_grid()\n",
      "\n",
      "comment = \"\"\"\n",
      "After writing a draft of the 4x4 grid, I noticed that many of the\n",
      "functions had the same structure: they would do something, do\n",
      "something else four times, and then do something else once.\n",
      "\n",
      "So I wrote one_four_one, which takes three functions as arguments; it\n",
      "calls the first one once, then uses do_four to call the second one\n",
      "four times, then calls the third.\n",
      "\n",
      "Then I rewrote print1beam, print1post, print4beams, print4posts,\n",
      "print_row and print_grid using one_four_one.\n",
      "\n",
      "Programming is an exploratory process.  Writing a draft of a program\n",
      "often gives you insight into the problem, which might lead you to\n",
      "rewrite the code to reflect the structure of the solution.\n",
      "\n",
      "--- Allen\n",
      "\"\"\"\n",
      "\n",
      "print comment\n"
     ],
     "language": "python",
     "metadata": {},
     "outputs": [
      {
       "output_type": "stream",
       "stream": "stdout",
       "text": [
        "+ - - - - + - - - - +\n",
        "|         |         |\n",
        "|         |         |\n",
        "|         |         |\n",
        "|         |         |\n",
        "+ - - - - + - - - - +\n",
        "|         |         |\n",
        "|         |         |\n",
        "|         |         |\n",
        "|         |         |\n",
        "+ - - - - + - - - - +\n",
        "+ - - - - + - - - - + - - - - + - - - - +\n",
        "|         |         |         |         |\n",
        "|         |         |         |         |\n",
        "|         |         |         |         |\n",
        "|         |         |         |         |\n",
        "+ - - - - + - - - - + - - - - + - - - - +\n",
        "|         |         |         |         |\n",
        "|         |         |         |         |\n",
        "|         |         |         |         |\n",
        "|         |         |         |         |\n",
        "+ - - - - + - - - - + - - - - + - - - - +\n",
        "|         |         |         |         |\n",
        "|         |         |         |         |\n",
        "|         |         |         |         |\n",
        "|         |         |         |         |\n",
        "+ - - - - + - - - - + - - - - + - - - - +\n",
        "|         |         |         |         |\n",
        "|         |         |         |         |\n",
        "|         |         |         |         |\n",
        "|         |         |         |         |\n",
        "+ - - - - + - - - - + - - - - + - - - - +\n",
        "\n",
        "After writing a draft of the 4x4 grid, I noticed that many of the\n",
        "functions had the same structure: they would do something, do\n",
        "something else four times, and then do something else once.\n",
        "\n",
        "So I wrote one_four_one, which takes three functions as arguments; it\n",
        "calls the first one once, then uses do_four to call the second one\n",
        "four times, then calls the third.\n",
        "\n",
        "Then I rewrote print1beam, print1post, print4beams, print4posts,\n",
        "print_row and print_grid using one_four_one.\n",
        "\n",
        "Programming is an exploratory process.  Writing a draft of a program\n",
        "often gives you insight into the problem, which might lead you to\n",
        "rewrite the code to reflect the structure of the solution.\n",
        "\n",
        "--- Allen\n",
        "\n"
       ]
      }
     ],
     "prompt_number": 3
    },
    {
     "cell_type": "code",
     "collapsed": false,
     "input": [
      "print_grid()"
     ],
     "language": "python",
     "metadata": {},
     "outputs": [
      {
       "output_type": "stream",
       "stream": "stdout",
       "text": [
        "+ - - - - + - - - - + - - - - + - - - - +\n",
        "|         |         |         |         |\n",
        "|         |         |         |         |\n",
        "|         |         |         |         |\n",
        "|         |         |         |         |\n",
        "+ - - - - + - - - - + - - - - + - - - - +\n",
        "|         |         |         |         |\n",
        "|         |         |         |         |\n",
        "|         |         |         |         |\n",
        "|         |         |         |         |\n",
        "+ - - - - + - - - - + - - - - + - - - - +\n",
        "|         |         |         |         |\n",
        "|         |         |         |         |\n",
        "|         |         |         |         |\n",
        "|         |         |         |         |\n",
        "+ - - - - + - - - - + - - - - + - - - - +\n",
        "|         |         |         |         |\n",
        "|         |         |         |         |\n",
        "|         |         |         |         |\n",
        "|         |         |         |         |\n",
        "+ - - - - + - - - - + - - - - + - - - - +\n"
       ]
      }
     ],
     "prompt_number": 4
    },
    {
     "cell_type": "code",
     "collapsed": false,
     "input": [
      "save grid 4"
     ],
     "language": "python",
     "metadata": {},
     "outputs": [
      {
       "output_type": "stream",
       "stream": "stdout",
       "text": [
        "The following commands were written to file `grid.py`:\n",
        "print_grid()\n"
       ]
      }
     ],
     "prompt_number": 7
    },
    {
     "cell_type": "code",
     "collapsed": false,
     "input": [
      "run -d grid.py"
     ],
     "language": "python",
     "metadata": {},
     "outputs": [
      {
       "output_type": "stream",
       "stream": "stdout",
       "text": [
        "*** Blank or comment\n",
        "*** Blank or comment\n",
        "NOTE: Enter 'c' at the ipdb>  prompt to continue execution.\n",
        "> \u001b[0;32m/Users/osawa/python/learn-python/grid.py\u001b[0m(2)\u001b[0;36m<module>\u001b[0;34m()\u001b[0m\n",
        "\u001b[0;32m      1 \u001b[0;31m\u001b[0;31m# coding: utf-8\u001b[0m\u001b[0;34m\u001b[0m\u001b[0;34m\u001b[0m\u001b[0m\n",
        "\u001b[0m\u001b[0;32m----> 2 \u001b[0;31m\u001b[0mprint_grid\u001b[0m\u001b[0;34m(\u001b[0m\u001b[0;34m)\u001b[0m\u001b[0;34m\u001b[0m\u001b[0m\n",
        "\u001b[0m\n"
       ]
      },
      {
       "name": "stdout",
       "output_type": "stream",
       "stream": "stdout",
       "text": [
        "ipdb> n\n"
       ]
      },
      {
       "output_type": "stream",
       "stream": "stdout",
       "text": [
        "NameError: \"name 'print_grid' is not defined\"\n",
        "> \u001b[0;32m/Users/osawa/python/learn-python/grid.py\u001b[0m(2)\u001b[0;36m<module>\u001b[0;34m()\u001b[0m\n",
        "\u001b[0;32m      1 \u001b[0;31m\u001b[0;31m# coding: utf-8\u001b[0m\u001b[0;34m\u001b[0m\u001b[0;34m\u001b[0m\u001b[0m\n",
        "\u001b[0m\u001b[0;32m----> 2 \u001b[0;31m\u001b[0mprint_grid\u001b[0m\u001b[0;34m(\u001b[0m\u001b[0;34m)\u001b[0m\u001b[0;34m\u001b[0m\u001b[0m\n",
        "\u001b[0m\n"
       ]
      },
      {
       "name": "stdout",
       "output_type": "stream",
       "stream": "stdout",
       "text": [
        "ipdb> ?\n"
       ]
      },
      {
       "output_type": "stream",
       "stream": "stdout",
       "text": [
        "\n",
        "Documented commands (type help <topic>):\n",
        "========================================\n",
        "EOF    bt         cont      enable  jump  pdef    psource  run      unt   \n",
        "a      c          continue  exit    l     pdoc    q        s        until \n",
        "alias  cl         d         h       list  pfile   quit     step     up    \n",
        "args   clear      debug     help    n     pinfo   r        tbreak   w     \n",
        "b      commands   disable   ignore  next  pinfo2  restart  u        whatis\n",
        "break  condition  down      j       p     pp      return   unalias  where \n",
        "\n",
        "Miscellaneous help topics:\n",
        "==========================\n",
        "exec  pdb\n",
        "\n",
        "Undocumented commands:\n",
        "======================\n",
        "retval  rv\n",
        "\n"
       ]
      }
     ]
    },
    {
     "cell_type": "code",
     "collapsed": false,
     "input": [],
     "language": "python",
     "metadata": {},
     "outputs": []
    }
   ],
   "metadata": {}
  }
 ]
}