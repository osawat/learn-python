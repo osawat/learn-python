{
 "metadata": {
  "name": "",
  "signature": "sha256:bf829cc57a885d5418f80a49f16561d4193b78d12568b4266e087ac0dfb3b037"
 },
 "nbformat": 3,
 "nbformat_minor": 0,
 "worksheets": [
  {
   "cells": [
    {
     "cell_type": "markdown",
     "metadata": {},
     "source": [
      "\u7b2c9\u7ae0\u3000\u8a08\u7b97\u8907\u96d1\u6027\u5165\u9580"
     ]
    },
    {
     "cell_type": "code",
     "collapsed": false,
     "input": [
      "def f(i):\n",
      "    answer = 1\n",
      "    while i >= 1:\n",
      "        answer *= i\n",
      "        i -= 1\n",
      "    return answer\n",
      "print f(100)"
     ],
     "language": "python",
     "metadata": {},
     "outputs": [
      {
       "output_type": "stream",
       "stream": "stdout",
       "text": [
        "93326215443944152681699238856266700490715968264381621468592963895217599993229915608941463976156518286253697920827223758251185210916864000000000000000000000000\n"
       ]
      }
     ],
     "prompt_number": 1
    },
    {
     "cell_type": "code",
     "collapsed": false,
     "input": [
      "def lineSearch(L, x):\n",
      "    for e in L:\n",
      "        if e == x:\n",
      "            return True\n",
      "    return False"
     ],
     "language": "python",
     "metadata": {},
     "outputs": [],
     "prompt_number": 3
    },
    {
     "cell_type": "code",
     "collapsed": false,
     "input": [
      "%time lineSearch(range(100000000, -1, -1), 0)"
     ],
     "language": "python",
     "metadata": {},
     "outputs": [
      {
       "output_type": "stream",
       "stream": "stdout",
       "text": [
        "CPU times: user 13.4 s, sys: 4.77 s, total: 18.2 s\n",
        "Wall time: 23 s\n"
       ]
      },
      {
       "metadata": {},
       "output_type": "pyout",
       "prompt_number": 4,
       "text": [
        "True"
       ]
      }
     ],
     "prompt_number": 4
    },
    {
     "cell_type": "code",
     "collapsed": false,
     "input": [
      "def fact(n):\n",
      "    answer = 1\n",
      "    while n > 1:\n",
      "        answer *= n\n",
      "        n -= 1\n",
      "    return answer\n",
      "print fact(100)"
     ],
     "language": "python",
     "metadata": {},
     "outputs": [
      {
       "output_type": "stream",
       "stream": "stdout",
       "text": [
        "93326215443944152681699238856266700490715968264381621468592963895217599993229915608941463976156518286253697920827223758251185210916864000000000000000000000000\n"
       ]
      }
     ],
     "prompt_number": 8
    },
    {
     "cell_type": "code",
     "collapsed": false,
     "input": [
      "def squareRootExhaustive(x, epsilon):\n",
      "    step = epsilon**2\n",
      "    ans = 0.0\n",
      "    while abs(ans**2 - x) >= epsilon and ans*ans <= x:\n",
      "        ans += step\n",
      "        if ans*ans > x:\n",
      "            raise ValueError\n",
      "    return ans"
     ],
     "language": "python",
     "metadata": {},
     "outputs": [],
     "prompt_number": 10
    },
    {
     "cell_type": "code",
     "collapsed": false,
     "input": [
      "def squareRoot(x, epsilon):\n",
      "    low = 0.0\n",
      "    high = max(1.0, x)\n",
      "    ans = (high + low)/2.0\n",
      "    while abs(ans**2 - x) >= epsilon:\n",
      "        if ans**2 < x:\n",
      "            low = ans\n",
      "        else:\n",
      "            high = ans\n",
      "        ans = (high + low)/2.0\n",
      "    return ans\n",
      "squareRoot(100, 0.0001)"
     ],
     "language": "python",
     "metadata": {},
     "outputs": [
      {
       "metadata": {},
       "output_type": "pyout",
       "prompt_number": 27,
       "text": [
        "10.000002384185791"
       ]
      }
     ],
     "prompt_number": 27
    },
    {
     "cell_type": "code",
     "collapsed": false,
     "input": [
      "save hello.py 23"
     ],
     "language": "python",
     "metadata": {},
     "outputs": [
      {
       "name": "stdout",
       "output_type": "stream",
       "stream": "stdout",
       "text": [
        "File `hello.py` exists. Overwrite (y/[N])?  y\n"
       ]
      },
      {
       "output_type": "stream",
       "stream": "stdout",
       "text": [
        "The following commands were written to file `hello.py`:\n",
        "def squareRoot(x, epsilon):\n",
        "    low = 0.0\n",
        "    high = max(1.0, x)\n",
        "    ans = (high + low)/2.0\n",
        "    while abs(ans**2 - x) >= epsilon:\n",
        "        if ans**2 < x:\n",
        "            low = ans\n",
        "        else:\n",
        "            high = ans\n",
        "        ans = (high + low)/2.0\n",
        "    return ans\n",
        "print squareRoot(100, 0.0001)\n"
       ]
      }
     ],
     "prompt_number": 28
    },
    {
     "cell_type": "code",
     "collapsed": false,
     "input": [
      "def f(x):\n",
      "    ans = 0\n",
      "    for i in range(1000):\n",
      "        ans += 1\n",
      "    print 'Number of addtion so far', ans\n",
      "    for i in range(x):\n",
      "        ans += 1\n",
      "    print 'Number of addtion so far', ans\n",
      "    for i in range(x):\n",
      "        for j in range(x):\n",
      "            ans += 1\n",
      "            ans += 1\n",
      "    print 'Number of addtion so far', ans\n",
      "    return ans\n",
      "f(10)"
     ],
     "language": "python",
     "metadata": {},
     "outputs": [
      {
       "output_type": "stream",
       "stream": "stdout",
       "text": [
        "Number of addtion so far 1000\n",
        "Number of addtion so far 1010\n",
        "Number of addtion so far 1210\n"
       ]
      },
      {
       "metadata": {},
       "output_type": "pyout",
       "prompt_number": 32,
       "text": [
        "1210"
       ]
      }
     ],
     "prompt_number": 32
    },
    {
     "cell_type": "code",
     "collapsed": false,
     "input": [
      "def intToStr(i):\n",
      "    digits = '0123456789'\n",
      "    if i == 0:\n",
      "        return '0'\n",
      "    result = ''\n",
      "    while i > 0:\n",
      "        result = digits[i%10] + result\n",
      "        i = i / 10\n",
      "    return result\n",
      "intToStr(380)"
     ],
     "language": "python",
     "metadata": {},
     "outputs": [
      {
       "metadata": {},
       "output_type": "pyout",
       "prompt_number": 35,
       "text": [
        "'380'"
       ]
      }
     ],
     "prompt_number": 35
    },
    {
     "cell_type": "code",
     "collapsed": false,
     "input": [
      "def addDigits(n):\n",
      "    stringRep = intToStr(n)\n",
      "    val = 0\n",
      "    for c in stringRep:\n",
      "        val += int(c)\n",
      "    return val\n",
      "addDigits(123)"
     ],
     "language": "python",
     "metadata": {},
     "outputs": [
      {
       "metadata": {},
       "output_type": "pyout",
       "prompt_number": 45,
       "text": [
        "6"
       ]
      }
     ],
     "prompt_number": 45
    },
    {
     "cell_type": "code",
     "collapsed": false,
     "input": [
      "def addDigits(s):\n",
      "    val = 0\n",
      "    for c in s:\n",
      "        val += int(c)\n",
      "    return val\n",
      "addDigits('123')"
     ],
     "language": "python",
     "metadata": {},
     "outputs": [
      {
       "metadata": {},
       "output_type": "pyout",
       "prompt_number": 47,
       "text": [
        "6"
       ]
      }
     ],
     "prompt_number": 47
    },
    {
     "cell_type": "code",
     "collapsed": false,
     "input": [
      "def factorial(x):\n",
      "    if x == 1:\n",
      "        return 1\n",
      "    else:\n",
      "        return x * factorial(x - 1)\n",
      "print factorial(5)"
     ],
     "language": "python",
     "metadata": {},
     "outputs": [
      {
       "output_type": "stream",
       "stream": "stdout",
       "text": [
        "120\n"
       ]
      }
     ],
     "prompt_number": 48
    },
    {
     "cell_type": "code",
     "collapsed": false,
     "input": [
      "def isSubset(L1, L2):\n",
      "    for e1 in L1:\n",
      "        matched = False\n",
      "        for e2 in L2:\n",
      "            if e1 == e2:\n",
      "                matched = True\n",
      "                break\n",
      "        if not matched:\n",
      "            return False\n",
      "    return True\n",
      "L1 = [1, 3]\n",
      "L2 = [1, 2, 3, 4]\n",
      "isSubset(L1, L2)"
     ],
     "language": "python",
     "metadata": {},
     "outputs": [
      {
       "metadata": {},
       "output_type": "pyout",
       "prompt_number": 51,
       "text": [
        "True"
       ]
      }
     ],
     "prompt_number": 51
    },
    {
     "cell_type": "code",
     "collapsed": false,
     "input": [
      "def intersect(L1, L2):\n",
      "    tmp = []\n",
      "    for e1 in L1:\n",
      "        for e2 in L2:\n",
      "            if e1 == e2:\n",
      "                tmp.append(e1)\n",
      "    result = []\n",
      "    for e in tmp:\n",
      "        if e not in result:\n",
      "            result.append(e)\n",
      "    return result\n",
      "L1 = [1, 3, 5, 6]\n",
      "L2 = [4, 5, 6]\n",
      "print intersect(L1, L2)"
     ],
     "language": "python",
     "metadata": {},
     "outputs": [
      {
       "output_type": "stream",
       "stream": "stdout",
       "text": [
        "[5, 6]\n"
       ]
      }
     ],
     "prompt_number": 52
    },
    {
     "cell_type": "code",
     "collapsed": false,
     "input": [
      "def getBinaryRep(n, numDigits):\n",
      "    result = ''\n",
      "    while n > 0:\n",
      "        result = str(n%2) + result\n",
      "        n = n//2\n",
      "    if len(result) > numDigits:\n",
      "        raise ValueError('not enough digits')\n",
      "    for i in range(numDigits - len(result)):\n",
      "        result = '0' + result\n",
      "    return result\n",
      "\n",
      "def getPowerset(L):\n",
      "    powerset = []\n",
      "    for i in range(0, 2**len(L)):\n",
      "        binStr = getBinaryRep(i, len(L))\n",
      "        subset = []\n",
      "        for j in range(len(L)):\n",
      "            if binStr[j] == '1':\n",
      "                subset.append(L[j])\n",
      "        powerset.append(subset)\n",
      "    return powerset\n",
      "print getPowerset(['a', 'b', 'c'])"
     ],
     "language": "python",
     "metadata": {},
     "outputs": [
      {
       "output_type": "stream",
       "stream": "stdout",
       "text": [
        "[[], ['c'], ['b'], ['b', 'c'], ['a'], ['a', 'c'], ['a', 'b'], ['a', 'b', 'c']]\n"
       ]
      }
     ],
     "prompt_number": 1
    },
    {
     "cell_type": "markdown",
     "metadata": {},
     "source": [
      "\u7b2c10\u7ae0\u3000\u3044\u304f\u3064\u304b\u306e\u5358\u7d14\u306a\u30a2\u30eb\u30b4\u30ea\u30ba\u30e0\u3068\u30c7\u30fc\u30bf\u69cb\u9020"
     ]
    },
    {
     "cell_type": "code",
     "collapsed": false,
     "input": [
      "def search(L, e):\n",
      "    for i in range(len(L)):\n",
      "        if L[i] == e:\n",
      "            return True\n",
      "    return False\n",
      "\n",
      "print search([1, 2, 3, 4, 5, 6], 5)"
     ],
     "language": "python",
     "metadata": {},
     "outputs": [
      {
       "output_type": "stream",
       "stream": "stdout",
       "text": [
        "True\n"
       ]
      }
     ],
     "prompt_number": 2
    },
    {
     "cell_type": "code",
     "collapsed": false,
     "input": [
      "def search(L, e):\n",
      "    def bSearch(L, e, low, high):\n",
      "        if high == low:\n",
      "            return L[low] == e\n",
      "        mid = (low + high)//2\n",
      "        if L[mid] == e:\n",
      "            return True\n",
      "        elif L[mid] > e:\n",
      "            if low == mid:\n",
      "                return False\n",
      "            else:\n",
      "                return bSearch(L, e, low, mid - 1)\n",
      "        else:\n",
      "            return bSearch(L, e, mid + 1, high)\n",
      "        if len(L) == 0:\n",
      "            return False\n",
      "        else:\n",
      "            return bSearch(L, e, len(L) - 1)"
     ],
     "language": "python",
     "metadata": {},
     "outputs": [],
     "prompt_number": 3
    },
    {
     "cell_type": "code",
     "collapsed": false,
     "input": [
      "def selSort(L):\n",
      "    suffixStart = 0\n",
      "    while suffixStart != len(L):\n",
      "        for i in range(suffixStart, len(L)):\n",
      "            if L[i] < L[suffixStart]:\n",
      "                L[suffixStart], L[i] = L[i], L[suffixStart]\n",
      "        suffixStart += 1"
     ],
     "language": "python",
     "metadata": {},
     "outputs": [],
     "prompt_number": 5
    },
    {
     "cell_type": "code",
     "collapsed": false,
     "input": [
      "def merge(left, right, compare):\n",
      "    result = []\n",
      "    i, j = 0, 0\n",
      "    while i < len(left) and j < len(right):\n",
      "        if compare(left[i], right[i]):\n",
      "            result.append(left[i])\n",
      "            i += 1\n",
      "        else:\n",
      "            result.append(right[j])\n",
      "            j += 1\n",
      "    while ( i < len(left)):\n",
      "        result.append(left[i])\n",
      "        i += 1\n",
      "    while ( j < len(right)):\n",
      "        result.append(right[j])\n",
      "        j += 1\n",
      "    return result\n",
      "\n",
      "import operator\n",
      "def mergeSort(L, compare = operator.lt):\n",
      "    if len(L) < 2:\n",
      "        return L[:]\n",
      "    else:\n",
      "        middle = len(L)//2\n",
      "        left = mergeSort(L[:middle], compare)\n",
      "        right = mergeSort(L[middle:], compare)\n",
      "        return (left, right, compare)"
     ],
     "language": "python",
     "metadata": {},
     "outputs": [],
     "prompt_number": 8
    },
    {
     "cell_type": "code",
     "collapsed": false,
     "input": [
      "def lastNameFirstName(name1, name2):\n",
      "    import string\n",
      "    name1 = string.split(name1, ' ')\n",
      "    name2 = string.split(name2, ' ')\n",
      "    if name1[1] != name2[1]:\n",
      "        return name1[1] < name2[1]\n",
      "    else:\n",
      "        return name1[0] < name2[0]\n",
      "\n",
      "def firstNameLastName(name1, name2):\n",
      "    import string\n",
      "    name1 = string.split(name1, ' ')\n",
      "    name2 = string.split(name2, ' ')\n",
      "    if name1[0] != name2[0]:\n",
      "        return name1[0] < name2[1]\n",
      "    else:\n",
      "        return name1[1] < name2[1]\n",
      "    \n",
      "L = ['Chris Terman', 'Tom brady', 'Eric Grimson', 'Gisele Bundchen']\n",
      "newL = mergeSort(L, lastNameFirstName)\n",
      "print 'Sorted by last name = ', newL\n",
      "newL = mergeSort(L, firstNameLastName)\n",
      "print 'Sorted by first name = ', newL    "
     ],
     "language": "python",
     "metadata": {},
     "outputs": [
      {
       "output_type": "stream",
       "stream": "stdout",
       "text": [
        "Sorted by last name =  ((['Chris Terman'], ['Tom brady'], <function lastNameFirstName at 0x1120625f0>), (['Eric Grimson'], ['Gisele Bundchen'], <function lastNameFirstName at 0x1120625f0>), <function lastNameFirstName at 0x1120625f0>)\n",
        "Sorted by first name =  ((['Chris Terman'], ['Tom brady'], <function firstNameLastName at 0x112062b18>), (['Eric Grimson'], ['Gisele Bundchen'], <function firstNameLastName at 0x112062b18>), <function firstNameLastName at 0x112062b18>)\n"
       ]
      }
     ],
     "prompt_number": 14
    },
    {
     "cell_type": "code",
     "collapsed": false,
     "input": [
      "L = [3, 5, 2]\n",
      "D = {'a':12, 'c':5, 'b':'dog'}\n",
      "print sorted(L)\n",
      "print L\n",
      "L.sort()\n",
      "print L\n",
      "print sorted(D)\n",
      "D.sort()"
     ],
     "language": "python",
     "metadata": {},
     "outputs": [
      {
       "output_type": "stream",
       "stream": "stdout",
       "text": [
        "[2, 3, 5]\n",
        "[3, 5, 2]\n",
        "[2, 3, 5]\n",
        "['a', 'b', 'c']\n"
       ]
      },
      {
       "ename": "AttributeError",
       "evalue": "'dict' object has no attribute 'sort'",
       "output_type": "pyerr",
       "traceback": [
        "\u001b[0;31m---------------------------------------------------------------------------\u001b[0m\n\u001b[0;31mAttributeError\u001b[0m                            Traceback (most recent call last)",
        "\u001b[0;32m<ipython-input-19-a868f5da5fa6>\u001b[0m in \u001b[0;36m<module>\u001b[0;34m()\u001b[0m\n\u001b[1;32m      6\u001b[0m \u001b[0;32mprint\u001b[0m \u001b[0mL\u001b[0m\u001b[0;34m\u001b[0m\u001b[0m\n\u001b[1;32m      7\u001b[0m \u001b[0;32mprint\u001b[0m \u001b[0msorted\u001b[0m\u001b[0;34m(\u001b[0m\u001b[0mD\u001b[0m\u001b[0;34m)\u001b[0m\u001b[0;34m\u001b[0m\u001b[0m\n\u001b[0;32m----> 8\u001b[0;31m \u001b[0mD\u001b[0m\u001b[0;34m.\u001b[0m\u001b[0msort\u001b[0m\u001b[0;34m(\u001b[0m\u001b[0;34m)\u001b[0m\u001b[0;34m\u001b[0m\u001b[0m\n\u001b[0m",
        "\u001b[0;31mAttributeError\u001b[0m: 'dict' object has no attribute 'sort'"
       ]
      }
     ],
     "prompt_number": 19
    },
    {
     "cell_type": "code",
     "collapsed": false,
     "input": [
      "L = [[1, 2, 3], (3, 2, 1, 0), 'abc']\n",
      "print sorted(L, key = len, reverse=True)"
     ],
     "language": "python",
     "metadata": {},
     "outputs": [
      {
       "output_type": "stream",
       "stream": "stdout",
       "text": [
        "[(3, 2, 1, 0), [1, 2, 3], 'abc']\n"
       ]
      }
     ],
     "prompt_number": 20
    },
    {
     "cell_type": "code",
     "collapsed": false,
     "input": [
      "class intDict(object):\n",
      "    def __init__(self, numBuckets):\n",
      "        self.buckets = []\n",
      "        self.numBuckets = numBuckets\n",
      "        for i in range(numBuckets):\n",
      "            self.buckets.append([])\n",
      "    def addEntry(self, dictKey, dictVal):\n",
      "        hashBucket = self.buckets[dictKey%self.numBuckets]\n",
      "        for i in range(len(hashBucket)):\n",
      "            if hashBucket[i][0] == dictKey:\n",
      "                hashBucket[i] = (dictKey, dictVal)\n",
      "                return\n",
      "        hashBucket.append((dictKey, dictVal))\n",
      "    def getValue(self, dictKey):\n",
      "        hashBucket = self.buckets[dictKey%self.numBuckets]\n",
      "        for e in hashBucket:\n",
      "            if e[0] == dictKey:\n",
      "                return e[1]\n",
      "        return None\n",
      "    def __str__(self):\n",
      "        result = '{'\n",
      "        for b in self.buckets:\n",
      "            for e in b:\n",
      "                result = result + str(e[0]) + ' : ' + str(e[1]) + '.'\n",
      "        return result[:-1] + '}'"
     ],
     "language": "python",
     "metadata": {},
     "outputs": [],
     "prompt_number": 21
    },
    {
     "cell_type": "code",
     "collapsed": false,
     "input": [
      "import random\n",
      "\n",
      "D = intDict(29)\n",
      "for i in range(20):\n",
      "    key = random.randint(0, 10**5)\n",
      "    D.addEntry(key, i)\n",
      "print 'The value of the intDict is: '\n",
      "print D\n",
      "print '\\n', 'The buckets are: '\n",
      "for hashBucket in D.buckets:\n",
      "    print '   ', hashBucket"
     ],
     "language": "python",
     "metadata": {},
     "outputs": [
      {
       "output_type": "stream",
       "stream": "stdout",
       "text": [
        "The value of the intDict is: \n",
        "{80040 : 8.53041 : 9.52693 : 16.19461 : 11.37035 : 12.56030 : 17.68820 : 2.71227 : 7.19202 : 13.38488 : 15.48088 : 19.88374 : 10.13613 : 18.2657 : 4.3240 : 6.87196 : 5.30503 : 14.57533 : 1.99933 : 0.39526 : 3}\n",
        "\n",
        "The buckets are: \n",
        "    [(80040, 8), (53041, 9), (52693, 16)]\n",
        "    []\n",
        "    [(19461, 11), (37035, 12), (56030, 17)]\n",
        "    [(68820, 2), (71227, 7)]\n",
        "    [(19202, 13)]\n",
        "    [(38488, 15)]\n",
        "    [(48088, 19)]\n",
        "    []\n",
        "    []\n",
        "    []\n",
        "    []\n",
        "    [(88374, 10)]\n",
        "    [(13613, 18)]\n",
        "    []\n",
        "    []\n",
        "    []\n",
        "    []\n",
        "    []\n",
        "    [(2657, 4)]\n",
        "    []\n",
        "    []\n",
        "    [(3240, 6)]\n",
        "    [(87196, 5)]\n",
        "    []\n",
        "    [(30503, 14)]\n",
        "    []\n",
        "    [(57533, 1)]\n",
        "    []\n",
        "    [(99933, 0), (39526, 3)]\n"
       ]
      }
     ],
     "prompt_number": 26
    },
    {
     "cell_type": "code",
     "collapsed": false,
     "input": [],
     "language": "python",
     "metadata": {},
     "outputs": []
    }
   ],
   "metadata": {}
  }
 ]
}