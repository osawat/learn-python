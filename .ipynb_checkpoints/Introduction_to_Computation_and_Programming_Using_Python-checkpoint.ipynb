{
 "nbformat": 3, 
 "nbformat_minor": 0, 
 "worksheets": [
  {
   "cells": [
    {
     "source": [
      "\u7b2c3\u7ae0\u3000\u7c21\u5358\u306a\u7b97\u8853\u30d7\u30ed\u30b0\u30e9\u30e0"
     ], 
     "cell_type": "markdown", 
     "metadata": {}
    }, 
    {
     "cell_type": "code", 
     "language": "python", 
     "outputs": [
      {
       "output_type": "stream", 
       "name": "stdout", 
       "stream": "stdout", 
       "text": [
        "Enter an integer: 27\n"
       ]
      }, 
      {
       "output_type": "stream", 
       "stream": "stdout", 
       "text": [
        "27  is not a perfect cube\n", 
        "27  is not a perfect cube\n", 
        "Cube root of  27  is  3\n"
       ]
      }
     ], 
     "collapsed": false, 
     "prompt_number": 4, 
     "input": [
      "x = int(raw_input('Enter an integer: '))\n", 
      "ans = 0\n", 
      "while ans**3 < abs(x):\n", 
      "    ans = ans + 1\n", 
      "    if ans**3 != abs(x):\n", 
      "        print x, ' is not a perfect cube'\n", 
      "    else:\n", 
      "        if x < 0:\n", 
      "            ans = -ans\n", 
      "        print 'Cube root of ', x, ' is ', ans"
     ], 
     "metadata": {}
    }, 
    {
     "cell_type": "code", 
     "language": "python", 
     "outputs": [
      {
       "output_type": "stream", 
       "name": "stdout", 
       "stream": "stdout", 
       "text": [
        "Enter a positive integer: 5\n"
       ]
      }, 
      {
       "output_type": "stream", 
       "stream": "stdout", 
       "text": [
        "5\n"
       ]
      }
     ], 
     "collapsed": false, 
     "prompt_number": 6, 
     "input": [
      "max = int(raw_input('Enter a positive integer: '))\n", 
      "i = 0\n", 
      "while i < max:\n", 
      "    i += 1\n", 
      "print i"
     ], 
     "metadata": {}
    }, 
    {
     "cell_type": "code", 
     "language": "python", 
     "outputs": [
      {
       "output_type": "stream", 
       "stream": "stdout", 
       "text": [
        "0\n", 
        "1\n", 
        "2\n", 
        "3\n"
       ]
      }
     ], 
     "collapsed": false, 
     "prompt_number": 7, 
     "input": [
      "x = 4\n", 
      "for i in range(0, x):\n", 
      "    print i"
     ], 
     "metadata": {}
    }, 
    {
     "cell_type": "code", 
     "language": "python", 
     "outputs": [
      {
       "output_type": "stream", 
       "stream": "stdout", 
       "text": [
        "0\n", 
        "1\n", 
        "2\n", 
        "3\n"
       ]
      }
     ], 
     "collapsed": false, 
     "prompt_number": 8, 
     "input": [
      "x = 4\n", 
      "for i in range(0, x):\n", 
      "    print i\n", 
      "    x = 5"
     ], 
     "metadata": {}
    }, 
    {
     "cell_type": "code", 
     "language": "python", 
     "outputs": [
      {
       "output_type": "stream", 
       "stream": "stdout", 
       "text": [
        "0\n", 
        "1\n", 
        "2\n", 
        "3\n", 
        "0\n", 
        "1\n", 
        "0\n", 
        "1\n", 
        "0\n", 
        "1\n"
       ]
      }
     ], 
     "collapsed": false, 
     "prompt_number": 9, 
     "input": [
      "x = 4\n", 
      "for j in range(x):\n", 
      "    for i in range(x):\n", 
      "        print i\n", 
      "        x = 2"
     ], 
     "metadata": {}
    }, 
    {
     "cell_type": "code", 
     "language": "python", 
     "outputs": [
      {
       "output_type": "stream", 
       "name": "stdout", 
       "stream": "stdout", 
       "text": [
        "Enter an integer : 27\n"
       ]
      }, 
      {
       "output_type": "stream", 
       "stream": "stdout", 
       "text": [
        "Cube root of  27  is  3\n"
       ]
      }
     ], 
     "collapsed": false, 
     "prompt_number": 10, 
     "input": [
      "x = int(raw_input('Enter an integer : '))\n", 
      "for ans in range(0, abs(x) + 1):\n", 
      "    if ans**3 >= abs(x):\n", 
      "        break\n", 
      "if ans**3 != abs(x):\n", 
      "    print x, ' is not a perfect cube'\n", 
      "else:\n", 
      "    if x < 0:\n", 
      "        ans = -ans\n", 
      "    print 'Cube root of ', x, ' is ', ans"
     ], 
     "metadata": {}
    }, 
    {
     "cell_type": "code", 
     "language": "python", 
     "outputs": [
      {
       "output_type": "stream", 
       "stream": "stdout", 
       "text": [
        "numGuesses =  49990\n", 
        "4.999  is close to square root of  25\n"
       ]
      }
     ], 
     "collapsed": false, 
     "prompt_number": 11, 
     "input": [
      "x = 25\n", 
      "epsilon = 0.01\n", 
      "step = epsilon**2\n", 
      "numGuesses = 0\n", 
      "ans = 0.0\n", 
      "while abs(ans**2 - x) >= epsilon and ans <= x:\n", 
      "    ans += step\n", 
      "    numGuesses += 1\n", 
      "print 'numGuesses = ', numGuesses\n", 
      "if abs(ans**2 - x) >= epsilon:\n", 
      "    print 'Failed on square root of ', x\n", 
      "else:\n", 
      "    print ans, ' is close to square root of ', x"
     ], 
     "metadata": {}
    }, 
    {
     "cell_type": "code", 
     "language": "python", 
     "outputs": [
      {
       "output_type": "stream", 
       "stream": "stdout", 
       "text": [
        "low =  0.0  high =  25  ans =  12.5\n", 
        "low =  0.0  high =  12.5  ans =  6.25\n", 
        "low =  0.0  high =  6.25  ans =  3.125\n", 
        "low =  3.125  high =  6.25  ans =  4.6875\n", 
        "low =  4.6875  high =  6.25  ans =  5.46875\n", 
        "low =  4.6875  high =  5.46875  ans =  5.078125\n", 
        "low =  4.6875  high =  5.078125  ans =  4.8828125\n", 
        "low =  4.8828125  high =  5.078125  ans =  4.98046875\n", 
        "low =  4.98046875  high =  5.078125  ans =  5.029296875\n", 
        "low =  4.98046875  high =  5.029296875  ans =  5.0048828125\n", 
        "low =  4.98046875  high =  5.0048828125  ans =  4.99267578125\n", 
        "low =  4.99267578125  high =  5.0048828125  ans =  4.99877929688\n", 
        "low =  4.99877929688  high =  5.0048828125  ans =  5.00183105469\n", 
        "numGuesses =  13\n", 
        "5.00030517578  is close to square root of  25\n"
       ]
      }
     ], 
     "collapsed": false, 
     "prompt_number": 12, 
     "input": [
      "x = 25\n", 
      "epsilon = 0.01\n", 
      "numGuesses = 0\n", 
      "low = 0.0\n", 
      "high = x #high = max(1.0, x)\n", 
      "ans = (low + high)/2.0\n", 
      "while abs(ans**2  -x ) >= epsilon:\n", 
      "    print 'low = ', low, ' high = ', high, ' ans = ', ans\n", 
      "    numGuesses += 1\n", 
      "    if ans**2 < x:\n", 
      "        low = ans\n", 
      "    else:\n", 
      "        high = ans\n", 
      "    ans = (low + high)/2.0\n", 
      "print 'numGuesses = ', numGuesses\n", 
      "print ans, ' is close to square root of ', x"
     ], 
     "metadata": {}
    }, 
    {
     "cell_type": "code", 
     "language": "python", 
     "outputs": [
      {
       "output_type": "stream", 
       "stream": "stdout", 
       "text": [
        "1.0  is not 1.0\n"
       ]
      }
     ], 
     "collapsed": false, 
     "prompt_number": 13, 
     "input": [
      "x = 0.0\n", 
      "for i in range(10):\n", 
      "    x += 0.1\n", 
      "if x == 1.0:\n", 
      "    print x, ' = x'\n", 
      "else:\n", 
      "    print x, ' is not 1.0'"
     ], 
     "metadata": {}
    }, 
    {
     "cell_type": "code", 
     "language": "python", 
     "outputs": [
      {
       "output_type": "stream", 
       "stream": "stdout", 
       "text": [
        "1.0  is not 1.0\n"
       ]
      }
     ], 
     "collapsed": false, 
     "prompt_number": 15, 
     "input": [
      "x = 0\n", 
      "for i in range(10):\n", 
      "    x += 0.1\n", 
      "if x == 1.0:\n", 
      "    print x, ' = 1.0'\n", 
      "else:\n", 
      "    print x, ' is not 1.0'"
     ], 
     "metadata": {}
    }, 
    {
     "cell_type": "code", 
     "language": "python", 
     "outputs": [
      {
       "output_type": "stream", 
       "stream": "stdout", 
       "text": [
        "Square root of  24.0  is about  4.89898874321\n"
       ]
      }
     ], 
     "collapsed": false, 
     "prompt_number": 16, 
     "input": [
      "# \u5e73\u65b9\u6839\u3092\u6c42\u3081\u308b\u305f\u3081\u306e\u30cb\u30e5\u30fc\u30c8\u30f3\u30fc\u30e9\u30d5\u30bd\u30f3\u6cd5\n", 
      "epsilon = 0.01\n", 
      "k = 24.0\n", 
      "guess = k/2.0\n", 
      "while abs(guess*guess - k) >= epsilon:\n", 
      "    guess = guess - (((guess**2) - k)/(2*guess))\n", 
      "print 'Square root of ', k, ' is about ', guess"
     ], 
     "metadata": {}
    }, 
    {
     "source": [
      "\u7b2c4\u7ae0\u3000\u95a2\u6570\u3001\u30b9\u30b3\u30fc\u30d7\u3001\u62bd\u8c61\u5316"
     ], 
     "cell_type": "markdown", 
     "metadata": {}
    }, 
    {
     "cell_type": "code", 
     "language": "python", 
     "outputs": [], 
     "collapsed": false, 
     "prompt_number": 25, 
     "input": [
      "def max(x, y):\n", 
      "    if x > y:\n", 
      "        return x\n", 
      "    else:\n", 
      "        return y"
     ], 
     "metadata": {}
    }, 
    {
     "cell_type": "code", 
     "language": "python", 
     "outputs": [], 
     "collapsed": false, 
     "prompt_number": 27, 
     "input": [
      "def printName(firstName, lastName, reverse=False):\n", 
      "    if reverse:\n", 
      "        print lastName + ',' + firstName\n", 
      "    else:\n", 
      "        print firstName + ',' + lastName"
     ], 
     "metadata": {}
    }, 
    {
     "cell_type": "code", 
     "language": "python", 
     "outputs": [
      {
       "output_type": "stream", 
       "stream": "stdout", 
       "text": [
        "Taro,Bando\n"
       ]
      }
     ], 
     "collapsed": false, 
     "prompt_number": 29, 
     "input": [
      "printName('Bando', 'Taro', True)"
     ], 
     "metadata": {}
    }, 
    {
     "cell_type": "code", 
     "language": "python", 
     "outputs": [], 
     "collapsed": false, 
     "prompt_number": 30, 
     "input": [
      "def f(x):\n", 
      "    y = 1\n", 
      "    x += y\n", 
      "    print 'x = ', x\n", 
      "    return x"
     ], 
     "metadata": {}
    }, 
    {
     "cell_type": "code", 
     "language": "python", 
     "outputs": [
      {
       "output_type": "stream", 
       "stream": "stdout", 
       "text": [
        "x =  4\n", 
        "z =  4\n", 
        "x =  3\n", 
        "y =  2\n"
       ]
      }
     ], 
     "collapsed": false, 
     "prompt_number": 32, 
     "input": [
      "x = 3\n", 
      "y = 2\n", 
      "z = f(x)\n", 
      "print 'z = ', z\n", 
      "print 'x = ', x\n", 
      "print 'y = ', y"
     ], 
     "metadata": {}
    }, 
    {
     "cell_type": "code", 
     "language": "python", 
     "outputs": [
      {
       "output_type": "stream", 
       "stream": "stdout", 
       "text": [
        "x =  4\n", 
        "z =  4\n", 
        "x =  abc\n", 
        "x =  4\n", 
        "x =  3\n", 
        "z =  <function g at 0x106e2cf50>\n", 
        "x =  abc\n"
       ]
      }
     ], 
     "collapsed": false, 
     "prompt_number": 34, 
     "input": [
      "def f(x):\n", 
      "    def g():\n", 
      "        x = 'abc'\n", 
      "        print 'x = ', x\n", 
      "    def h():\n", 
      "        z = x\n", 
      "        print 'z = ', z\n", 
      "    x += 1\n", 
      "    print 'x = ', x\n", 
      "    h()\n", 
      "    g()\n", 
      "    print 'x = ', x\n", 
      "    return g\n", 
      "\n", 
      "x = 3\n", 
      "z = f(x)\n", 
      "print 'x = ', x\n", 
      "print 'z = ', z\n", 
      "z()"
     ], 
     "metadata": {}
    }, 
    {
     "cell_type": "code", 
     "language": "python", 
     "outputs": [
      {
       "output_type": "stream", 
       "stream": "stdout", 
       "text": [
        "3\n"
       ]
      }, 
      {
       "ename": "UnboundLocalError", 
       "evalue": "local variable 'x' referenced before assignment", 
       "traceback": [
        "\u001b[0;31m---------------------------------------------------------------------------\u001b[0m\n\u001b[0;31mUnboundLocalError\u001b[0m                         Traceback (most recent call last)", 
        "\u001b[0;32m<ipython-input-36-be7cf0fc7064>\u001b[0m in \u001b[0;36m<module>\u001b[0;34m()\u001b[0m\n\u001b[1;32m      7\u001b[0m \u001b[0mf\u001b[0m\u001b[0;34m(\u001b[0m\u001b[0;34m)\u001b[0m\u001b[0;34m\u001b[0m\u001b[0m\n\u001b[1;32m      8\u001b[0m \u001b[0mx\u001b[0m \u001b[0;34m=\u001b[0m \u001b[0;36m3\u001b[0m\u001b[0;34m\u001b[0m\u001b[0m\n\u001b[0;32m----> 9\u001b[0;31m \u001b[0mg\u001b[0m\u001b[0;34m(\u001b[0m\u001b[0;34m)\u001b[0m\u001b[0;34m\u001b[0m\u001b[0m\n\u001b[0m", 
        "\u001b[0;32m<ipython-input-36-be7cf0fc7064>\u001b[0m in \u001b[0;36mg\u001b[0;34m()\u001b[0m\n\u001b[1;32m      2\u001b[0m     \u001b[0;32mprint\u001b[0m \u001b[0mx\u001b[0m\u001b[0;34m\u001b[0m\u001b[0m\n\u001b[1;32m      3\u001b[0m \u001b[0;32mdef\u001b[0m \u001b[0mg\u001b[0m\u001b[0;34m(\u001b[0m\u001b[0;34m)\u001b[0m\u001b[0;34m:\u001b[0m\u001b[0;34m\u001b[0m\u001b[0m\n\u001b[0;32m----> 4\u001b[0;31m     \u001b[0;32mprint\u001b[0m \u001b[0mx\u001b[0m\u001b[0;34m\u001b[0m\u001b[0m\n\u001b[0m\u001b[1;32m      5\u001b[0m     \u001b[0mx\u001b[0m \u001b[0;34m=\u001b[0m \u001b[0;36m1\u001b[0m\u001b[0;34m\u001b[0m\u001b[0m\n\u001b[1;32m      6\u001b[0m \u001b[0mx\u001b[0m \u001b[0;34m=\u001b[0m \u001b[0;36m3\u001b[0m\u001b[0;34m\u001b[0m\u001b[0m\n", 
        "\u001b[0;31mUnboundLocalError\u001b[0m: local variable 'x' referenced before assignment"
       ], 
       "output_type": "pyerr"
      }
     ], 
     "collapsed": false, 
     "prompt_number": 36, 
     "input": [
      "def f():\n", 
      "    print x\n", 
      "def g():\n", 
      "    print x\n", 
      "    x = 1\n", 
      "x = 3\n", 
      "f()\n", 
      "x = 3\n", 
      "g()"
     ], 
     "metadata": {}
    }, 
    {
     "cell_type": "code", 
     "language": "python", 
     "outputs": [], 
     "collapsed": false, 
     "prompt_number": 37, 
     "input": [
      "def findRoot(x, power, epsilon):\n", 
      "    if x < 0 and power%2 == 0:\n", 
      "        return None\n", 
      "    low = min(-1.0, x)\n", 
      "    high = max(1.0, x)\n", 
      "    ans = (low + high)/2.0\n", 
      "    while abs(ans**power - x ) >= epsilon:\n", 
      "        if ans**power < x:\n", 
      "            low = ans\n", 
      "        else:\n", 
      "            high = ans\n", 
      "        ans = (low + high)/2.0\n", 
      "    return ans\n", 
      "\n", 
      "def testFindRoot():\n", 
      "    epsilon = 0.0001\n", 
      "    for x in (0.25, -0.25, 2, -2, 8, -8):\n", 
      "        for power in range(1, 4):\n", 
      "            print 'Testing x = ' + str(x) + ' and power = ' + str(power)\n", 
      "            result = findRoot(x, power, epsilon)\n", 
      "            if result == None:\n", 
      "                print '   No root'\n", 
      "            else:\n", 
      "                print '   ', result**power, ' ~= ', x"
     ], 
     "metadata": {}
    }, 
    {
     "cell_type": "code", 
     "language": "python", 
     "outputs": [
      {
       "output_type": "stream", 
       "stream": "stdout", 
       "text": [
        "Testing x = 0.25 and power = 1\n", 
        "    0.25  ~=  0.25\n", 
        "Testing x = 0.25 and power = 2\n", 
        "    0.25  ~=  0.25\n", 
        "Testing x = 0.25 and power = 3\n", 
        "    0.249907490797  ~=  0.25\n", 
        "Testing x = -0.25 and power = 1\n", 
        "    -0.25  ~=  -0.25\n", 
        "Testing x = -0.25 and power = 2\n", 
        "   No root\n", 
        "Testing x = -0.25 and power = 3\n", 
        "    -0.249907490797  ~=  -0.25\n", 
        "Testing x = 2 and power = 1\n", 
        "    1.99990844727  ~=  2\n", 
        "Testing x = 2 and power = 2\n", 
        "    2.00009063259  ~=  2\n", 
        "Testing x = 2 and power = 3\n", 
        "    2.00005915565  ~=  2\n", 
        "Testing x = -2 and power = 1\n", 
        "    -1.99990844727  ~=  -2\n", 
        "Testing x = -2 and power = 2\n", 
        "   No root\n", 
        "Testing x = -2 and power = 3\n", 
        "    -2.00005915565  ~=  -2\n", 
        "Testing x = 8 and power = 1\n", 
        "    7.99993133545  ~=  8\n", 
        "Testing x = 8 and power = 2\n", 
        "    7.99999568007  ~=  8\n", 
        "Testing x = 8 and power = 3\n", 
        "    8.00006866475  ~=  8\n", 
        "Testing x = -8 and power = 1\n", 
        "    -7.99993133545  ~=  -8\n", 
        "Testing x = -8 and power = 2\n", 
        "   No root\n", 
        "Testing x = -8 and power = 3\n", 
        "    -8.00006866475  ~=  -8\n"
       ]
      }
     ], 
     "collapsed": false, 
     "prompt_number": 38, 
     "input": [
      "testFindRoot()"
     ], 
     "metadata": {}
    }, 
    {
     "cell_type": "code", 
     "language": "python", 
     "outputs": [], 
     "collapsed": false, 
     "prompt_number": 39, 
     "input": [
      "def factI(n):\n", 
      "    result = 1\n", 
      "    while n > 1:\n", 
      "        result = result * n\n", 
      "        n -= 1\n", 
      "    return result\n", 
      "\n", 
      "def factR(n):\n", 
      "    if n == 1:\n", 
      "        return n\n", 
      "    else:\n", 
      "        return n*factR(n - 1)"
     ], 
     "metadata": {}
    }, 
    {
     "cell_type": "code", 
     "language": "python", 
     "outputs": [
      {
       "output_type": "stream", 
       "stream": "stdout", 
       "text": [
        "factI(5) 120\n", 
        "factR(5) 120\n"
       ]
      }
     ], 
     "collapsed": false, 
     "prompt_number": 40, 
     "input": [
      "print 'factI(5)', factI(5)\n", 
      "print 'factR(5)', factR(5)"
     ], 
     "metadata": {}
    }, 
    {
     "cell_type": "code", 
     "language": "python", 
     "outputs": [], 
     "collapsed": false, 
     "prompt_number": 41, 
     "input": [
      "def fib(n):\n", 
      "    if n == 0 or n == 1:\n", 
      "        return 1\n", 
      "    else:\n", 
      "        return fib(n - 1) + fib(n - 2)\n", 
      "\n", 
      "def testFib(n):\n", 
      "    for i in range(n + 1):\n", 
      "        print 'fib of ', i, ' = ', fib(i)"
     ], 
     "metadata": {}
    }, 
    {
     "cell_type": "code", 
     "language": "python", 
     "outputs": [
      {
       "output_type": "stream", 
       "stream": "stdout", 
       "text": [
        "fib of  0  =  1\n", 
        "fib of  1  =  1\n", 
        "fib of  2  =  2\n", 
        "fib of  3  =  3\n", 
        "fib of  4  =  5\n", 
        "fib of  5  =  8\n"
       ]
      }
     ], 
     "collapsed": false, 
     "prompt_number": 42, 
     "input": [
      "testFib(5)"
     ], 
     "metadata": {}
    }, 
    {
     "cell_type": "code", 
     "language": "python", 
     "outputs": [], 
     "collapsed": false, 
     "prompt_number": 43, 
     "input": [
      "def isPalindrome(s):\n", 
      "    def toChars(s):\n", 
      "        s = s.lower()\n", 
      "        letters = ''\n", 
      "        for c in s:\n", 
      "            if c in 'abcdefghijklmnopqrstuvwxyz ':\n", 
      "                letters += c\n", 
      "        return letters\n", 
      "    \n", 
      "    def isPal(s):\n", 
      "        if len(s) <= 1:\n", 
      "            return True\n", 
      "        else:\n", 
      "            return s[0] == s[-1] and isPal(s[1:-1])\n", 
      "    return isPal(toChars(s))"
     ], 
     "metadata": {}
    }, 
    {
     "cell_type": "code", 
     "language": "python", 
     "outputs": [
      {
       "output_type": "stream", 
       "name": "stdout", 
       "stream": "stdout", 
       "text": [
        "Enter name: TARO\n"
       ]
      }, 
      {
       "output_type": "stream", 
       "name": "stdout", 
       "stream": "stdout", 
       "text": [
        "Enter name: JIRO\n"
       ]
      }
     ], 
     "collapsed": false, 
     "prompt_number": 48, 
     "input": [
      "nameHandle = open('kids', 'w')\n", 
      "for i in range(2):\n", 
      "    name = raw_input('Enter name: ')\n", 
      "    nameHandle.write(name + '\\n')\n", 
      "nameHandle.close()"
     ], 
     "metadata": {}
    }, 
    {
     "cell_type": "code", 
     "language": "python", 
     "outputs": [
      {
       "output_type": "stream", 
       "stream": "stdout", 
       "text": [
        "TARO\n", 
        "\n", 
        "JIRO\n", 
        "\n"
       ]
      }
     ], 
     "collapsed": false, 
     "prompt_number": 49, 
     "input": [
      "nameHandle = open('kids', 'r')\n", 
      "for line in nameHandle:\n", 
      "    print line\n", 
      "nameHandle.close()"
     ], 
     "metadata": {}
    }, 
    {
     "cell_type": "code", 
     "language": "python", 
     "outputs": [
      {
       "output_type": "stream", 
       "stream": "stdout", 
       "text": [
        "TARO\n", 
        "JIRO\n", 
        "Michel\n", 
        "Mark\n", 
        "Michel\n", 
        "Mark\n"
       ]
      }
     ], 
     "collapsed": false, 
     "prompt_number": 51, 
     "input": [
      "nameHandle = open('kids', 'a')\n", 
      "nameHandle.write('Michel\\n')\n", 
      "nameHandle.write('Mark\\n')\n", 
      "nameHandle.close()\n", 
      "nameHandle = open('kids', 'r')\n", 
      "for line in nameHandle:\n", 
      "    print line[:-1] # \u6539\u884c\u3092\u5916\u3059\n", 
      "nameHandle.close()"
     ], 
     "metadata": {}
    }, 
    {
     "source": [
      "\u7b2c5\u7ae0\u3000\u69cb\u9020\u578b\u3001\u53ef\u5909\u6027\u3068\u9ad8\u968e\u95a2\u6570"
     ], 
     "cell_type": "markdown", 
     "metadata": {}
    }, 
    {
     "cell_type": "code", 
     "language": "python", 
     "outputs": [
      {
       "output_type": "stream", 
       "stream": "stdout", 
       "text": [
        "()\n", 
        "(1, 'two', 3)\n"
       ]
      }
     ], 
     "collapsed": false, 
     "prompt_number": 52, 
     "input": [
      "t1 = ()\n", 
      "t2 = (1, 'two', 3)\n", 
      "print t1\n", 
      "print t2"
     ], 
     "metadata": {}
    }, 
    {
     "cell_type": "code", 
     "language": "python", 
     "outputs": [
      {
       "output_type": "stream", 
       "stream": "stdout", 
       "text": [
        "((1, 'two', 3), 3.25)\n", 
        "(1, 'two', 3, (1, 'two', 3), 3.25)\n", 
        "(1, 'two', 3)\n", 
        "(3, (1, 'two', 3), 3.25)\n"
       ]
      }
     ], 
     "collapsed": false, 
     "prompt_number": 53, 
     "input": [
      "t1 = (1, 'two', 3)\n", 
      "t2 = (t1, 3.25)\n", 
      "print t2\n", 
      "print (t1 + t2)\n", 
      "print (t1 + t2)[3]\n", 
      "print (t1 + t2)[2:5]"
     ], 
     "metadata": {}
    }, 
    {
     "cell_type": "code", 
     "language": "python", 
     "outputs": [
      {
       "output_type": "stream", 
       "stream": "stdout", 
       "text": [
        "(1, 2, 4, 5, 10, 20)\n", 
        "42\n"
       ]
      }
     ], 
     "collapsed": false, 
     "prompt_number": 55, 
     "input": [
      "def findDivisors(n1, n2):\n", 
      "    divisors = ()\n", 
      "    for i in range(1, min(n1, n2) + 1):\n", 
      "        if n1%i == 0 and n2%i == 0:\n", 
      "            divisors = divisors + (i,) #<=== \u2605\n", 
      "    return divisors\n", 
      "\n", 
      "divisors = findDivisors(20, 100)\n", 
      "print divisors\n", 
      "total = 0\n", 
      "for d in divisors:\n", 
      "    total += d\n", 
      "print total"
     ], 
     "metadata": {}
    }, 
    {
     "cell_type": "code", 
     "language": "python", 
     "outputs": [], 
     "collapsed": false, 
     "prompt_number": 56, 
     "input": [
      "def findExtreameDivisors(n1, n2):\n", 
      "    divisors = ()\n", 
      "    minVal, maxVal = None, None\n", 
      "    for i in range(2, min(n1, n2) + 1):\n", 
      "        if n1%i == 0 and n2%i == 0:\n", 
      "            if minVal == None or i < minVal:\n", 
      "                minVal = i\n", 
      "            if maxVal == None or i > maxVal:\n", 
      "                maxVal = i\n", 
      "    return (minVal, maxVal)"
     ], 
     "metadata": {}
    }, 
    {
     "cell_type": "code", 
     "language": "python", 
     "outputs": [
      {
       "output_type": "stream", 
       "stream": "stdout", 
       "text": [
        "minDivisor =  2\n", 
        "maxDivisor =  100\n"
       ]
      }
     ], 
     "collapsed": false, 
     "prompt_number": 57, 
     "input": [
      "minDivisor, maxDivisor = findExtreameDivisors(100, 200)\n", 
      "print 'minDivisor = ', minDivisor\n", 
      "print 'maxDivisor = ', maxDivisor"
     ], 
     "metadata": {}
    }, 
    {
     "cell_type": "code", 
     "language": "python", 
     "outputs": [
      {
       "output_type": "stream", 
       "stream": "stdout", 
       "text": [
        "I did it all\n", 
        "4\n", 
        "love\n"
       ]
      }
     ], 
     "collapsed": false, 
     "prompt_number": 58, 
     "input": [
      "L = ['I did it all', 4, 'love']\n", 
      "for i in range(len(L)):\n", 
      "    print L[i]"
     ], 
     "metadata": {}
    }, 
    {
     "cell_type": "code", 
     "language": "python", 
     "outputs": [], 
     "collapsed": false, 
     "prompt_number": 60, 
     "input": [
      "Techs = ['MIT', 'Caltech']\n", 
      "Ivys = ['Harvard', 'Yale', 'Brown']"
     ], 
     "metadata": {}
    }, 
    {
     "cell_type": "code", 
     "language": "python", 
     "outputs": [], 
     "collapsed": false, 
     "prompt_number": 61, 
     "input": [
      "Univs = [Techs, Ivys]\n", 
      "Univs1 = [['MIT', 'Caltech'], ['Harvard', 'Yale', 'Brown']]"
     ], 
     "metadata": {}
    }, 
    {
     "cell_type": "code", 
     "language": "python", 
     "outputs": [
      {
       "output_type": "stream", 
       "stream": "stdout", 
       "text": [
        "Univs  =  [['MIT', 'Caltech'], ['Harvard', 'Yale', 'Brown']]\n", 
        "Univs1 =  [['MIT', 'Caltech'], ['Harvard', 'Yale', 'Brown']]\n", 
        "True\n"
       ]
      }
     ], 
     "collapsed": false, 
     "prompt_number": 62, 
     "input": [
      "print 'Univs  = ', Univs\n", 
      "print 'Univs1 = ', Univs1\n", 
      "print Univs == Univs1"
     ], 
     "metadata": {}
    }, 
    {
     "cell_type": "code", 
     "language": "python", 
     "outputs": [
      {
       "output_type": "stream", 
       "stream": "stdout", 
       "text": [
        "True\n", 
        "False\n", 
        "id(Univs) =  4392458720\n", 
        "id(Univs1) =  4392472448\n"
       ]
      }
     ], 
     "collapsed": false, 
     "prompt_number": 64, 
     "input": [
      "print Univs == Univs1\n", 
      "print id(Univs) == id(Univs1)\n", 
      "print 'id(Univs) = ', id(Univs)\n", 
      "print 'id(Univs1) = ', id(Univs1)"
     ], 
     "metadata": {}
    }, 
    {
     "cell_type": "code", 
     "language": "python", 
     "outputs": [
      {
       "output_type": "stream", 
       "stream": "stdout", 
       "text": [
        "Univs contains  ['MIT', 'Caltech']\n", 
        "     which coutanis\n", 
        "      MIT\n", 
        "      Caltech\n", 
        "Univs contains  ['Harvard', 'Yale', 'Brown']\n", 
        "     which coutanis\n", 
        "      Harvard\n", 
        "      Yale\n", 
        "      Brown\n"
       ]
      }
     ], 
     "collapsed": false, 
     "prompt_number": 66, 
     "input": [
      "for e in Univs:\n", 
      "    print 'Univs contains ', e\n", 
      "    print '     which coutanis'\n", 
      "    for u in e:\n", 
      "        print '     ', u"
     ], 
     "metadata": {}
    }, 
    {
     "cell_type": "code", 
     "language": "python", 
     "outputs": [
      {
       "output_type": "stream", 
       "stream": "stdout", 
       "text": [
        "L3 =  [1, 2, 3, 4, 5, 6]\n", 
        "L1 =  [1, 2, 3, 4, 5, 6]\n", 
        "L1 =  [1, 2, 3, 4, 5, 6, [4, 5, 6]]\n"
       ]
      }
     ], 
     "collapsed": false, 
     "prompt_number": 67, 
     "input": [
      "L1 = [1, 2, 3]\n", 
      "L2 = [4, 5, 6]\n", 
      "L3 = L1 + L2\n", 
      "print 'L3 = ', L3\n", 
      "L1.extend(L2) # <== \u2605\n", 
      "print 'L1 = ', L1\n", 
      "L1.append(L2) # <== \u2605\n", 
      "print 'L1 = ', L1"
     ], 
     "metadata": {}
    }, 
    {
     "cell_type": "code", 
     "language": "python", 
     "outputs": [
      {
       "output_type": "stream", 
       "stream": "stdout", 
       "text": [
        "L1 =  [2, 3, 4]\n"
       ]
      }
     ], 
     "collapsed": false, 
     "prompt_number": 68, 
     "input": [
      "def removeDups(L1, L2):\n", 
      "    for e1 in L1:\n", 
      "        if e1 in L2:\n", 
      "            L1.remove(e1)\n", 
      "L1 = [1, 2, 3, 4]\n", 
      "L2 = [1, 2, 5, 6]\n", 
      "removeDups(L1, L2)\n", 
      "print 'L1 = ', L1"
     ], 
     "metadata": {}
    }, 
    {
     "cell_type": "code", 
     "language": "python", 
     "outputs": [
      {
       "output_type": "stream", 
       "stream": "stdout", 
       "text": [
        "L1 =  [3, 4]\n"
       ]
      }
     ], 
     "collapsed": false, 
     "prompt_number": 69, 
     "input": [
      "def removeDups(L1, L2):\n", 
      "    for e1 in L1[:]: # <== \u2605\u30af\u30ed\u30fc\u30f3\n", 
      "        if e1 in L2:\n", 
      "            L1.remove(e1)\n", 
      "L1 = [1, 2, 3, 4]\n", 
      "L2 = [1, 2, 5, 6]\n", 
      "removeDups(L1, L2)\n", 
      "print 'L1 = ', L1"
     ], 
     "metadata": {}
    }, 
    {
     "cell_type": "code", 
     "language": "python", 
     "outputs": [
      {
       "output_type": "stream", 
       "stream": "stdout", 
       "text": [
        "[1, 4, 9, 16, 25, 36]\n"
       ]
      }
     ], 
     "collapsed": false, 
     "prompt_number": 71, 
     "input": [
      "L = [x**2 for x in range(1, 7)]\n", 
      "print L"
     ], 
     "metadata": {}
    }, 
    {
     "cell_type": "code", 
     "language": "python", 
     "outputs": [
      {
       "output_type": "stream", 
       "stream": "stdout", 
       "text": [
        "[1, 4, 9]\n"
       ]
      }
     ], 
     "collapsed": false, 
     "prompt_number": 72, 
     "input": [
      "mixed = [1, 2, 'a', 3, 4.0]\n", 
      "print [x**2 for x in mixed if type(x) == int]"
     ], 
     "metadata": {}
    }, 
    {
     "source": [
      "\u9ad8\u968e\u30d7\u30ed\u30b0\u30e9\u30df\u30f3\u30b0"
     ], 
     "cell_type": "markdown", 
     "metadata": {}
    }, 
    {
     "cell_type": "code", 
     "language": "python", 
     "outputs": [
      {
       "output_type": "stream", 
       "stream": "stdout", 
       "text": [
        "[1, 2, 3.33]\n", 
        "[1, 2, 3]\n", 
        "[1, 2, 3]\n", 
        "[1, 2, 6]\n"
       ]
      }
     ], 
     "collapsed": false, 
     "prompt_number": 79, 
     "input": [
      "def applyToEach(L, f):\n", 
      "    for i in range(len(L)):\n", 
      "        L[i] = f(L[i])\n", 
      "\n", 
      "L = [1, -2, 3.33]\n", 
      "applyToEach(L, abs)\n", 
      "print L\n", 
      "applyToEach(L, int)\n", 
      "print L\n", 
      "applyToEach(L, fib)\n", 
      "print L\n", 
      "applyToEach(L, factI)\n", 
      "print L"
     ], 
     "metadata": {}
    }, 
    {
     "cell_type": "code", 
     "language": "python", 
     "outputs": [
      {
       "output_type": "stream", 
       "stream": "stdout", 
       "text": [
        "[1, 28, 9]\n"
       ]
      }
     ], 
     "collapsed": false, 
     "prompt_number": 80, 
     "input": [
      "L1 = [1, 28, 36]\n", 
      "L2 = [4, 57, 9]\n", 
      "print map(min, L1, L2) # <== \u2605"
     ], 
     "metadata": {}
    }, 
    {
     "cell_type": "code", 
     "language": "python", 
     "outputs": [
      {
       "output_type": "stream", 
       "stream": "stdout", 
       "text": [
        "The third montn is Mar\n", 
        "Apr and Jan are  3  months apart\n"
       ]
      }
     ], 
     "collapsed": false, 
     "prompt_number": 84, 
     "input": [
      "monthNumbers = {'Jan':1, 'Feb':2, 'Mar':3, 'Apr':4, 'May':5, 'Jun':6,\n", 
      "                'Jul':7, 'Aug':8, 'Sep':9, 'Oct':10, 'Nov':11, 'Dec':12,\n", 
      "                1:'Jan', 2:'Feb', 3:'Mar', 4:'Apr', 5:'May', 6:'Jun'}\n", 
      "print 'The third montn is ' + monthNumbers[3]\n", 
      "dist = monthNumbers['Apr'] - monthNumbers['Jan']\n", 
      "print 'Apr and Jan are ', dist, ' months apart'"
     ], 
     "metadata": {}
    }, 
    {
     "cell_type": "code", 
     "language": "python", 
     "outputs": [
      {
       "output_type": "stream", 
       "stream": "stdout", 
       "text": [
        "[1, 2, 'Mar', 'Feb', 5, 'Aug', 'Sep', 'Apr', 'Jun', 'Jul', 'Jan', 'May', 3, 6, 4, 'Nov', 'Dec', 'Oct']\n"
       ]
      }
     ], 
     "collapsed": false, 
     "prompt_number": 85, 
     "input": [
      "keys = []\n", 
      "for e in monthNumbers:\n", 
      "    keys.append(e)\n", 
      "print keys"
     ], 
     "metadata": {}
    }, 
    {
     "cell_type": "code", 
     "language": "python", 
     "outputs": [], 
     "collapsed": false, 
     "prompt_number": 90, 
     "input": [
      "values = monthNumbers.values()"
     ], 
     "metadata": {}
    }, 
    {
     "cell_type": "code", 
     "language": "python", 
     "outputs": [
      {
       "output_type": "pyout", 
       "prompt_number": 91, 
       "text": [
        "['Jan',\n", 
        " 'Feb',\n", 
        " 3,\n", 
        " 2,\n", 
        " 'May',\n", 
        " 8,\n", 
        " 9,\n", 
        " 4,\n", 
        " 6,\n", 
        " 7,\n", 
        " 1,\n", 
        " 5,\n", 
        " 'Mar',\n", 
        " 'Jun',\n", 
        " 'Apr',\n", 
        " 11,\n", 
        " 12,\n", 
        " 10]"
       ], 
       "metadata": {}
      }
     ], 
     "collapsed": false, 
     "prompt_number": 91, 
     "input": [
      "values"
     ], 
     "metadata": {}
    }, 
    {
     "cell_type": "code", 
     "language": "python", 
     "outputs": [
      {
       "output_type": "stream", 
       "stream": "stdout", 
       "text": [
        "Je bois \"good\" rouge vin, et mange pain. \n", 
        "I drink of wine red. \n"
       ]
      }
     ], 
     "collapsed": false, 
     "prompt_number": 101, 
     "input": [
      "EtoF = {'bread':'pain', 'wine':'vin', 'with':'avec', 'I':'Je',\n", 
      "        'eat':'mange', 'drink':'bois', 'John':'Jean',\n", 
      "        'friend':'amis', 'and':'et', 'of':'du', 'red':'rouge'}\n", 
      "FtoE = {value:key for key, value in EtoF.items()}\n", 
      "dicts = {'English to French':EtoF, 'French to English':FtoE}\n", 
      "\n", 
      "def translateWord(word, dictionary):\n", 
      "    if word in dictionary.keys():\n", 
      "        return dictionary[word]\n", 
      "    elif word != '':\n", 
      "        return '\"' + word + '\"'\n", 
      "    return word\n", 
      "\n", 
      "def translate(phrase, dicts, direction):\n", 
      "    LCLetters ='abcdefghijklmnopqrstuvwxyz'\n", 
      "    UCLetters = LCLetters.upper()\n", 
      "    letters = LCLetters + UCLetters\n", 
      "    dictionary = dicts[direction]\n", 
      "    translation = ''\n", 
      "    word = ''\n", 
      "    for c in phrase:\n", 
      "        if c in letters:\n", 
      "            word += c\n", 
      "        else:\n", 
      "            translation += translateWord(word, dictionary) + c\n", 
      "            word = ''\n", 
      "    return translation + ' ' + translateWord(word, dictionary)\n", 
      "\n", 
      "print translate('I drink good red wine, and eat bread.'\n", 
      "                , dicts, 'English to French')\n", 
      "print translate('Je bois du vin rouge.'\n", 
      "                , dicts, 'French to English')"
     ], 
     "metadata": {}
    }, 
    {
     "cell_type": "code", 
     "language": "python", 
     "outputs": [
      {
       "output_type": "stream", 
       "name": "stdout", 
       "stream": "stdout", 
       "text": [
        "Enter integer: 10\n"
       ]
      }, 
      {
       "output_type": "stream", 
       "stream": "stdout", 
       "text": [
        "The square of the number you entered is  100\n"
       ]
      }
     ], 
     "collapsed": false, 
     "prompt_number": 104, 
     "input": [
      "while True:\n", 
      "    val = raw_input('Enter an integer: ')\n", 
      "    try:\n", 
      "        val = int(val)\n", 
      "        print 'The square of the number you entered is ', val**2\n", 
      "        break\n", 
      "    except ValueError:\n", 
      "        print val, ' is not an integer'"
     ], 
     "metadata": {}
    }, 
    {
     "cell_type": "code", 
     "language": "python", 
     "outputs": [], 
     "collapsed": false, 
     "prompt_number": 105, 
     "input": [
      "def readInt():\n", 
      "    while True:\n", 
      "        val = raw_input('Enter an integer: ')\n", 
      "        try:\n", 
      "            val = int(val)\n", 
      "            return val\n", 
      "        except ValueError:\n", 
      "            print val, ' is no an intreger'"
     ], 
     "metadata": {}
    }, 
    {
     "cell_type": "code", 
     "language": "python", 
     "outputs": [
      {
       "output_type": "stream", 
       "name": "stdout", 
       "stream": "stdout", 
       "text": [
        "Enter an integer: 8\n"
       ]
      }, 
      {
       "output_type": "stream", 
       "stream": "stdout", 
       "text": [
        "The square of the number you entered is  64\n"
       ]
      }
     ], 
     "collapsed": false, 
     "prompt_number": 106, 
     "input": [
      "x = readInt()\n", 
      "print 'The square of the number you entered is ', x**2"
     ], 
     "metadata": {}
    }, 
    {
     "cell_type": "code", 
     "language": "python", 
     "outputs": [], 
     "collapsed": false, 
     "prompt_number": 107, 
     "input": [
      "# \u6c4e\u5316\u3057\u305f\u5165\u529b\u30d7\u30ed\u30f3\u30d7\u30c8\n", 
      "def readVal(valType, requestMsg, errorMsg):\n", 
      "    while True:\n", 
      "        val = raw_input(requestMsg + ' ')\n", 
      "        try:\n", 
      "            val = valType(val)\n", 
      "            return val\n", 
      "        except ValueError:\n", 
      "            print val, errorMsg"
     ], 
     "metadata": {}
    }, 
    {
     "cell_type": "code", 
     "language": "python", 
     "outputs": [
      {
       "output_type": "stream", 
       "name": "stdout", 
       "stream": "stdout", 
       "text": [
        "Enter an integer: 9\n"
       ]
      }, 
      {
       "output_type": "stream", 
       "stream": "stdout", 
       "text": [
        "The square of the number you entered is 81\n"
       ]
      }
     ], 
     "collapsed": false, 
     "prompt_number": 109, 
     "input": [
      "val = readVal(int, 'Enter an integer:', ' is not an integer')\n", 
      "print 'The square of the number you entered is', val**2"
     ], 
     "metadata": {}
    }, 
    {
     "cell_type": "code", 
     "language": "python", 
     "outputs": [], 
     "collapsed": false, 
     "prompt_number": 9, 
     "input": [
      "def getRatios(vect1, vect2):\n", 
      "    ratios = []\n", 
      "    for index in range(len(vect1)):\n", 
      "        try:\n", 
      "            ratios.append(vect1[index]/float(vect2[index]))\n", 
      "        except ZeroDivisionError:\n", 
      "            ratios.append(float('nan'))\n", 
      "        except:\n", 
      "            raise ValueError('getRatios called with bad arguments')\n", 
      "    return ratios"
     ], 
     "metadata": {}
    }, 
    {
     "cell_type": "code", 
     "language": "python", 
     "outputs": [
      {
       "output_type": "stream", 
       "stream": "stdout", 
       "text": [
        "[1.0, 1.0, nan, 2.0]\n", 
        "[]\n", 
        "getRatios called with bad arguments\n"
       ]
      }
     ], 
     "collapsed": false, 
     "prompt_number": 10, 
     "input": [
      "try:\n", 
      "    print getRatios([1.0, 2.0, 7.0, 6.0], [1.0, 2.0, 0.0, 3.0])\n", 
      "    print getRatios([], [])\n", 
      "    print getRatios([1.0, 2.0], [3.0])\n", 
      "except ValueError, msg:\n", 
      "    print msg"
     ], 
     "metadata": {}
    }, 
    {
     "cell_type": "code", 
     "language": "python", 
     "outputs": [], 
     "collapsed": false, 
     "prompt_number": 13, 
     "input": [
      "def getRatios(vect1, vect2):\n", 
      "    ratios = []\n", 
      "    if len(vect1) != len(vect2):\n", 
      "        raise ValueError('getRatios called with bad arguments')\n", 
      "    for index in range(len(vect1)):\n", 
      "        vect1Elem = vect1[index]\n", 
      "        vect2Elem = vect2[index]\n", 
      "        if (type(vect1Elem) not in (int, float)) \\\n", 
      "        or (type(vect2Elem) not in (int, float)):\n", 
      "            raise ValueError('getRatios called with bad arguments')\n", 
      "        if vect2Elem == 0:\n", 
      "            ratios.append(float('NaN'))\n", 
      "        else:\n", 
      "            ratios.append(vect1Elem/vect2Elem)\n", 
      "    return ratios"
     ], 
     "metadata": {}
    }, 
    {
     "cell_type": "code", 
     "language": "python", 
     "outputs": [
      {
       "output_type": "stream", 
       "stream": "stdout", 
       "text": [
        "[1.0, 1.0, nan, 2.0]\n", 
        "[]\n", 
        "getRatios called with bad arguments\n"
       ]
      }
     ], 
     "collapsed": false, 
     "prompt_number": 14, 
     "input": [
      "try:\n", 
      "    print getRatios([1.0, 2.0, 7.0, 6.0], [1.0, 2.0, 0.0, 3.0])\n", 
      "    print getRatios([], [])\n", 
      "    print getRatios([1.0, 2.0], [3.0])\n", 
      "except ValueError, msg:\n", 
      "    print msg"
     ], 
     "metadata": {}
    }, 
    {
     "cell_type": "code", 
     "language": "python", 
     "outputs": [], 
     "collapsed": false, 
     "prompt_number": 23, 
     "input": [
      "f = open('guiz1grade.txt', 'w')\n", 
      "for i in range(10, -1, -1):\n", 
      "    #print i\n", 
      "    f.write(str(i) + '\\n')\n", 
      "f.close()"
     ], 
     "metadata": {}
    }, 
    {
     "cell_type": "code", 
     "language": "python", 
     "outputs": [
      {
       "output_type": "stream", 
       "stream": "stdout", 
       "text": [
        "Median grade is  5.0\n"
       ]
      }
     ], 
     "collapsed": false, 
     "prompt_number": 25, 
     "input": [
      "def getGrades(fname):\n", 
      "    try:\n", 
      "        gradesFile = open(fname, 'r')\n", 
      "    except IOError:\n", 
      "        raise ValueError('getGrades could not open ' + fname)\n", 
      "    grades = []\n", 
      "    for line in gradesFile:\n", 
      "        try:\n", 
      "            grades.append(float(line))\n", 
      "        except:\n", 
      "            raise ValueError('Unable to convert line into float')\n", 
      "    return grades\n", 
      "try:\n", 
      "    grades = getGrades('guiz1grade.txt')\n", 
      "    grades.sort()\n", 
      "    median = grades[len(grades)//2]\n", 
      "    print 'Median grade is ', median\n", 
      "except ValueError, errorMsg:\n", 
      "    print 'Whoops,', errorMsg"
     ], 
     "metadata": {}
    }, 
    {
     "source": [
      "\u7b2c8\u7ae0\u3000\u30af\u30e9\u30b9\u3068\u30aa\u30d6\u30b8\u30a7\u30af\u30c8\u6307\u5411\u30d7\u30ed\u30b0\u30e9\u30df\u30f3\u30b0"
     ], 
     "cell_type": "markdown", 
     "metadata": {}
    }, 
    {
     "cell_type": "code", 
     "language": "python", 
     "outputs": [], 
     "collapsed": false, 
     "prompt_number": 1, 
     "input": [
      "class IntSet(object):\n", 
      "    def __init__(self):\n", 
      "        self.vals = []\n", 
      "    def insert(self, e):\n", 
      "        if not e in self.vals:\n", 
      "            self.vals.append(e)\n", 
      "    def member(self, e):\n", 
      "        return e in self.vals\n", 
      "    def remove(self, e):\n", 
      "        try:\n", 
      "            self.vals.remove(e)\n", 
      "        except:\n", 
      "            raise ValueError(str(e) + ' not found')\n", 
      "    def getMembers(self):\n", 
      "        return self.vals[:]\n", 
      "    def __str__(self):\n", 
      "        self.vals.sort()\n", 
      "        result = ''\n", 
      "        for e in self.vals:\n", 
      "            result += str(e) + ', '\n", 
      "        return '{' + result[:-2] + '}'"
     ], 
     "metadata": {}
    }, 
    {
     "cell_type": "code", 
     "language": "python", 
     "outputs": [
      {
       "output_type": "stream", 
       "stream": "stdout", 
       "text": [
        "{1, 2, 3, 4, 5, 6, 7, 8, 9}\n", 
        "{1, 2, 3, 4, 5, 6, 7, 8}\n"
       ]
      }
     ], 
     "collapsed": false, 
     "prompt_number": 2, 
     "input": [
      "s = IntSet()\n", 
      "for i in range(1, 10):\n", 
      "    s.insert(i)\n", 
      "print s\n", 
      "s.remove(9)\n", 
      "print s"
     ], 
     "metadata": {}
    }, 
    {
     "cell_type": "code", 
     "language": "python", 
     "outputs": [], 
     "collapsed": false, 
     "prompt_number": 3, 
     "input": [
      "import datetime\n", 
      "class Person(object):\n", 
      "    def __init__(self, name):\n", 
      "        self.name = name\n", 
      "        try:\n", 
      "            lastBlank = name.rindex(' ')\n", 
      "            self.lastName = name[lastBlank+1:]\n", 
      "        except:\n", 
      "            self.lastName = name\n", 
      "        self.birthday = None\n", 
      "    def getName(self):\n", 
      "        return self.name\n", 
      "    def getLastName(self):\n", 
      "        return self.lastName\n", 
      "    def setBirthday(self, birthdate):\n", 
      "        self.birthday = birthdate\n", 
      "    def getAge(self):\n", 
      "        if self.birthday == None:\n", 
      "            raise ValueError\n", 
      "        return (datetime.date.today() - self.birthday).days\n", 
      "    def __lt__(self, other):\n", 
      "        if self.lastName == other.lastName:\n", 
      "            return self.name < other.name\n", 
      "        return self.lastName < other.lastName\n", 
      "    def __str__(self):\n", 
      "        return self.name"
     ], 
     "metadata": {}
    }, 
    {
     "cell_type": "code", 
     "language": "python", 
     "outputs": [
      {
       "output_type": "stream", 
       "stream": "stdout", 
       "text": [
        "Obama\n", 
        "Barack Hussein Obama is 19553 days old\n"
       ]
      }
     ], 
     "collapsed": false, 
     "prompt_number": 4, 
     "input": [
      "me = Person('Michael Guttag')\n", 
      "him = Person('Barack Hussein Obama')\n", 
      "her = Person('Madonna')\n", 
      "print him.getLastName()\n", 
      "him.setBirthday(datetime.date(1961, 8, 4))\n", 
      "her.setBirthday(datetime.date(1958, 8, 16))\n", 
      "print him.getName(), 'is', him.getAge(), 'days old'"
     ], 
     "metadata": {}
    }, 
    {
     "cell_type": "code", 
     "language": "python", 
     "outputs": [
      {
       "output_type": "stream", 
       "stream": "stdout", 
       "text": [
        "Michael Guttag\n", 
        "Barack Hussein Obama\n", 
        "Madonna\n", 
        "Michael Guttag\n", 
        "Madonna\n", 
        "Barack Hussein Obama\n"
       ]
      }
     ], 
     "collapsed": false, 
     "prompt_number": 5, 
     "input": [
      "pList = [me, him, her]\n", 
      "for p in pList:\n", 
      "    print p\n", 
      "pList.sort()\n", 
      "for p in pList:\n", 
      "    print p"
     ], 
     "metadata": {}
    }, 
    {
     "cell_type": "code", 
     "language": "python", 
     "outputs": [], 
     "collapsed": false, 
     "prompt_number": 6, 
     "input": [
      "class MITPerson(Person):\n", 
      "    nextIdNum = 0\n", 
      "    def __init__(self, name):\n", 
      "        Person.__init__(self, name)\n", 
      "        self.idNum = MITPerson.nextIdNum\n", 
      "        MITPerson.nextIdNum += 1\n", 
      "    def getIdNum(self):\n", 
      "        return self.idNum\n", 
      "    def __lt__(self, other):\n", 
      "        return self.idNum < other.idNum\n", 
      "    \n", 
      "    def isStudent(self):\n", 
      "        return isinstance(self, Student)"
     ], 
     "metadata": {}
    }, 
    {
     "cell_type": "code", 
     "language": "python", 
     "outputs": [
      {
       "output_type": "stream", 
       "stream": "stdout", 
       "text": [
        "Barbara Beaver's id number is 0\n"
       ]
      }
     ], 
     "collapsed": false, 
     "prompt_number": 7, 
     "input": [
      "p1 = MITPerson('Barbara Beaver')\n", 
      "print str(p1) + '\\'s id number is ' + str(p1.getIdNum())"
     ], 
     "metadata": {}
    }, 
    {
     "cell_type": "code", 
     "language": "python", 
     "outputs": [], 
     "collapsed": false, 
     "prompt_number": 8, 
     "input": [
      "p1 = MITPerson('Mark Gutter')\n", 
      "p2 = MITPerson('Billy Bob Beaver')\n", 
      "p3 = MITPerson('Billy Bob Beaver')\n", 
      "p4 = Person('Billy Bob Beaver')"
     ], 
     "metadata": {}
    }, 
    {
     "cell_type": "code", 
     "language": "python", 
     "outputs": [
      {
       "output_type": "stream", 
       "stream": "stdout", 
       "text": [
        "p1 < p2 = True\n", 
        "p3 < p2 = False\n", 
        "p4 < p1 = True\n"
       ]
      }
     ], 
     "collapsed": false, 
     "prompt_number": 9, 
     "input": [
      "print 'p1 < p2 =', p1 < p2\n", 
      "print 'p3 < p2 =', p3 < p2\n", 
      "print 'p4 < p1 =', p4 < p1"
     ], 
     "metadata": {}
    }, 
    {
     "cell_type": "code", 
     "language": "python", 
     "outputs": [
      {
       "output_type": "stream", 
       "stream": "stdout", 
       "text": [
        "p1 < p4 ="
       ]
      }, 
      {
       "ename": "AttributeError", 
       "evalue": "'Person' object has no attribute 'idNum'", 
       "traceback": [
        "\u001b[0;31m---------------------------------------------------------------------------\u001b[0m\n\u001b[0;31mAttributeError\u001b[0m                            Traceback (most recent call last)", 
        "\u001b[0;32m<ipython-input-10-6cd23a0dfc6d>\u001b[0m in \u001b[0;36m<module>\u001b[0;34m()\u001b[0m\n\u001b[0;32m----> 1\u001b[0;31m \u001b[0;32mprint\u001b[0m \u001b[0;34m'p1 < p4 ='\u001b[0m\u001b[0;34m,\u001b[0m \u001b[0mp1\u001b[0m \u001b[0;34m<\u001b[0m \u001b[0mp4\u001b[0m\u001b[0;34m\u001b[0m\u001b[0m\n\u001b[0m", 
        "\u001b[0;32m<ipython-input-6-5c138190415a>\u001b[0m in \u001b[0;36m__lt__\u001b[0;34m(self, other)\u001b[0m\n\u001b[1;32m      8\u001b[0m         \u001b[0;32mreturn\u001b[0m \u001b[0mself\u001b[0m\u001b[0;34m.\u001b[0m\u001b[0midNum\u001b[0m\u001b[0;34m\u001b[0m\u001b[0m\n\u001b[1;32m      9\u001b[0m     \u001b[0;32mdef\u001b[0m \u001b[0m__lt__\u001b[0m\u001b[0;34m(\u001b[0m\u001b[0mself\u001b[0m\u001b[0;34m,\u001b[0m \u001b[0mother\u001b[0m\u001b[0;34m)\u001b[0m\u001b[0;34m:\u001b[0m\u001b[0;34m\u001b[0m\u001b[0m\n\u001b[0;32m---> 10\u001b[0;31m         \u001b[0;32mreturn\u001b[0m \u001b[0mself\u001b[0m\u001b[0;34m.\u001b[0m\u001b[0midNum\u001b[0m \u001b[0;34m<\u001b[0m \u001b[0mother\u001b[0m\u001b[0;34m.\u001b[0m\u001b[0midNum\u001b[0m\u001b[0;34m\u001b[0m\u001b[0m\n\u001b[0m\u001b[1;32m     11\u001b[0m \u001b[0;34m\u001b[0m\u001b[0m\n\u001b[1;32m     12\u001b[0m     \u001b[0;32mdef\u001b[0m \u001b[0misStudent\u001b[0m\u001b[0;34m(\u001b[0m\u001b[0mself\u001b[0m\u001b[0;34m)\u001b[0m\u001b[0;34m:\u001b[0m\u001b[0;34m\u001b[0m\u001b[0m\n", 
        "\u001b[0;31mAttributeError\u001b[0m: 'Person' object has no attribute 'idNum'"
       ], 
       "output_type": "pyerr"
      }
     ], 
     "collapsed": false, 
     "prompt_number": 10, 
     "input": [
      "print 'p1 < p4 =', p1 < p4"
     ], 
     "metadata": {}
    }, 
    {
     "cell_type": "code", 
     "language": "python", 
     "outputs": [
      {
       "output_type": "stream", 
       "stream": "stdout", 
       "text": [
        "\n"
       ]
      }
     ], 
     "collapsed": false, 
     "prompt_number": 11, 
     "input": [
      "class Student(MITPerson):\n", 
      "    pass\n", 
      "class UG(Student):\n", 
      "    def __init__(self, name, classYear):\n", 
      "        MITPerson.__init__(self, name)\n", 
      "        self.year = classYear\n", 
      "    def getClass(self):\n", 
      "        return self.year\n", 
      "class Grad(Student):\n", 
      "    pass"
     ], 
     "metadata": {}
    }, 
    {
     "cell_type": "code", 
     "language": "python", 
     "outputs": [
      {
       "output_type": "stream", 
       "stream": "stdout", 
       "text": [
        "Buzz Aldrin is a graduate student is True\n", 
        "Buzz Aldrin is an undergraduate student is False\n"
       ]
      }
     ], 
     "collapsed": false, 
     "prompt_number": 12, 
     "input": [
      "p5 = Grad('Buzz Aldrin')\n", 
      "p6 = UG('Billy Beaver', 1984)\n", 
      "print p5, 'is a graduate student is', type(p5) == Grad\n", 
      "print p5, 'is an undergraduate student is', type(p5) == UG"
     ], 
     "metadata": {}
    }, 
    {
     "cell_type": "code", 
     "language": "python", 
     "outputs": [], 
     "collapsed": false, 
     "prompt_number": 13, 
     "input": [
      "def isStudent(self):\n", 
      "    return isinstance(self, Student)"
     ], 
     "metadata": {}
    }, 
    {
     "cell_type": "code", 
     "language": "python", 
     "outputs": [
      {
       "output_type": "stream", 
       "stream": "stdout", 
       "text": [
        "Buzz Aldrin is a student is True\n", 
        "Billy Beaver is a student is True\n", 
        "Billy Bob Beaver is a student is False\n"
       ]
      }
     ], 
     "collapsed": false, 
     "prompt_number": 14, 
     "input": [
      "print p5, 'is a student is', p5.isStudent()\n", 
      "print p6, 'is a student is', p6.isStudent()\n", 
      "print p3, 'is a student is', p3.isStudent()"
     ], 
     "metadata": {}
    }, 
    {
     "cell_type": "code", 
     "language": "python", 
     "outputs": [], 
     "collapsed": false, 
     "prompt_number": 15, 
     "input": [
      "class Grades(object):\n", 
      "    def __init__(self):\n", 
      "        self.students = []\n", 
      "        self.grades = {}\n", 
      "        self.isSorted = True\n", 
      "    def addStudent(self, student):\n", 
      "        if student in self.students:\n", 
      "            raise ValueError('Duplicate student')\n", 
      "        self.students.append(student)\n", 
      "        self.grades[student.getName()] = []\n", 
      "        self.isSorted = False\n", 
      "    def addGrade(self, student, grade):\n", 
      "        try:\n", 
      "            self.grades[student.getName()].append(grade)\n", 
      "        except:\n", 
      "            raise ValueError('Student not in mapping')\n", 
      "    def getGrades(self, student):\n", 
      "        try:\n", 
      "            return self.grades[student.getName()][:]\n", 
      "        except:\n", 
      "            raise ValueError('Student not in mapping')\n", 
      "    def getStudents(self):\n", 
      "        if not self.isSorted:\n", 
      "            self.students.sort()\n", 
      "            self.isSorted = True\n", 
      "        return self.students[:]"
     ], 
     "metadata": {}
    }, 
    {
     "cell_type": "code", 
     "language": "python", 
     "outputs": [
      {
       "output_type": "stream", 
       "stream": "stdout", 
       "text": [
        "\n", 
        "Jane Doe's mean grade is 75.0\n", 
        "John Doe's mean grade is 75.0\n", 
        "Billy Bucker's mean grade is 50.0\n", 
        "Buck D. Dent's mean grade is 87.5\n"
       ]
      }
     ], 
     "collapsed": false, 
     "prompt_number": 16, 
     "input": [
      "def gradeReport(course):\n", 
      "    report = ''\n", 
      "    for s in course.getStudents():\n", 
      "        tot = 0.0\n", 
      "        numGrades = 0\n", 
      "        for g in course.getGrades(s):\n", 
      "            tot += g\n", 
      "            numGrades += 1\n", 
      "        try:\n", 
      "            average = tot/numGrades\n", 
      "            report = report + '\\n' + str(s) + '\\'s mean grade is ' \\\n", 
      "                + str(average)\n", 
      "        except ZeroDivisionError:\n", 
      "            report = report + '\\n' + str(s) + ' has no grades'\n", 
      "    return report\n", 
      "\n", 
      "ug1 = UG('Jane Doe', 2014)\n", 
      "ug2 = UG('John Doe', 2015)\n", 
      "ug3 = UG('David Henry', 2003)\n", 
      "g1 = Grad('Billy Bucker')\n", 
      "g2 = Grad('Buck D. Dent')\n", 
      "sixHundred = Grades()\n", 
      "sixHundred.addStudent(ug1)\n", 
      "sixHundred.addStudent(ug2)\n", 
      "sixHundred.addStudent(g1)\n", 
      "sixHundred.addStudent(g2)\n", 
      "for s in sixHundred.getStudents():\n", 
      "    sixHundred.addGrade(s, 75)\n", 
      "sixHundred.addGrade(g1, 25)\n", 
      "sixHundred.addGrade(g2, 100)\n", 
      "print gradeReport(sixHundred)"
     ], 
     "metadata": {}
    }, 
    {
     "cell_type": "code", 
     "language": "python", 
     "outputs": [], 
     "collapsed": false, 
     "prompt_number": 18, 
     "input": [
      "## \u2605\u65b0\u7248\n", 
      "class Grades(object):\n", 
      "    def __init__(self):\n", 
      "        self.students = []\n", 
      "        self.grades = {}\n", 
      "        self.isSorted = True\n", 
      "    def addStudent(self, student):\n", 
      "        if student in self.students:\n", 
      "            raise ValueError('Duplicate student')\n", 
      "        self.students.append(student)\n", 
      "        self.grades[student.getName()] = []\n", 
      "        self.isSorted = False\n", 
      "    def addGrade(self, student, grade):\n", 
      "        try:\n", 
      "            self.grades[student.getName()].append(grade)\n", 
      "        except:\n", 
      "            raise ValueError('Student not in mapping')\n", 
      "    def getGrades(self, student):\n", 
      "        try:\n", 
      "            return self.grades[student.getName()][:]\n", 
      "        except:\n", 
      "            raise ValueError('Student not in mapping')\n", 
      "    def getStudents(self):\n", 
      "        if not self.isSorted:\n", 
      "            self.students.sort()\n", 
      "            self.isSorted = True\n", 
      "        # return self.students[:]\n", 
      "        for s in self.students:\n", 
      "            yield s # <===== \u2605\u2605\u2605 \u30b8\u30a7\u30cd\u30ec\u30fc\u30bf"
     ], 
     "metadata": {}
    }, 
    {
     "cell_type": "code", 
     "language": "python", 
     "outputs": [
      {
       "output_type": "stream", 
       "stream": "stdout", 
       "text": [
        "Julie\n", 
        "Charlie\n"
       ]
      }
     ], 
     "collapsed": false, 
     "prompt_number": 19, 
     "input": [
      "book = Grades()\n", 
      "book.addStudent(Grad('Julie'))\n", 
      "book.addStudent(Grad('Charlie'))\n", 
      "for s in book.getStudents():\n", 
      "    print s"
     ], 
     "metadata": {}
    }, 
    {
     "cell_type": "code", 
     "language": "python", 
     "outputs": [], 
     "collapsed": false, 
     "prompt_number": 41, 
     "input": [
      "def findPayment(loan, r, m):\n", 
      "    return loan*(( r * ( 1 + r )**m )/(( 1 + r )**m - 1))\n", 
      "\n", 
      "class Mortgage(object):\n", 
      "    def __init__(self, loan, annRate, months):\n", 
      "        self.loan = loan\n", 
      "        self.rate = annRate/12.0\n", 
      "        self.months = months\n", 
      "        self.paid = [0.0]\n", 
      "        self.owed = [loan]\n", 
      "        self.payment = findPayment(loan, self.rate, months)\n", 
      "        self.legend = None\n", 
      "    def makePayment(self):\n", 
      "        self.paid.append(self.payment)\n", 
      "        reduction = self.payment - self.owed[-1]*self.rate\n", 
      "        self.owed.append(self.owed[-1] - reduction)\n", 
      "    def getTotalPaid(self):\n", 
      "        return sum(self.paid)\n", 
      "    def __str__(self):\n", 
      "        return self.legend"
     ], 
     "metadata": {}
    }, 
    {
     "cell_type": "code", 
     "language": "python", 
     "outputs": [], 
     "collapsed": false, 
     "prompt_number": 42, 
     "input": [
      "class Fixed(Mortgage):\n", 
      "    def __init__(self, loan, r, months):\n", 
      "        Mortgage.__init__(self, loan, r, months)\n", 
      "        self.legend = 'Fixed, ' + str(r*100) + '%'\n", 
      "        \n", 
      "class FixedWithPts(Mortgage):\n", 
      "    def __init__(self, loan, r, months, pts):\n", 
      "        Mortgage.__init__(self, loan, r, months)\n", 
      "        self.pts = pts\n", 
      "        self.paid = [loan*(pts/100.0)]\n", 
      "        self.legend = 'Fixed, ' + str(r*100) + '% ' + str(pts) + ' points'"
     ], 
     "metadata": {}
    }, 
    {
     "cell_type": "code", 
     "language": "python", 
     "outputs": [], 
     "collapsed": false, 
     "prompt_number": 45, 
     "input": [
      "class TwoRate(Mortgage):\n", 
      "    def __init__(self, loan, r, months, teaserRate, teaserMonths):\n", 
      "        Mortgage.__init__(self, loan, teaserRate, months)\n", 
      "        self.teaserMonths = teaserMonths\n", 
      "        self.teaserRate = teaserRate\n", 
      "        self.nextRate = r/12.0\n", 
      "        self.legend = str(teaserRate*100) + '% for ' \\\n", 
      "            + str(self.teaserMonths) + 'months, then ' + str(r*100) + '%'\n", 
      "    def makePayment(self):\n", 
      "        if len(self.paid) == self.teaserMonths + 1:\n", 
      "            self.rate = self.nextRate\n", 
      "            self.payment = findPayment(self.owed[-1], self.rate,\n", 
      "                                       self.months - self.teaserMonths)\n", 
      "        Mortgage.makePayment(self)"
     ], 
     "metadata": {}
    }, 
    {
     "cell_type": "code", 
     "language": "python", 
     "outputs": [
      {
       "output_type": "stream", 
       "stream": "stdout", 
       "text": [
        "Fixed, 7.0%\n", 
        "Total payments = $479017\n", 
        "Fixed, 5.0% 3.25 points\n", 
        "Total payments = $393011\n", 
        "4.5% for 48months, then 9.5%\n", 
        "Total payments = $551444\n"
       ]
      }
     ], 
     "collapsed": false, 
     "prompt_number": 46, 
     "input": [
      "def compareMortgages(amt, year, fixedRate, pts, ptsRate,\n", 
      "                     varRate1, varRate2, varMonths):\n", 
      "    totMonths = year * 12\n", 
      "    fixed1 = Fixed(amt, fixedRate, totMonths)\n", 
      "    fixed2 = FixedWithPts(amt, ptsRate, totMonths, pts)\n", 
      "    twoRate = TwoRate(amt, varRate2, totMonths, varRate1, varMonths)\n", 
      "    morts = [fixed1, fixed2, twoRate]\n", 
      "    for m in range(totMonths):\n", 
      "        for mort in morts:\n", 
      "            mort.makePayment()\n", 
      "    for m in morts:\n", 
      "        print m\n", 
      "        print 'Total payments = $' + str(int(m.getTotalPaid()))\n", 
      "\n", 
      "compareMortgages(amt=200000, year=30, fixedRate=0.07,\n", 
      "                 pts=3.25, ptsRate=0.05, varRate1=0.045,\n", 
      "                 varRate2=0.095,varMonths=48)"
     ], 
     "metadata": {}
    }, 
    {
     "cell_type": "code", 
     "language": "python", 
     "outputs": [], 
     "collapsed": false, 
     "prompt_number": 47, 
     "input": [], 
     "metadata": {}
    }, 
    {
     "source": [
      "\u7b2c9\u7ae0\u3000\u8a08\u7b97\u8907\u96d1\u6027\u5165\u9580"
     ], 
     "cell_type": "markdown", 
     "metadata": {}
    }, 
    {
     "cell_type": "code", 
     "language": "python", 
     "outputs": [
      {
       "output_type": "stream", 
       "stream": "stdout", 
       "text": [
        "93326215443944152681699238856266700490715968264381621468592963895217599993229915608941463976156518286253697920827223758251185210916864000000000000000000000000\n"
       ]
      }
     ], 
     "collapsed": false, 
     "prompt_number": 1, 
     "input": [
      "def f(i):\n", 
      "    answer = 1\n", 
      "    while i >= 1:\n", 
      "        answer *= i\n", 
      "        i -= 1\n", 
      "    return answer\n", 
      "print f(100)"
     ], 
     "metadata": {}
    }, 
    {
     "cell_type": "code", 
     "language": "python", 
     "outputs": [], 
     "collapsed": false, 
     "prompt_number": 3, 
     "input": [
      "def lineSearch(L, x):\n", 
      "    for e in L:\n", 
      "        if e == x:\n", 
      "            return True\n", 
      "    return False"
     ], 
     "metadata": {}
    }, 
    {
     "cell_type": "code", 
     "language": "python", 
     "outputs": [
      {
       "output_type": "stream", 
       "stream": "stdout", 
       "text": [
        "CPU times: user 13.4 s, sys: 4.77 s, total: 18.2 s\n", 
        "Wall time: 23 s\n"
       ]
      }, 
      {
       "output_type": "pyout", 
       "prompt_number": 4, 
       "text": [
        "True"
       ], 
       "metadata": {}
      }
     ], 
     "collapsed": false, 
     "prompt_number": 4, 
     "input": [
      "%time lineSearch(range(100000000, -1, -1), 0)"
     ], 
     "metadata": {}
    }, 
    {
     "cell_type": "code", 
     "language": "python", 
     "outputs": [
      {
       "output_type": "stream", 
       "stream": "stdout", 
       "text": [
        "93326215443944152681699238856266700490715968264381621468592963895217599993229915608941463976156518286253697920827223758251185210916864000000000000000000000000\n"
       ]
      }
     ], 
     "collapsed": false, 
     "prompt_number": 8, 
     "input": [
      "def fact(n):\n", 
      "    answer = 1\n", 
      "    while n > 1:\n", 
      "        answer *= n\n", 
      "        n -= 1\n", 
      "    return answer\n", 
      "print fact(100)"
     ], 
     "metadata": {}
    }, 
    {
     "cell_type": "code", 
     "language": "python", 
     "outputs": [], 
     "collapsed": false, 
     "prompt_number": 10, 
     "input": [
      "def squareRootExhaustive(x, epsilon):\n", 
      "    step = epsilon**2\n", 
      "    ans = 0.0\n", 
      "    while abs(ans**2 - x) >= epsilon and ans*ans <= x:\n", 
      "        ans += step\n", 
      "        if ans*ans > x:\n", 
      "            raise ValueError\n", 
      "    return ans"
     ], 
     "metadata": {}
    }, 
    {
     "cell_type": "code", 
     "language": "python", 
     "outputs": [
      {
       "output_type": "pyout", 
       "prompt_number": 27, 
       "text": [
        "10.000002384185791"
       ], 
       "metadata": {}
      }
     ], 
     "collapsed": false, 
     "prompt_number": 27, 
     "input": [
      "def squareRoot(x, epsilon):\n", 
      "    low = 0.0\n", 
      "    high = max(1.0, x)\n", 
      "    ans = (high + low)/2.0\n", 
      "    while abs(ans**2 - x) >= epsilon:\n", 
      "        if ans**2 < x:\n", 
      "            low = ans\n", 
      "        else:\n", 
      "            high = ans\n", 
      "        ans = (high + low)/2.0\n", 
      "    return ans\n", 
      "squareRoot(100, 0.0001)"
     ], 
     "metadata": {}
    }, 
    {
     "cell_type": "code", 
     "language": "python", 
     "outputs": [
      {
       "output_type": "stream", 
       "name": "stdout", 
       "stream": "stdout", 
       "text": [
        "File `hello.py` exists. Overwrite (y/[N])?  y\n"
       ]
      }, 
      {
       "output_type": "stream", 
       "stream": "stdout", 
       "text": [
        "The following commands were written to file `hello.py`:\n", 
        "def squareRoot(x, epsilon):\n", 
        "    low = 0.0\n", 
        "    high = max(1.0, x)\n", 
        "    ans = (high + low)/2.0\n", 
        "    while abs(ans**2 - x) >= epsilon:\n", 
        "        if ans**2 < x:\n", 
        "            low = ans\n", 
        "        else:\n", 
        "            high = ans\n", 
        "        ans = (high + low)/2.0\n", 
        "    return ans\n", 
        "print squareRoot(100, 0.0001)\n"
       ]
      }
     ], 
     "collapsed": false, 
     "prompt_number": 28, 
     "input": [
      "save hello.py 23"
     ], 
     "metadata": {}
    }, 
    {
     "cell_type": "code", 
     "language": "python", 
     "outputs": [
      {
       "output_type": "stream", 
       "stream": "stdout", 
       "text": [
        "Number of addtion so far 1000\n", 
        "Number of addtion so far 1010\n", 
        "Number of addtion so far 1210\n"
       ]
      }, 
      {
       "output_type": "pyout", 
       "prompt_number": 32, 
       "text": [
        "1210"
       ], 
       "metadata": {}
      }
     ], 
     "collapsed": false, 
     "prompt_number": 32, 
     "input": [
      "def f(x):\n", 
      "    ans = 0\n", 
      "    for i in range(1000):\n", 
      "        ans += 1\n", 
      "    print 'Number of addtion so far', ans\n", 
      "    for i in range(x):\n", 
      "        ans += 1\n", 
      "    print 'Number of addtion so far', ans\n", 
      "    for i in range(x):\n", 
      "        for j in range(x):\n", 
      "            ans += 1\n", 
      "            ans += 1\n", 
      "    print 'Number of addtion so far', ans\n", 
      "    return ans\n", 
      "f(10)"
     ], 
     "metadata": {}
    }, 
    {
     "cell_type": "code", 
     "language": "python", 
     "outputs": [
      {
       "output_type": "pyout", 
       "prompt_number": 35, 
       "text": [
        "'380'"
       ], 
       "metadata": {}
      }
     ], 
     "collapsed": false, 
     "prompt_number": 35, 
     "input": [
      "def intToStr(i):\n", 
      "    digits = '0123456789'\n", 
      "    if i == 0:\n", 
      "        return '0'\n", 
      "    result = ''\n", 
      "    while i > 0:\n", 
      "        result = digits[i%10] + result\n", 
      "        i = i / 10\n", 
      "    return result\n", 
      "intToStr(380)"
     ], 
     "metadata": {}
    }, 
    {
     "cell_type": "code", 
     "language": "python", 
     "outputs": [
      {
       "output_type": "pyout", 
       "prompt_number": 45, 
       "text": [
        "6"
       ], 
       "metadata": {}
      }
     ], 
     "collapsed": false, 
     "prompt_number": 45, 
     "input": [
      "def addDigits(n):\n", 
      "    stringRep = intToStr(n)\n", 
      "    val = 0\n", 
      "    for c in stringRep:\n", 
      "        val += int(c)\n", 
      "    return val\n", 
      "addDigits(123)"
     ], 
     "metadata": {}
    }, 
    {
     "cell_type": "code", 
     "language": "python", 
     "outputs": [
      {
       "output_type": "pyout", 
       "prompt_number": 47, 
       "text": [
        "6"
       ], 
       "metadata": {}
      }
     ], 
     "collapsed": false, 
     "prompt_number": 47, 
     "input": [
      "def addDigits(s):\n", 
      "    val = 0\n", 
      "    for c in s:\n", 
      "        val += int(c)\n", 
      "    return val\n", 
      "addDigits('123')"
     ], 
     "metadata": {}
    }, 
    {
     "cell_type": "code", 
     "language": "python", 
     "outputs": [
      {
       "output_type": "stream", 
       "stream": "stdout", 
       "text": [
        "120\n"
       ]
      }
     ], 
     "collapsed": false, 
     "prompt_number": 48, 
     "input": [
      "def factorial(x):\n", 
      "    if x == 1:\n", 
      "        return 1\n", 
      "    else:\n", 
      "        return x * factorial(x - 1)\n", 
      "print factorial(5)"
     ], 
     "metadata": {}
    }, 
    {
     "cell_type": "code", 
     "language": "python", 
     "outputs": [
      {
       "output_type": "pyout", 
       "prompt_number": 51, 
       "text": [
        "True"
       ], 
       "metadata": {}
      }
     ], 
     "collapsed": false, 
     "prompt_number": 51, 
     "input": [
      "def isSubset(L1, L2):\n", 
      "    for e1 in L1:\n", 
      "        matched = False\n", 
      "        for e2 in L2:\n", 
      "            if e1 == e2:\n", 
      "                matched = True\n", 
      "                break\n", 
      "        if not matched:\n", 
      "            return False\n", 
      "    return True\n", 
      "L1 = [1, 3]\n", 
      "L2 = [1, 2, 3, 4]\n", 
      "isSubset(L1, L2)"
     ], 
     "metadata": {}
    }, 
    {
     "cell_type": "code", 
     "language": "python", 
     "outputs": [
      {
       "output_type": "stream", 
       "stream": "stdout", 
       "text": [
        "[5, 6]\n"
       ]
      }
     ], 
     "collapsed": false, 
     "prompt_number": 52, 
     "input": [
      "def intersect(L1, L2):\n", 
      "    tmp = []\n", 
      "    for e1 in L1:\n", 
      "        for e2 in L2:\n", 
      "            if e1 == e2:\n", 
      "                tmp.append(e1)\n", 
      "    result = []\n", 
      "    for e in tmp:\n", 
      "        if e not in result:\n", 
      "            result.append(e)\n", 
      "    return result\n", 
      "L1 = [1, 3, 5, 6]\n", 
      "L2 = [4, 5, 6]\n", 
      "print intersect(L1, L2)"
     ], 
     "metadata": {}
    }, 
    {
     "cell_type": "code", 
     "language": "python", 
     "outputs": [
      {
       "output_type": "stream", 
       "stream": "stdout", 
       "text": [
        "[[], ['c'], ['b'], ['b', 'c'], ['a'], ['a', 'c'], ['a', 'b'], ['a', 'b', 'c']]\n"
       ]
      }
     ], 
     "collapsed": false, 
     "prompt_number": 1, 
     "input": [
      "def getBinaryRep(n, numDigits):\n", 
      "    result = ''\n", 
      "    while n > 0:\n", 
      "        result = str(n%2) + result\n", 
      "        n = n//2\n", 
      "    if len(result) > numDigits:\n", 
      "        raise ValueError('not enough digits')\n", 
      "    for i in range(numDigits - len(result)):\n", 
      "        result = '0' + result\n", 
      "    return result\n", 
      "\n", 
      "def getPowerset(L):\n", 
      "    powerset = []\n", 
      "    for i in range(0, 2**len(L)):\n", 
      "        binStr = getBinaryRep(i, len(L))\n", 
      "        subset = []\n", 
      "        for j in range(len(L)):\n", 
      "            if binStr[j] == '1':\n", 
      "                subset.append(L[j])\n", 
      "        powerset.append(subset)\n", 
      "    return powerset\n", 
      "print getPowerset(['a', 'b', 'c'])"
     ], 
     "metadata": {}
    }, 
    {
     "source": [
      "\u7b2c10\u7ae0\u3000\u3044\u304f\u3064\u304b\u306e\u5358\u7d14\u306a\u30a2\u30eb\u30b4\u30ea\u30ba\u30e0\u3068\u30c7\u30fc\u30bf\u69cb\u9020"
     ], 
     "cell_type": "markdown", 
     "metadata": {}
    }, 
    {
     "cell_type": "code", 
     "language": "python", 
     "outputs": [
      {
       "output_type": "stream", 
       "stream": "stdout", 
       "text": [
        "True\n"
       ]
      }
     ], 
     "collapsed": false, 
     "prompt_number": 2, 
     "input": [
      "def search(L, e):\n", 
      "    for i in range(len(L)):\n", 
      "        if L[i] == e:\n", 
      "            return True\n", 
      "    return False\n", 
      "\n", 
      "print search([1, 2, 3, 4, 5, 6], 5)"
     ], 
     "metadata": {}
    }, 
    {
     "cell_type": "code", 
     "language": "python", 
     "outputs": [], 
     "collapsed": false, 
     "prompt_number": 3, 
     "input": [
      "def search(L, e):\n", 
      "    def bSearch(L, e, low, high):\n", 
      "        if high == low:\n", 
      "            return L[low] == e\n", 
      "        mid = (low + high)//2\n", 
      "        if L[mid] == e:\n", 
      "            return True\n", 
      "        elif L[mid] > e:\n", 
      "            if low == mid:\n", 
      "                return False\n", 
      "            else:\n", 
      "                return bSearch(L, e, low, mid - 1)\n", 
      "        else:\n", 
      "            return bSearch(L, e, mid + 1, high)\n", 
      "        if len(L) == 0:\n", 
      "            return False\n", 
      "        else:\n", 
      "            return bSearch(L, e, len(L) - 1)"
     ], 
     "metadata": {}
    }, 
    {
     "cell_type": "code", 
     "language": "python", 
     "outputs": [], 
     "collapsed": false, 
     "prompt_number": 5, 
     "input": [
      "def selSort(L):\n", 
      "    suffixStart = 0\n", 
      "    while suffixStart != len(L):\n", 
      "        for i in range(suffixStart, len(L)):\n", 
      "            if L[i] < L[suffixStart]:\n", 
      "                L[suffixStart], L[i] = L[i], L[suffixStart]\n", 
      "        suffixStart += 1"
     ], 
     "metadata": {}
    }, 
    {
     "cell_type": "code", 
     "language": "python", 
     "outputs": [], 
     "collapsed": false, 
     "prompt_number": 8, 
     "input": [
      "def merge(left, right, compare):\n", 
      "    result = []\n", 
      "    i, j = 0, 0\n", 
      "    while i < len(left) and j < len(right):\n", 
      "        if compare(left[i], right[i]):\n", 
      "            result.append(left[i])\n", 
      "            i += 1\n", 
      "        else:\n", 
      "            result.append(right[j])\n", 
      "            j += 1\n", 
      "    while ( i < len(left)):\n", 
      "        result.append(left[i])\n", 
      "        i += 1\n", 
      "    while ( j < len(right)):\n", 
      "        result.append(right[j])\n", 
      "        j += 1\n", 
      "    return result\n", 
      "\n", 
      "import operator\n", 
      "def mergeSort(L, compare = operator.lt):\n", 
      "    if len(L) < 2:\n", 
      "        return L[:]\n", 
      "    else:\n", 
      "        middle = len(L)//2\n", 
      "        left = mergeSort(L[:middle], compare)\n", 
      "        right = mergeSort(L[middle:], compare)\n", 
      "        return (left, right, compare)"
     ], 
     "metadata": {}
    }, 
    {
     "cell_type": "code", 
     "language": "python", 
     "outputs": [
      {
       "output_type": "stream", 
       "stream": "stdout", 
       "text": [
        "Sorted by last name =  ((['Chris Terman'], ['Tom brady'], <function lastNameFirstName at 0x1120625f0>), (['Eric Grimson'], ['Gisele Bundchen'], <function lastNameFirstName at 0x1120625f0>), <function lastNameFirstName at 0x1120625f0>)\n", 
        "Sorted by first name =  ((['Chris Terman'], ['Tom brady'], <function firstNameLastName at 0x112062b18>), (['Eric Grimson'], ['Gisele Bundchen'], <function firstNameLastName at 0x112062b18>), <function firstNameLastName at 0x112062b18>)\n"
       ]
      }
     ], 
     "collapsed": false, 
     "prompt_number": 14, 
     "input": [
      "def lastNameFirstName(name1, name2):\n", 
      "    import string\n", 
      "    name1 = string.split(name1, ' ')\n", 
      "    name2 = string.split(name2, ' ')\n", 
      "    if name1[1] != name2[1]:\n", 
      "        return name1[1] < name2[1]\n", 
      "    else:\n", 
      "        return name1[0] < name2[0]\n", 
      "\n", 
      "def firstNameLastName(name1, name2):\n", 
      "    import string\n", 
      "    name1 = string.split(name1, ' ')\n", 
      "    name2 = string.split(name2, ' ')\n", 
      "    if name1[0] != name2[0]:\n", 
      "        return name1[0] < name2[1]\n", 
      "    else:\n", 
      "        return name1[1] < name2[1]\n", 
      "    \n", 
      "L = ['Chris Terman', 'Tom brady', 'Eric Grimson', 'Gisele Bundchen']\n", 
      "newL = mergeSort(L, lastNameFirstName)\n", 
      "print 'Sorted by last name = ', newL\n", 
      "newL = mergeSort(L, firstNameLastName)\n", 
      "print 'Sorted by first name = ', newL    "
     ], 
     "metadata": {}
    }, 
    {
     "cell_type": "code", 
     "language": "python", 
     "outputs": [
      {
       "output_type": "stream", 
       "stream": "stdout", 
       "text": [
        "[2, 3, 5]\n", 
        "[3, 5, 2]\n", 
        "[2, 3, 5]\n", 
        "['a', 'b', 'c']\n"
       ]
      }, 
      {
       "ename": "AttributeError", 
       "evalue": "'dict' object has no attribute 'sort'", 
       "traceback": [
        "\u001b[0;31m---------------------------------------------------------------------------\u001b[0m\n\u001b[0;31mAttributeError\u001b[0m                            Traceback (most recent call last)", 
        "\u001b[0;32m<ipython-input-19-a868f5da5fa6>\u001b[0m in \u001b[0;36m<module>\u001b[0;34m()\u001b[0m\n\u001b[1;32m      6\u001b[0m \u001b[0;32mprint\u001b[0m \u001b[0mL\u001b[0m\u001b[0;34m\u001b[0m\u001b[0m\n\u001b[1;32m      7\u001b[0m \u001b[0;32mprint\u001b[0m \u001b[0msorted\u001b[0m\u001b[0;34m(\u001b[0m\u001b[0mD\u001b[0m\u001b[0;34m)\u001b[0m\u001b[0;34m\u001b[0m\u001b[0m\n\u001b[0;32m----> 8\u001b[0;31m \u001b[0mD\u001b[0m\u001b[0;34m.\u001b[0m\u001b[0msort\u001b[0m\u001b[0;34m(\u001b[0m\u001b[0;34m)\u001b[0m\u001b[0;34m\u001b[0m\u001b[0m\n\u001b[0m", 
        "\u001b[0;31mAttributeError\u001b[0m: 'dict' object has no attribute 'sort'"
       ], 
       "output_type": "pyerr"
      }
     ], 
     "collapsed": false, 
     "prompt_number": 19, 
     "input": [
      "L = [3, 5, 2]\n", 
      "D = {'a':12, 'c':5, 'b':'dog'}\n", 
      "print sorted(L)\n", 
      "print L\n", 
      "L.sort()\n", 
      "print L\n", 
      "print sorted(D)\n", 
      "D.sort()"
     ], 
     "metadata": {}
    }, 
    {
     "cell_type": "code", 
     "language": "python", 
     "outputs": [
      {
       "output_type": "stream", 
       "stream": "stdout", 
       "text": [
        "[(3, 2, 1, 0), [1, 2, 3], 'abc']\n"
       ]
      }
     ], 
     "collapsed": false, 
     "prompt_number": 20, 
     "input": [
      "L = [[1, 2, 3], (3, 2, 1, 0), 'abc']\n", 
      "print sorted(L, key = len, reverse=True)"
     ], 
     "metadata": {}
    }, 
    {
     "cell_type": "code", 
     "language": "python", 
     "outputs": [], 
     "collapsed": false, 
     "prompt_number": 21, 
     "input": [
      "class intDict(object):\n", 
      "    def __init__(self, numBuckets):\n", 
      "        self.buckets = []\n", 
      "        self.numBuckets = numBuckets\n", 
      "        for i in range(numBuckets):\n", 
      "            self.buckets.append([])\n", 
      "    def addEntry(self, dictKey, dictVal):\n", 
      "        hashBucket = self.buckets[dictKey%self.numBuckets]\n", 
      "        for i in range(len(hashBucket)):\n", 
      "            if hashBucket[i][0] == dictKey:\n", 
      "                hashBucket[i] = (dictKey, dictVal)\n", 
      "                return\n", 
      "        hashBucket.append((dictKey, dictVal))\n", 
      "    def getValue(self, dictKey):\n", 
      "        hashBucket = self.buckets[dictKey%self.numBuckets]\n", 
      "        for e in hashBucket:\n", 
      "            if e[0] == dictKey:\n", 
      "                return e[1]\n", 
      "        return None\n", 
      "    def __str__(self):\n", 
      "        result = '{'\n", 
      "        for b in self.buckets:\n", 
      "            for e in b:\n", 
      "                result = result + str(e[0]) + ' : ' + str(e[1]) + '.'\n", 
      "        return result[:-1] + '}'"
     ], 
     "metadata": {}
    }, 
    {
     "cell_type": "code", 
     "language": "python", 
     "outputs": [
      {
       "output_type": "stream", 
       "stream": "stdout", 
       "text": [
        "The value of the intDict is: \n", 
        "{80040 : 8.53041 : 9.52693 : 16.19461 : 11.37035 : 12.56030 : 17.68820 : 2.71227 : 7.19202 : 13.38488 : 15.48088 : 19.88374 : 10.13613 : 18.2657 : 4.3240 : 6.87196 : 5.30503 : 14.57533 : 1.99933 : 0.39526 : 3}\n", 
        "\n", 
        "The buckets are: \n", 
        "    [(80040, 8), (53041, 9), (52693, 16)]\n", 
        "    []\n", 
        "    [(19461, 11), (37035, 12), (56030, 17)]\n", 
        "    [(68820, 2), (71227, 7)]\n", 
        "    [(19202, 13)]\n", 
        "    [(38488, 15)]\n", 
        "    [(48088, 19)]\n", 
        "    []\n", 
        "    []\n", 
        "    []\n", 
        "    []\n", 
        "    [(88374, 10)]\n", 
        "    [(13613, 18)]\n", 
        "    []\n", 
        "    []\n", 
        "    []\n", 
        "    []\n", 
        "    []\n", 
        "    [(2657, 4)]\n", 
        "    []\n", 
        "    []\n", 
        "    [(3240, 6)]\n", 
        "    [(87196, 5)]\n", 
        "    []\n", 
        "    [(30503, 14)]\n", 
        "    []\n", 
        "    [(57533, 1)]\n", 
        "    []\n", 
        "    [(99933, 0), (39526, 3)]\n"
       ]
      }
     ], 
     "collapsed": false, 
     "prompt_number": 26, 
     "input": [
      "import random\n", 
      "\n", 
      "D = intDict(29)\n", 
      "for i in range(20):\n", 
      "    key = random.randint(0, 10**5)\n", 
      "    D.addEntry(key, i)\n", 
      "print 'The value of the intDict is: '\n", 
      "print D\n", 
      "print '\\n', 'The buckets are: '\n", 
      "for hashBucket in D.buckets:\n", 
      "    print '   ', hashBucket"
     ], 
     "metadata": {}
    }, 
    {
     "source": [
      "\u7b2c11\u7ae0\u3000\u30d7\u30ed\u30c3\u30c8\u3068\u30af\u30e9\u30b9"
     ], 
     "cell_type": "markdown", 
     "metadata": {}
    }, 
    {
     "cell_type": "code", 
     "language": "python", 
     "outputs": [], 
     "collapsed": false, 
     "prompt_number": 28, 
     "input": [
      "import pylab\n", 
      "pylab.figure(1)\n", 
      "pylab.plot([1, 2, 3, 4], [1, 7, 3, 5])\n", 
      "pylab.show()"
     ], 
     "metadata": {}
    }, 
    {
     "cell_type": "code", 
     "language": "python", 
     "outputs": [], 
     "collapsed": false, 
     "prompt_number": 36, 
     "input": [
      "import pylab\n", 
      "pylab.figure(1)\n", 
      "pylab.plot([1, 2, 3, 4], [1, 2, 3, 4])\n", 
      "pylab.figure(2)\n", 
      "pylab.plot([1, 4, 2, 3], [5, 6, 7, 8])\n", 
      "pylab.savefig('Figure-Addie')\n", 
      "pylab.figure(1)\n", 
      "pylab.plot([5, 6, 10, 3])\n", 
      "pylab.savefig('Figure-Jane')"
     ], 
     "metadata": {}
    }, 
    {
     "cell_type": "code", 
     "language": "python", 
     "outputs": [
      {
       "output_type": "stream", 
       "stream": "stdout", 
       "text": [
        "Using matplotlib backend: MacOSX\n"
       ]
      }
     ], 
     "collapsed": false, 
     "prompt_number": 34, 
     "input": [
      "%matplotlib"
     ], 
     "metadata": {}
    }, 
    {
     "cell_type": "code", 
     "language": "python", 
     "outputs": [], 
     "collapsed": false, 
     "input": [], 
     "metadata": {}
    }
   ], 
   "metadata": {}
  }
 ], 
 "metadata": {
  "name": "", 
  "signature": "sha256:16684dba5dd5050b0924df150529b65c79d302fee2a76538a57cf6d15c9e5b61"
 }
}