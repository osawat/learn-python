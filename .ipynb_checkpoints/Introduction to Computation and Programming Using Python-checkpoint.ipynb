{
 "metadata": {
  "name": "",
  "signature": "sha256:16684dba5dd5050b0924df150529b65c79d302fee2a76538a57cf6d15c9e5b61"
 },
 "nbformat": 3,
 "nbformat_minor": 0,
 "worksheets": [
  {
   "cells": [
    {
     "cell_type": "markdown",
     "metadata": {},
     "source": [
      "\u7b2c3\u7ae0\u3000\u7c21\u5358\u306a\u7b97\u8853\u30d7\u30ed\u30b0\u30e9\u30e0"
     ]
    },
    {
     "cell_type": "code",
     "collapsed": false,
     "input": [
      "x = int(raw_input('Enter an integer: '))\n",
      "ans = 0\n",
      "while ans**3 < abs(x):\n",
      "    ans = ans + 1\n",
      "    if ans**3 != abs(x):\n",
      "        print x, ' is not a perfect cube'\n",
      "    else:\n",
      "        if x < 0:\n",
      "            ans = -ans\n",
      "        print 'Cube root of ', x, ' is ', ans"
     ],
     "language": "python",
     "metadata": {},
     "outputs": [
      {
       "name": "stdout",
       "output_type": "stream",
       "stream": "stdout",
       "text": [
        "Enter an integer: 27\n"
       ]
      },
      {
       "output_type": "stream",
       "stream": "stdout",
       "text": [
        "27  is not a perfect cube\n",
        "27  is not a perfect cube\n",
        "Cube root of  27  is  3\n"
       ]
      }
     ],
     "prompt_number": 4
    },
    {
     "cell_type": "code",
     "collapsed": false,
     "input": [
      "max = int(raw_input('Enter a positive integer: '))\n",
      "i = 0\n",
      "while i < max:\n",
      "    i += 1\n",
      "print i"
     ],
     "language": "python",
     "metadata": {},
     "outputs": [
      {
       "name": "stdout",
       "output_type": "stream",
       "stream": "stdout",
       "text": [
        "Enter a positive integer: 5\n"
       ]
      },
      {
       "output_type": "stream",
       "stream": "stdout",
       "text": [
        "5\n"
       ]
      }
     ],
     "prompt_number": 6
    },
    {
     "cell_type": "code",
     "collapsed": false,
     "input": [
      "x = 4\n",
      "for i in range(0, x):\n",
      "    print i"
     ],
     "language": "python",
     "metadata": {},
     "outputs": [
      {
       "output_type": "stream",
       "stream": "stdout",
       "text": [
        "0\n",
        "1\n",
        "2\n",
        "3\n"
       ]
      }
     ],
     "prompt_number": 7
    },
    {
     "cell_type": "code",
     "collapsed": false,
     "input": [
      "x = 4\n",
      "for i in range(0, x):\n",
      "    print i\n",
      "    x = 5"
     ],
     "language": "python",
     "metadata": {},
     "outputs": [
      {
       "output_type": "stream",
       "stream": "stdout",
       "text": [
        "0\n",
        "1\n",
        "2\n",
        "3\n"
       ]
      }
     ],
     "prompt_number": 8
    },
    {
     "cell_type": "code",
     "collapsed": false,
     "input": [
      "x = 4\n",
      "for j in range(x):\n",
      "    for i in range(x):\n",
      "        print i\n",
      "        x = 2"
     ],
     "language": "python",
     "metadata": {},
     "outputs": [
      {
       "output_type": "stream",
       "stream": "stdout",
       "text": [
        "0\n",
        "1\n",
        "2\n",
        "3\n",
        "0\n",
        "1\n",
        "0\n",
        "1\n",
        "0\n",
        "1\n"
       ]
      }
     ],
     "prompt_number": 9
    },
    {
     "cell_type": "code",
     "collapsed": false,
     "input": [
      "x = int(raw_input('Enter an integer : '))\n",
      "for ans in range(0, abs(x) + 1):\n",
      "    if ans**3 >= abs(x):\n",
      "        break\n",
      "if ans**3 != abs(x):\n",
      "    print x, ' is not a perfect cube'\n",
      "else:\n",
      "    if x < 0:\n",
      "        ans = -ans\n",
      "    print 'Cube root of ', x, ' is ', ans"
     ],
     "language": "python",
     "metadata": {},
     "outputs": [
      {
       "name": "stdout",
       "output_type": "stream",
       "stream": "stdout",
       "text": [
        "Enter an integer : 27\n"
       ]
      },
      {
       "output_type": "stream",
       "stream": "stdout",
       "text": [
        "Cube root of  27  is  3\n"
       ]
      }
     ],
     "prompt_number": 10
    },
    {
     "cell_type": "code",
     "collapsed": false,
     "input": [
      "x = 25\n",
      "epsilon = 0.01\n",
      "step = epsilon**2\n",
      "numGuesses = 0\n",
      "ans = 0.0\n",
      "while abs(ans**2 - x) >= epsilon and ans <= x:\n",
      "    ans += step\n",
      "    numGuesses += 1\n",
      "print 'numGuesses = ', numGuesses\n",
      "if abs(ans**2 - x) >= epsilon:\n",
      "    print 'Failed on square root of ', x\n",
      "else:\n",
      "    print ans, ' is close to square root of ', x"
     ],
     "language": "python",
     "metadata": {},
     "outputs": [
      {
       "output_type": "stream",
       "stream": "stdout",
       "text": [
        "numGuesses =  49990\n",
        "4.999  is close to square root of  25\n"
       ]
      }
     ],
     "prompt_number": 11
    },
    {
     "cell_type": "code",
     "collapsed": false,
     "input": [
      "x = 25\n",
      "epsilon = 0.01\n",
      "numGuesses = 0\n",
      "low = 0.0\n",
      "high = x #high = max(1.0, x)\n",
      "ans = (low + high)/2.0\n",
      "while abs(ans**2  -x ) >= epsilon:\n",
      "    print 'low = ', low, ' high = ', high, ' ans = ', ans\n",
      "    numGuesses += 1\n",
      "    if ans**2 < x:\n",
      "        low = ans\n",
      "    else:\n",
      "        high = ans\n",
      "    ans = (low + high)/2.0\n",
      "print 'numGuesses = ', numGuesses\n",
      "print ans, ' is close to square root of ', x"
     ],
     "language": "python",
     "metadata": {},
     "outputs": [
      {
       "output_type": "stream",
       "stream": "stdout",
       "text": [
        "low =  0.0  high =  25  ans =  12.5\n",
        "low =  0.0  high =  12.5  ans =  6.25\n",
        "low =  0.0  high =  6.25  ans =  3.125\n",
        "low =  3.125  high =  6.25  ans =  4.6875\n",
        "low =  4.6875  high =  6.25  ans =  5.46875\n",
        "low =  4.6875  high =  5.46875  ans =  5.078125\n",
        "low =  4.6875  high =  5.078125  ans =  4.8828125\n",
        "low =  4.8828125  high =  5.078125  ans =  4.98046875\n",
        "low =  4.98046875  high =  5.078125  ans =  5.029296875\n",
        "low =  4.98046875  high =  5.029296875  ans =  5.0048828125\n",
        "low =  4.98046875  high =  5.0048828125  ans =  4.99267578125\n",
        "low =  4.99267578125  high =  5.0048828125  ans =  4.99877929688\n",
        "low =  4.99877929688  high =  5.0048828125  ans =  5.00183105469\n",
        "numGuesses =  13\n",
        "5.00030517578  is close to square root of  25\n"
       ]
      }
     ],
     "prompt_number": 12
    },
    {
     "cell_type": "code",
     "collapsed": false,
     "input": [
      "x = 0.0\n",
      "for i in range(10):\n",
      "    x += 0.1\n",
      "if x == 1.0:\n",
      "    print x, ' = x'\n",
      "else:\n",
      "    print x, ' is not 1.0'"
     ],
     "language": "python",
     "metadata": {},
     "outputs": [
      {
       "output_type": "stream",
       "stream": "stdout",
       "text": [
        "1.0  is not 1.0\n"
       ]
      }
     ],
     "prompt_number": 13
    },
    {
     "cell_type": "code",
     "collapsed": false,
     "input": [
      "x = 0\n",
      "for i in range(10):\n",
      "    x += 0.1\n",
      "if x == 1.0:\n",
      "    print x, ' = 1.0'\n",
      "else:\n",
      "    print x, ' is not 1.0'"
     ],
     "language": "python",
     "metadata": {},
     "outputs": [
      {
       "output_type": "stream",
       "stream": "stdout",
       "text": [
        "1.0  is not 1.0\n"
       ]
      }
     ],
     "prompt_number": 15
    },
    {
     "cell_type": "code",
     "collapsed": false,
     "input": [
      "# \u5e73\u65b9\u6839\u3092\u6c42\u3081\u308b\u305f\u3081\u306e\u30cb\u30e5\u30fc\u30c8\u30f3\u30fc\u30e9\u30d5\u30bd\u30f3\u6cd5\n",
      "epsilon = 0.01\n",
      "k = 24.0\n",
      "guess = k/2.0\n",
      "while abs(guess*guess - k) >= epsilon:\n",
      "    guess = guess - (((guess**2) - k)/(2*guess))\n",
      "print 'Square root of ', k, ' is about ', guess"
     ],
     "language": "python",
     "metadata": {},
     "outputs": [
      {
       "output_type": "stream",
       "stream": "stdout",
       "text": [
        "Square root of  24.0  is about  4.89898874321\n"
       ]
      }
     ],
     "prompt_number": 16
    },
    {
     "cell_type": "markdown",
     "metadata": {},
     "source": [
      "\u7b2c4\u7ae0\u3000\u95a2\u6570\u3001\u30b9\u30b3\u30fc\u30d7\u3001\u62bd\u8c61\u5316"
     ]
    },
    {
     "cell_type": "code",
     "collapsed": false,
     "input": [
      "def max(x, y):\n",
      "    if x > y:\n",
      "        return x\n",
      "    else:\n",
      "        return y"
     ],
     "language": "python",
     "metadata": {},
     "outputs": [],
     "prompt_number": 25
    },
    {
     "cell_type": "code",
     "collapsed": false,
     "input": [
      "def printName(firstName, lastName, reverse=False):\n",
      "    if reverse:\n",
      "        print lastName + ',' + firstName\n",
      "    else:\n",
      "        print firstName + ',' + lastName"
     ],
     "language": "python",
     "metadata": {},
     "outputs": [],
     "prompt_number": 27
    },
    {
     "cell_type": "code",
     "collapsed": false,
     "input": [
      "printName('Bando', 'Taro', True)"
     ],
     "language": "python",
     "metadata": {},
     "outputs": [
      {
       "output_type": "stream",
       "stream": "stdout",
       "text": [
        "Taro,Bando\n"
       ]
      }
     ],
     "prompt_number": 29
    },
    {
     "cell_type": "code",
     "collapsed": false,
     "input": [
      "def f(x):\n",
      "    y = 1\n",
      "    x += y\n",
      "    print 'x = ', x\n",
      "    return x"
     ],
     "language": "python",
     "metadata": {},
     "outputs": [],
     "prompt_number": 30
    },
    {
     "cell_type": "code",
     "collapsed": false,
     "input": [
      "x = 3\n",
      "y = 2\n",
      "z = f(x)\n",
      "print 'z = ', z\n",
      "print 'x = ', x\n",
      "print 'y = ', y"
     ],
     "language": "python",
     "metadata": {},
     "outputs": [
      {
       "output_type": "stream",
       "stream": "stdout",
       "text": [
        "x =  4\n",
        "z =  4\n",
        "x =  3\n",
        "y =  2\n"
       ]
      }
     ],
     "prompt_number": 32
    },
    {
     "cell_type": "code",
     "collapsed": false,
     "input": [
      "def f(x):\n",
      "    def g():\n",
      "        x = 'abc'\n",
      "        print 'x = ', x\n",
      "    def h():\n",
      "        z = x\n",
      "        print 'z = ', z\n",
      "    x += 1\n",
      "    print 'x = ', x\n",
      "    h()\n",
      "    g()\n",
      "    print 'x = ', x\n",
      "    return g\n",
      "\n",
      "x = 3\n",
      "z = f(x)\n",
      "print 'x = ', x\n",
      "print 'z = ', z\n",
      "z()"
     ],
     "language": "python",
     "metadata": {},
     "outputs": [
      {
       "output_type": "stream",
       "stream": "stdout",
       "text": [
        "x =  4\n",
        "z =  4\n",
        "x =  abc\n",
        "x =  4\n",
        "x =  3\n",
        "z =  <function g at 0x106e2cf50>\n",
        "x =  abc\n"
       ]
      }
     ],
     "prompt_number": 34
    },
    {
     "cell_type": "code",
     "collapsed": false,
     "input": [
      "def f():\n",
      "    print x\n",
      "def g():\n",
      "    print x\n",
      "    x = 1\n",
      "x = 3\n",
      "f()\n",
      "x = 3\n",
      "g()"
     ],
     "language": "python",
     "metadata": {},
     "outputs": [
      {
       "output_type": "stream",
       "stream": "stdout",
       "text": [
        "3\n"
       ]
      },
      {
       "ename": "UnboundLocalError",
       "evalue": "local variable 'x' referenced before assignment",
       "output_type": "pyerr",
       "traceback": [
        "\u001b[0;31m---------------------------------------------------------------------------\u001b[0m\n\u001b[0;31mUnboundLocalError\u001b[0m                         Traceback (most recent call last)",
        "\u001b[0;32m<ipython-input-36-be7cf0fc7064>\u001b[0m in \u001b[0;36m<module>\u001b[0;34m()\u001b[0m\n\u001b[1;32m      7\u001b[0m \u001b[0mf\u001b[0m\u001b[0;34m(\u001b[0m\u001b[0;34m)\u001b[0m\u001b[0;34m\u001b[0m\u001b[0m\n\u001b[1;32m      8\u001b[0m \u001b[0mx\u001b[0m \u001b[0;34m=\u001b[0m \u001b[0;36m3\u001b[0m\u001b[0;34m\u001b[0m\u001b[0m\n\u001b[0;32m----> 9\u001b[0;31m \u001b[0mg\u001b[0m\u001b[0;34m(\u001b[0m\u001b[0;34m)\u001b[0m\u001b[0;34m\u001b[0m\u001b[0m\n\u001b[0m",
        "\u001b[0;32m<ipython-input-36-be7cf0fc7064>\u001b[0m in \u001b[0;36mg\u001b[0;34m()\u001b[0m\n\u001b[1;32m      2\u001b[0m     \u001b[0;32mprint\u001b[0m \u001b[0mx\u001b[0m\u001b[0;34m\u001b[0m\u001b[0m\n\u001b[1;32m      3\u001b[0m \u001b[0;32mdef\u001b[0m \u001b[0mg\u001b[0m\u001b[0;34m(\u001b[0m\u001b[0;34m)\u001b[0m\u001b[0;34m:\u001b[0m\u001b[0;34m\u001b[0m\u001b[0m\n\u001b[0;32m----> 4\u001b[0;31m     \u001b[0;32mprint\u001b[0m \u001b[0mx\u001b[0m\u001b[0;34m\u001b[0m\u001b[0m\n\u001b[0m\u001b[1;32m      5\u001b[0m     \u001b[0mx\u001b[0m \u001b[0;34m=\u001b[0m \u001b[0;36m1\u001b[0m\u001b[0;34m\u001b[0m\u001b[0m\n\u001b[1;32m      6\u001b[0m \u001b[0mx\u001b[0m \u001b[0;34m=\u001b[0m \u001b[0;36m3\u001b[0m\u001b[0;34m\u001b[0m\u001b[0m\n",
        "\u001b[0;31mUnboundLocalError\u001b[0m: local variable 'x' referenced before assignment"
       ]
      }
     ],
     "prompt_number": 36
    },
    {
     "cell_type": "code",
     "collapsed": false,
     "input": [
      "def findRoot(x, power, epsilon):\n",
      "    if x < 0 and power%2 == 0:\n",
      "        return None\n",
      "    low = min(-1.0, x)\n",
      "    high = max(1.0, x)\n",
      "    ans = (low + high)/2.0\n",
      "    while abs(ans**power - x ) >= epsilon:\n",
      "        if ans**power < x:\n",
      "            low = ans\n",
      "        else:\n",
      "            high = ans\n",
      "        ans = (low + high)/2.0\n",
      "    return ans\n",
      "\n",
      "def testFindRoot():\n",
      "    epsilon = 0.0001\n",
      "    for x in (0.25, -0.25, 2, -2, 8, -8):\n",
      "        for power in range(1, 4):\n",
      "            print 'Testing x = ' + str(x) + ' and power = ' + str(power)\n",
      "            result = findRoot(x, power, epsilon)\n",
      "            if result == None:\n",
      "                print '   No root'\n",
      "            else:\n",
      "                print '   ', result**power, ' ~= ', x"
     ],
     "language": "python",
     "metadata": {},
     "outputs": [],
     "prompt_number": 37
    },
    {
     "cell_type": "code",
     "collapsed": false,
     "input": [
      "testFindRoot()"
     ],
     "language": "python",
     "metadata": {},
     "outputs": [
      {
       "output_type": "stream",
       "stream": "stdout",
       "text": [
        "Testing x = 0.25 and power = 1\n",
        "    0.25  ~=  0.25\n",
        "Testing x = 0.25 and power = 2\n",
        "    0.25  ~=  0.25\n",
        "Testing x = 0.25 and power = 3\n",
        "    0.249907490797  ~=  0.25\n",
        "Testing x = -0.25 and power = 1\n",
        "    -0.25  ~=  -0.25\n",
        "Testing x = -0.25 and power = 2\n",
        "   No root\n",
        "Testing x = -0.25 and power = 3\n",
        "    -0.249907490797  ~=  -0.25\n",
        "Testing x = 2 and power = 1\n",
        "    1.99990844727  ~=  2\n",
        "Testing x = 2 and power = 2\n",
        "    2.00009063259  ~=  2\n",
        "Testing x = 2 and power = 3\n",
        "    2.00005915565  ~=  2\n",
        "Testing x = -2 and power = 1\n",
        "    -1.99990844727  ~=  -2\n",
        "Testing x = -2 and power = 2\n",
        "   No root\n",
        "Testing x = -2 and power = 3\n",
        "    -2.00005915565  ~=  -2\n",
        "Testing x = 8 and power = 1\n",
        "    7.99993133545  ~=  8\n",
        "Testing x = 8 and power = 2\n",
        "    7.99999568007  ~=  8\n",
        "Testing x = 8 and power = 3\n",
        "    8.00006866475  ~=  8\n",
        "Testing x = -8 and power = 1\n",
        "    -7.99993133545  ~=  -8\n",
        "Testing x = -8 and power = 2\n",
        "   No root\n",
        "Testing x = -8 and power = 3\n",
        "    -8.00006866475  ~=  -8\n"
       ]
      }
     ],
     "prompt_number": 38
    },
    {
     "cell_type": "code",
     "collapsed": false,
     "input": [
      "def factI(n):\n",
      "    result = 1\n",
      "    while n > 1:\n",
      "        result = result * n\n",
      "        n -= 1\n",
      "    return result\n",
      "\n",
      "def factR(n):\n",
      "    if n == 1:\n",
      "        return n\n",
      "    else:\n",
      "        return n*factR(n - 1)"
     ],
     "language": "python",
     "metadata": {},
     "outputs": [],
     "prompt_number": 39
    },
    {
     "cell_type": "code",
     "collapsed": false,
     "input": [
      "print 'factI(5)', factI(5)\n",
      "print 'factR(5)', factR(5)"
     ],
     "language": "python",
     "metadata": {},
     "outputs": [
      {
       "output_type": "stream",
       "stream": "stdout",
       "text": [
        "factI(5) 120\n",
        "factR(5) 120\n"
       ]
      }
     ],
     "prompt_number": 40
    },
    {
     "cell_type": "code",
     "collapsed": false,
     "input": [
      "def fib(n):\n",
      "    if n == 0 or n == 1:\n",
      "        return 1\n",
      "    else:\n",
      "        return fib(n - 1) + fib(n - 2)\n",
      "\n",
      "def testFib(n):\n",
      "    for i in range(n + 1):\n",
      "        print 'fib of ', i, ' = ', fib(i)"
     ],
     "language": "python",
     "metadata": {},
     "outputs": [],
     "prompt_number": 41
    },
    {
     "cell_type": "code",
     "collapsed": false,
     "input": [
      "testFib(5)"
     ],
     "language": "python",
     "metadata": {},
     "outputs": [
      {
       "output_type": "stream",
       "stream": "stdout",
       "text": [
        "fib of  0  =  1\n",
        "fib of  1  =  1\n",
        "fib of  2  =  2\n",
        "fib of  3  =  3\n",
        "fib of  4  =  5\n",
        "fib of  5  =  8\n"
       ]
      }
     ],
     "prompt_number": 42
    },
    {
     "cell_type": "code",
     "collapsed": false,
     "input": [
      "def isPalindrome(s):\n",
      "    def toChars(s):\n",
      "        s = s.lower()\n",
      "        letters = ''\n",
      "        for c in s:\n",
      "            if c in 'abcdefghijklmnopqrstuvwxyz ':\n",
      "                letters += c\n",
      "        return letters\n",
      "    \n",
      "    def isPal(s):\n",
      "        if len(s) <= 1:\n",
      "            return True\n",
      "        else:\n",
      "            return s[0] == s[-1] and isPal(s[1:-1])\n",
      "    return isPal(toChars(s))"
     ],
     "language": "python",
     "metadata": {},
     "outputs": [],
     "prompt_number": 43
    },
    {
     "cell_type": "code",
     "collapsed": false,
     "input": [
      "nameHandle = open('kids', 'w')\n",
      "for i in range(2):\n",
      "    name = raw_input('Enter name: ')\n",
      "    nameHandle.write(name + '\\n')\n",
      "nameHandle.close()"
     ],
     "language": "python",
     "metadata": {},
     "outputs": [
      {
       "name": "stdout",
       "output_type": "stream",
       "stream": "stdout",
       "text": [
        "Enter name: TARO\n"
       ]
      },
      {
       "name": "stdout",
       "output_type": "stream",
       "stream": "stdout",
       "text": [
        "Enter name: JIRO\n"
       ]
      }
     ],
     "prompt_number": 48
    },
    {
     "cell_type": "code",
     "collapsed": false,
     "input": [
      "nameHandle = open('kids', 'r')\n",
      "for line in nameHandle:\n",
      "    print line\n",
      "nameHandle.close()"
     ],
     "language": "python",
     "metadata": {},
     "outputs": [
      {
       "output_type": "stream",
       "stream": "stdout",
       "text": [
        "TARO\n",
        "\n",
        "JIRO\n",
        "\n"
       ]
      }
     ],
     "prompt_number": 49
    },
    {
     "cell_type": "code",
     "collapsed": false,
     "input": [
      "nameHandle = open('kids', 'a')\n",
      "nameHandle.write('Michel\\n')\n",
      "nameHandle.write('Mark\\n')\n",
      "nameHandle.close()\n",
      "nameHandle = open('kids', 'r')\n",
      "for line in nameHandle:\n",
      "    print line[:-1] # \u6539\u884c\u3092\u5916\u3059\n",
      "nameHandle.close()"
     ],
     "language": "python",
     "metadata": {},
     "outputs": [
      {
       "output_type": "stream",
       "stream": "stdout",
       "text": [
        "TARO\n",
        "JIRO\n",
        "Michel\n",
        "Mark\n",
        "Michel\n",
        "Mark\n"
       ]
      }
     ],
     "prompt_number": 51
    },
    {
     "cell_type": "markdown",
     "metadata": {},
     "source": [
      "\u7b2c5\u7ae0\u3000\u69cb\u9020\u578b\u3001\u53ef\u5909\u6027\u3068\u9ad8\u968e\u95a2\u6570"
     ]
    },
    {
     "cell_type": "code",
     "collapsed": false,
     "input": [
      "t1 = ()\n",
      "t2 = (1, 'two', 3)\n",
      "print t1\n",
      "print t2"
     ],
     "language": "python",
     "metadata": {},
     "outputs": [
      {
       "output_type": "stream",
       "stream": "stdout",
       "text": [
        "()\n",
        "(1, 'two', 3)\n"
       ]
      }
     ],
     "prompt_number": 52
    },
    {
     "cell_type": "code",
     "collapsed": false,
     "input": [
      "t1 = (1, 'two', 3)\n",
      "t2 = (t1, 3.25)\n",
      "print t2\n",
      "print (t1 + t2)\n",
      "print (t1 + t2)[3]\n",
      "print (t1 + t2)[2:5]"
     ],
     "language": "python",
     "metadata": {},
     "outputs": [
      {
       "output_type": "stream",
       "stream": "stdout",
       "text": [
        "((1, 'two', 3), 3.25)\n",
        "(1, 'two', 3, (1, 'two', 3), 3.25)\n",
        "(1, 'two', 3)\n",
        "(3, (1, 'two', 3), 3.25)\n"
       ]
      }
     ],
     "prompt_number": 53
    },
    {
     "cell_type": "code",
     "collapsed": false,
     "input": [
      "def findDivisors(n1, n2):\n",
      "    divisors = ()\n",
      "    for i in range(1, min(n1, n2) + 1):\n",
      "        if n1%i == 0 and n2%i == 0:\n",
      "            divisors = divisors + (i,) #<=== \u2605\n",
      "    return divisors\n",
      "\n",
      "divisors = findDivisors(20, 100)\n",
      "print divisors\n",
      "total = 0\n",
      "for d in divisors:\n",
      "    total += d\n",
      "print total"
     ],
     "language": "python",
     "metadata": {},
     "outputs": [
      {
       "output_type": "stream",
       "stream": "stdout",
       "text": [
        "(1, 2, 4, 5, 10, 20)\n",
        "42\n"
       ]
      }
     ],
     "prompt_number": 55
    },
    {
     "cell_type": "code",
     "collapsed": false,
     "input": [
      "def findExtreameDivisors(n1, n2):\n",
      "    divisors = ()\n",
      "    minVal, maxVal = None, None\n",
      "    for i in range(2, min(n1, n2) + 1):\n",
      "        if n1%i == 0 and n2%i == 0:\n",
      "            if minVal == None or i < minVal:\n",
      "                minVal = i\n",
      "            if maxVal == None or i > maxVal:\n",
      "                maxVal = i\n",
      "    return (minVal, maxVal)"
     ],
     "language": "python",
     "metadata": {},
     "outputs": [],
     "prompt_number": 56
    },
    {
     "cell_type": "code",
     "collapsed": false,
     "input": [
      "minDivisor, maxDivisor = findExtreameDivisors(100, 200)\n",
      "print 'minDivisor = ', minDivisor\n",
      "print 'maxDivisor = ', maxDivisor"
     ],
     "language": "python",
     "metadata": {},
     "outputs": [
      {
       "output_type": "stream",
       "stream": "stdout",
       "text": [
        "minDivisor =  2\n",
        "maxDivisor =  100\n"
       ]
      }
     ],
     "prompt_number": 57
    },
    {
     "cell_type": "code",
     "collapsed": false,
     "input": [
      "L = ['I did it all', 4, 'love']\n",
      "for i in range(len(L)):\n",
      "    print L[i]"
     ],
     "language": "python",
     "metadata": {},
     "outputs": [
      {
       "output_type": "stream",
       "stream": "stdout",
       "text": [
        "I did it all\n",
        "4\n",
        "love\n"
       ]
      }
     ],
     "prompt_number": 58
    },
    {
     "cell_type": "code",
     "collapsed": false,
     "input": [
      "Techs = ['MIT', 'Caltech']\n",
      "Ivys = ['Harvard', 'Yale', 'Brown']"
     ],
     "language": "python",
     "metadata": {},
     "outputs": [],
     "prompt_number": 60
    },
    {
     "cell_type": "code",
     "collapsed": false,
     "input": [
      "Univs = [Techs, Ivys]\n",
      "Univs1 = [['MIT', 'Caltech'], ['Harvard', 'Yale', 'Brown']]"
     ],
     "language": "python",
     "metadata": {},
     "outputs": [],
     "prompt_number": 61
    },
    {
     "cell_type": "code",
     "collapsed": false,
     "input": [
      "print 'Univs  = ', Univs\n",
      "print 'Univs1 = ', Univs1\n",
      "print Univs == Univs1"
     ],
     "language": "python",
     "metadata": {},
     "outputs": [
      {
       "output_type": "stream",
       "stream": "stdout",
       "text": [
        "Univs  =  [['MIT', 'Caltech'], ['Harvard', 'Yale', 'Brown']]\n",
        "Univs1 =  [['MIT', 'Caltech'], ['Harvard', 'Yale', 'Brown']]\n",
        "True\n"
       ]
      }
     ],
     "prompt_number": 62
    },
    {
     "cell_type": "code",
     "collapsed": false,
     "input": [
      "print Univs == Univs1\n",
      "print id(Univs) == id(Univs1)\n",
      "print 'id(Univs) = ', id(Univs)\n",
      "print 'id(Univs1) = ', id(Univs1)"
     ],
     "language": "python",
     "metadata": {},
     "outputs": [
      {
       "output_type": "stream",
       "stream": "stdout",
       "text": [
        "True\n",
        "False\n",
        "id(Univs) =  4392458720\n",
        "id(Univs1) =  4392472448\n"
       ]
      }
     ],
     "prompt_number": 64
    },
    {
     "cell_type": "code",
     "collapsed": false,
     "input": [
      "for e in Univs:\n",
      "    print 'Univs contains ', e\n",
      "    print '     which coutanis'\n",
      "    for u in e:\n",
      "        print '     ', u"
     ],
     "language": "python",
     "metadata": {},
     "outputs": [
      {
       "output_type": "stream",
       "stream": "stdout",
       "text": [
        "Univs contains  ['MIT', 'Caltech']\n",
        "     which coutanis\n",
        "      MIT\n",
        "      Caltech\n",
        "Univs contains  ['Harvard', 'Yale', 'Brown']\n",
        "     which coutanis\n",
        "      Harvard\n",
        "      Yale\n",
        "      Brown\n"
       ]
      }
     ],
     "prompt_number": 66
    },
    {
     "cell_type": "code",
     "collapsed": false,
     "input": [
      "L1 = [1, 2, 3]\n",
      "L2 = [4, 5, 6]\n",
      "L3 = L1 + L2\n",
      "print 'L3 = ', L3\n",
      "L1.extend(L2) # <== \u2605\n",
      "print 'L1 = ', L1\n",
      "L1.append(L2) # <== \u2605\n",
      "print 'L1 = ', L1"
     ],
     "language": "python",
     "metadata": {},
     "outputs": [
      {
       "output_type": "stream",
       "stream": "stdout",
       "text": [
        "L3 =  [1, 2, 3, 4, 5, 6]\n",
        "L1 =  [1, 2, 3, 4, 5, 6]\n",
        "L1 =  [1, 2, 3, 4, 5, 6, [4, 5, 6]]\n"
       ]
      }
     ],
     "prompt_number": 67
    },
    {
     "cell_type": "code",
     "collapsed": false,
     "input": [
      "def removeDups(L1, L2):\n",
      "    for e1 in L1:\n",
      "        if e1 in L2:\n",
      "            L1.remove(e1)\n",
      "L1 = [1, 2, 3, 4]\n",
      "L2 = [1, 2, 5, 6]\n",
      "removeDups(L1, L2)\n",
      "print 'L1 = ', L1"
     ],
     "language": "python",
     "metadata": {},
     "outputs": [
      {
       "output_type": "stream",
       "stream": "stdout",
       "text": [
        "L1 =  [2, 3, 4]\n"
       ]
      }
     ],
     "prompt_number": 68
    },
    {
     "cell_type": "code",
     "collapsed": false,
     "input": [
      "def removeDups(L1, L2):\n",
      "    for e1 in L1[:]: # <== \u2605\u30af\u30ed\u30fc\u30f3\n",
      "        if e1 in L2:\n",
      "            L1.remove(e1)\n",
      "L1 = [1, 2, 3, 4]\n",
      "L2 = [1, 2, 5, 6]\n",
      "removeDups(L1, L2)\n",
      "print 'L1 = ', L1"
     ],
     "language": "python",
     "metadata": {},
     "outputs": [
      {
       "output_type": "stream",
       "stream": "stdout",
       "text": [
        "L1 =  [3, 4]\n"
       ]
      }
     ],
     "prompt_number": 69
    },
    {
     "cell_type": "code",
     "collapsed": false,
     "input": [
      "L = [x**2 for x in range(1, 7)]\n",
      "print L"
     ],
     "language": "python",
     "metadata": {},
     "outputs": [
      {
       "output_type": "stream",
       "stream": "stdout",
       "text": [
        "[1, 4, 9, 16, 25, 36]\n"
       ]
      }
     ],
     "prompt_number": 71
    },
    {
     "cell_type": "code",
     "collapsed": false,
     "input": [
      "mixed = [1, 2, 'a', 3, 4.0]\n",
      "print [x**2 for x in mixed if type(x) == int]"
     ],
     "language": "python",
     "metadata": {},
     "outputs": [
      {
       "output_type": "stream",
       "stream": "stdout",
       "text": [
        "[1, 4, 9]\n"
       ]
      }
     ],
     "prompt_number": 72
    },
    {
     "cell_type": "markdown",
     "metadata": {},
     "source": [
      "\u9ad8\u968e\u30d7\u30ed\u30b0\u30e9\u30df\u30f3\u30b0"
     ]
    },
    {
     "cell_type": "code",
     "collapsed": false,
     "input": [
      "def applyToEach(L, f):\n",
      "    for i in range(len(L)):\n",
      "        L[i] = f(L[i])\n",
      "\n",
      "L = [1, -2, 3.33]\n",
      "applyToEach(L, abs)\n",
      "print L\n",
      "applyToEach(L, int)\n",
      "print L\n",
      "applyToEach(L, fib)\n",
      "print L\n",
      "applyToEach(L, factI)\n",
      "print L"
     ],
     "language": "python",
     "metadata": {},
     "outputs": [
      {
       "output_type": "stream",
       "stream": "stdout",
       "text": [
        "[1, 2, 3.33]\n",
        "[1, 2, 3]\n",
        "[1, 2, 3]\n",
        "[1, 2, 6]\n"
       ]
      }
     ],
     "prompt_number": 79
    },
    {
     "cell_type": "code",
     "collapsed": false,
     "input": [
      "L1 = [1, 28, 36]\n",
      "L2 = [4, 57, 9]\n",
      "print map(min, L1, L2) # <== \u2605"
     ],
     "language": "python",
     "metadata": {},
     "outputs": [
      {
       "output_type": "stream",
       "stream": "stdout",
       "text": [
        "[1, 28, 9]\n"
       ]
      }
     ],
     "prompt_number": 80
    },
    {
     "cell_type": "code",
     "collapsed": false,
     "input": [
      "monthNumbers = {'Jan':1, 'Feb':2, 'Mar':3, 'Apr':4, 'May':5, 'Jun':6,\n",
      "                'Jul':7, 'Aug':8, 'Sep':9, 'Oct':10, 'Nov':11, 'Dec':12,\n",
      "                1:'Jan', 2:'Feb', 3:'Mar', 4:'Apr', 5:'May', 6:'Jun'}\n",
      "print 'The third montn is ' + monthNumbers[3]\n",
      "dist = monthNumbers['Apr'] - monthNumbers['Jan']\n",
      "print 'Apr and Jan are ', dist, ' months apart'"
     ],
     "language": "python",
     "metadata": {},
     "outputs": [
      {
       "output_type": "stream",
       "stream": "stdout",
       "text": [
        "The third montn is Mar\n",
        "Apr and Jan are  3  months apart\n"
       ]
      }
     ],
     "prompt_number": 84
    },
    {
     "cell_type": "code",
     "collapsed": false,
     "input": [
      "keys = []\n",
      "for e in monthNumbers:\n",
      "    keys.append(e)\n",
      "print keys"
     ],
     "language": "python",
     "metadata": {},
     "outputs": [
      {
       "output_type": "stream",
       "stream": "stdout",
       "text": [
        "[1, 2, 'Mar', 'Feb', 5, 'Aug', 'Sep', 'Apr', 'Jun', 'Jul', 'Jan', 'May', 3, 6, 4, 'Nov', 'Dec', 'Oct']\n"
       ]
      }
     ],
     "prompt_number": 85
    },
    {
     "cell_type": "code",
     "collapsed": false,
     "input": [
      "values = monthNumbers.values()"
     ],
     "language": "python",
     "metadata": {},
     "outputs": [],
     "prompt_number": 90
    },
    {
     "cell_type": "code",
     "collapsed": false,
     "input": [
      "values"
     ],
     "language": "python",
     "metadata": {},
     "outputs": [
      {
       "metadata": {},
       "output_type": "pyout",
       "prompt_number": 91,
       "text": [
        "['Jan',\n",
        " 'Feb',\n",
        " 3,\n",
        " 2,\n",
        " 'May',\n",
        " 8,\n",
        " 9,\n",
        " 4,\n",
        " 6,\n",
        " 7,\n",
        " 1,\n",
        " 5,\n",
        " 'Mar',\n",
        " 'Jun',\n",
        " 'Apr',\n",
        " 11,\n",
        " 12,\n",
        " 10]"
       ]
      }
     ],
     "prompt_number": 91
    },
    {
     "cell_type": "code",
     "collapsed": false,
     "input": [
      "EtoF = {'bread':'pain', 'wine':'vin', 'with':'avec', 'I':'Je',\n",
      "        'eat':'mange', 'drink':'bois', 'John':'Jean',\n",
      "        'friend':'amis', 'and':'et', 'of':'du', 'red':'rouge'}\n",
      "FtoE = {value:key for key, value in EtoF.items()}\n",
      "dicts = {'English to French':EtoF, 'French to English':FtoE}\n",
      "\n",
      "def translateWord(word, dictionary):\n",
      "    if word in dictionary.keys():\n",
      "        return dictionary[word]\n",
      "    elif word != '':\n",
      "        return '\"' + word + '\"'\n",
      "    return word\n",
      "\n",
      "def translate(phrase, dicts, direction):\n",
      "    LCLetters ='abcdefghijklmnopqrstuvwxyz'\n",
      "    UCLetters = LCLetters.upper()\n",
      "    letters = LCLetters + UCLetters\n",
      "    dictionary = dicts[direction]\n",
      "    translation = ''\n",
      "    word = ''\n",
      "    for c in phrase:\n",
      "        if c in letters:\n",
      "            word += c\n",
      "        else:\n",
      "            translation += translateWord(word, dictionary) + c\n",
      "            word = ''\n",
      "    return translation + ' ' + translateWord(word, dictionary)\n",
      "\n",
      "print translate('I drink good red wine, and eat bread.'\n",
      "                , dicts, 'English to French')\n",
      "print translate('Je bois du vin rouge.'\n",
      "                , dicts, 'French to English')"
     ],
     "language": "python",
     "metadata": {},
     "outputs": [
      {
       "output_type": "stream",
       "stream": "stdout",
       "text": [
        "Je bois \"good\" rouge vin, et mange pain. \n",
        "I drink of wine red. \n"
       ]
      }
     ],
     "prompt_number": 101
    },
    {
     "cell_type": "code",
     "collapsed": false,
     "input": [
      "while True:\n",
      "    val = raw_input('Enter an integer: ')\n",
      "    try:\n",
      "        val = int(val)\n",
      "        print 'The square of the number you entered is ', val**2\n",
      "        break\n",
      "    except ValueError:\n",
      "        print val, ' is not an integer'"
     ],
     "language": "python",
     "metadata": {},
     "outputs": [
      {
       "name": "stdout",
       "output_type": "stream",
       "stream": "stdout",
       "text": [
        "Enter integer: 10\n"
       ]
      },
      {
       "output_type": "stream",
       "stream": "stdout",
       "text": [
        "The square of the number you entered is  100\n"
       ]
      }
     ],
     "prompt_number": 104
    },
    {
     "cell_type": "code",
     "collapsed": false,
     "input": [
      "def readInt():\n",
      "    while True:\n",
      "        val = raw_input('Enter an integer: ')\n",
      "        try:\n",
      "            val = int(val)\n",
      "            return val\n",
      "        except ValueError:\n",
      "            print val, ' is no an intreger'"
     ],
     "language": "python",
     "metadata": {},
     "outputs": [],
     "prompt_number": 105
    },
    {
     "cell_type": "code",
     "collapsed": false,
     "input": [
      "x = readInt()\n",
      "print 'The square of the number you entered is ', x**2"
     ],
     "language": "python",
     "metadata": {},
     "outputs": [
      {
       "name": "stdout",
       "output_type": "stream",
       "stream": "stdout",
       "text": [
        "Enter an integer: 8\n"
       ]
      },
      {
       "output_type": "stream",
       "stream": "stdout",
       "text": [
        "The square of the number you entered is  64\n"
       ]
      }
     ],
     "prompt_number": 106
    },
    {
     "cell_type": "code",
     "collapsed": false,
     "input": [
      "# \u6c4e\u5316\u3057\u305f\u5165\u529b\u30d7\u30ed\u30f3\u30d7\u30c8\n",
      "def readVal(valType, requestMsg, errorMsg):\n",
      "    while True:\n",
      "        val = raw_input(requestMsg + ' ')\n",
      "        try:\n",
      "            val = valType(val)\n",
      "            return val\n",
      "        except ValueError:\n",
      "            print val, errorMsg"
     ],
     "language": "python",
     "metadata": {},
     "outputs": [],
     "prompt_number": 107
    },
    {
     "cell_type": "code",
     "collapsed": false,
     "input": [
      "val = readVal(int, 'Enter an integer:', ' is not an integer')\n",
      "print 'The square of the number you entered is', val**2"
     ],
     "language": "python",
     "metadata": {},
     "outputs": [
      {
       "name": "stdout",
       "output_type": "stream",
       "stream": "stdout",
       "text": [
        "Enter an integer: 9\n"
       ]
      },
      {
       "output_type": "stream",
       "stream": "stdout",
       "text": [
        "The square of the number you entered is 81\n"
       ]
      }
     ],
     "prompt_number": 109
    },
    {
     "cell_type": "code",
     "collapsed": false,
     "input": [
      "def getRatios(vect1, vect2):\n",
      "    ratios = []\n",
      "    for index in range(len(vect1)):\n",
      "        try:\n",
      "            ratios.append(vect1[index]/float(vect2[index]))\n",
      "        except ZeroDivisionError:\n",
      "            ratios.append(float('nan'))\n",
      "        except:\n",
      "            raise ValueError('getRatios called with bad arguments')\n",
      "    return ratios"
     ],
     "language": "python",
     "metadata": {},
     "outputs": [],
     "prompt_number": 9
    },
    {
     "cell_type": "code",
     "collapsed": false,
     "input": [
      "try:\n",
      "    print getRatios([1.0, 2.0, 7.0, 6.0], [1.0, 2.0, 0.0, 3.0])\n",
      "    print getRatios([], [])\n",
      "    print getRatios([1.0, 2.0], [3.0])\n",
      "except ValueError, msg:\n",
      "    print msg"
     ],
     "language": "python",
     "metadata": {},
     "outputs": [
      {
       "output_type": "stream",
       "stream": "stdout",
       "text": [
        "[1.0, 1.0, nan, 2.0]\n",
        "[]\n",
        "getRatios called with bad arguments\n"
       ]
      }
     ],
     "prompt_number": 10
    },
    {
     "cell_type": "code",
     "collapsed": false,
     "input": [
      "def getRatios(vect1, vect2):\n",
      "    ratios = []\n",
      "    if len(vect1) != len(vect2):\n",
      "        raise ValueError('getRatios called with bad arguments')\n",
      "    for index in range(len(vect1)):\n",
      "        vect1Elem = vect1[index]\n",
      "        vect2Elem = vect2[index]\n",
      "        if (type(vect1Elem) not in (int, float)) \\\n",
      "        or (type(vect2Elem) not in (int, float)):\n",
      "            raise ValueError('getRatios called with bad arguments')\n",
      "        if vect2Elem == 0:\n",
      "            ratios.append(float('NaN'))\n",
      "        else:\n",
      "            ratios.append(vect1Elem/vect2Elem)\n",
      "    return ratios"
     ],
     "language": "python",
     "metadata": {},
     "outputs": [],
     "prompt_number": 13
    },
    {
     "cell_type": "code",
     "collapsed": false,
     "input": [
      "try:\n",
      "    print getRatios([1.0, 2.0, 7.0, 6.0], [1.0, 2.0, 0.0, 3.0])\n",
      "    print getRatios([], [])\n",
      "    print getRatios([1.0, 2.0], [3.0])\n",
      "except ValueError, msg:\n",
      "    print msg"
     ],
     "language": "python",
     "metadata": {},
     "outputs": [
      {
       "output_type": "stream",
       "stream": "stdout",
       "text": [
        "[1.0, 1.0, nan, 2.0]\n",
        "[]\n",
        "getRatios called with bad arguments\n"
       ]
      }
     ],
     "prompt_number": 14
    },
    {
     "cell_type": "code",
     "collapsed": false,
     "input": [
      "f = open('guiz1grade.txt', 'w')\n",
      "for i in range(10, -1, -1):\n",
      "    #print i\n",
      "    f.write(str(i) + '\\n')\n",
      "f.close()"
     ],
     "language": "python",
     "metadata": {},
     "outputs": [],
     "prompt_number": 23
    },
    {
     "cell_type": "code",
     "collapsed": false,
     "input": [
      "def getGrades(fname):\n",
      "    try:\n",
      "        gradesFile = open(fname, 'r')\n",
      "    except IOError:\n",
      "        raise ValueError('getGrades could not open ' + fname)\n",
      "    grades = []\n",
      "    for line in gradesFile:\n",
      "        try:\n",
      "            grades.append(float(line))\n",
      "        except:\n",
      "            raise ValueError('Unable to convert line into float')\n",
      "    return grades\n",
      "try:\n",
      "    grades = getGrades('guiz1grade.txt')\n",
      "    grades.sort()\n",
      "    median = grades[len(grades)//2]\n",
      "    print 'Median grade is ', median\n",
      "except ValueError, errorMsg:\n",
      "    print 'Whoops,', errorMsg"
     ],
     "language": "python",
     "metadata": {},
     "outputs": [
      {
       "output_type": "stream",
       "stream": "stdout",
       "text": [
        "Median grade is  5.0\n"
       ]
      }
     ],
     "prompt_number": 25
    },
    {
     "cell_type": "markdown",
     "metadata": {},
     "source": [
      "\u7b2c8\u7ae0\u3000\u30af\u30e9\u30b9\u3068\u30aa\u30d6\u30b8\u30a7\u30af\u30c8\u6307\u5411\u30d7\u30ed\u30b0\u30e9\u30df\u30f3\u30b0"
     ]
    },
    {
     "cell_type": "code",
     "collapsed": false,
     "input": [
      "class IntSet(object):\n",
      "    def __init__(self):\n",
      "        self.vals = []\n",
      "    def insert(self, e):\n",
      "        if not e in self.vals:\n",
      "            self.vals.append(e)\n",
      "    def member(self, e):\n",
      "        return e in self.vals\n",
      "    def remove(self, e):\n",
      "        try:\n",
      "            self.vals.remove(e)\n",
      "        except:\n",
      "            raise ValueError(str(e) + ' not found')\n",
      "    def getMembers(self):\n",
      "        return self.vals[:]\n",
      "    def __str__(self):\n",
      "        self.vals.sort()\n",
      "        result = ''\n",
      "        for e in self.vals:\n",
      "            result += str(e) + ', '\n",
      "        return '{' + result[:-2] + '}'"
     ],
     "language": "python",
     "metadata": {},
     "outputs": [],
     "prompt_number": 1
    },
    {
     "cell_type": "code",
     "collapsed": false,
     "input": [
      "s = IntSet()\n",
      "for i in range(1, 10):\n",
      "    s.insert(i)\n",
      "print s\n",
      "s.remove(9)\n",
      "print s"
     ],
     "language": "python",
     "metadata": {},
     "outputs": [
      {
       "output_type": "stream",
       "stream": "stdout",
       "text": [
        "{1, 2, 3, 4, 5, 6, 7, 8, 9}\n",
        "{1, 2, 3, 4, 5, 6, 7, 8}\n"
       ]
      }
     ],
     "prompt_number": 2
    },
    {
     "cell_type": "code",
     "collapsed": false,
     "input": [
      "import datetime\n",
      "class Person(object):\n",
      "    def __init__(self, name):\n",
      "        self.name = name\n",
      "        try:\n",
      "            lastBlank = name.rindex(' ')\n",
      "            self.lastName = name[lastBlank+1:]\n",
      "        except:\n",
      "            self.lastName = name\n",
      "        self.birthday = None\n",
      "    def getName(self):\n",
      "        return self.name\n",
      "    def getLastName(self):\n",
      "        return self.lastName\n",
      "    def setBirthday(self, birthdate):\n",
      "        self.birthday = birthdate\n",
      "    def getAge(self):\n",
      "        if self.birthday == None:\n",
      "            raise ValueError\n",
      "        return (datetime.date.today() - self.birthday).days\n",
      "    def __lt__(self, other):\n",
      "        if self.lastName == other.lastName:\n",
      "            return self.name < other.name\n",
      "        return self.lastName < other.lastName\n",
      "    def __str__(self):\n",
      "        return self.name"
     ],
     "language": "python",
     "metadata": {},
     "outputs": [],
     "prompt_number": 3
    },
    {
     "cell_type": "code",
     "collapsed": false,
     "input": [
      "me = Person('Michael Guttag')\n",
      "him = Person('Barack Hussein Obama')\n",
      "her = Person('Madonna')\n",
      "print him.getLastName()\n",
      "him.setBirthday(datetime.date(1961, 8, 4))\n",
      "her.setBirthday(datetime.date(1958, 8, 16))\n",
      "print him.getName(), 'is', him.getAge(), 'days old'"
     ],
     "language": "python",
     "metadata": {},
     "outputs": [
      {
       "output_type": "stream",
       "stream": "stdout",
       "text": [
        "Obama\n",
        "Barack Hussein Obama is 19553 days old\n"
       ]
      }
     ],
     "prompt_number": 4
    },
    {
     "cell_type": "code",
     "collapsed": false,
     "input": [
      "pList = [me, him, her]\n",
      "for p in pList:\n",
      "    print p\n",
      "pList.sort()\n",
      "for p in pList:\n",
      "    print p"
     ],
     "language": "python",
     "metadata": {},
     "outputs": [
      {
       "output_type": "stream",
       "stream": "stdout",
       "text": [
        "Michael Guttag\n",
        "Barack Hussein Obama\n",
        "Madonna\n",
        "Michael Guttag\n",
        "Madonna\n",
        "Barack Hussein Obama\n"
       ]
      }
     ],
     "prompt_number": 5
    },
    {
     "cell_type": "code",
     "collapsed": false,
     "input": [
      "class MITPerson(Person):\n",
      "    nextIdNum = 0\n",
      "    def __init__(self, name):\n",
      "        Person.__init__(self, name)\n",
      "        self.idNum = MITPerson.nextIdNum\n",
      "        MITPerson.nextIdNum += 1\n",
      "    def getIdNum(self):\n",
      "        return self.idNum\n",
      "    def __lt__(self, other):\n",
      "        return self.idNum < other.idNum\n",
      "    \n",
      "    def isStudent(self):\n",
      "        return isinstance(self, Student)"
     ],
     "language": "python",
     "metadata": {},
     "outputs": [],
     "prompt_number": 6
    },
    {
     "cell_type": "code",
     "collapsed": false,
     "input": [
      "p1 = MITPerson('Barbara Beaver')\n",
      "print str(p1) + '\\'s id number is ' + str(p1.getIdNum())"
     ],
     "language": "python",
     "metadata": {},
     "outputs": [
      {
       "output_type": "stream",
       "stream": "stdout",
       "text": [
        "Barbara Beaver's id number is 0\n"
       ]
      }
     ],
     "prompt_number": 7
    },
    {
     "cell_type": "code",
     "collapsed": false,
     "input": [
      "p1 = MITPerson('Mark Gutter')\n",
      "p2 = MITPerson('Billy Bob Beaver')\n",
      "p3 = MITPerson('Billy Bob Beaver')\n",
      "p4 = Person('Billy Bob Beaver')"
     ],
     "language": "python",
     "metadata": {},
     "outputs": [],
     "prompt_number": 8
    },
    {
     "cell_type": "code",
     "collapsed": false,
     "input": [
      "print 'p1 < p2 =', p1 < p2\n",
      "print 'p3 < p2 =', p3 < p2\n",
      "print 'p4 < p1 =', p4 < p1"
     ],
     "language": "python",
     "metadata": {},
     "outputs": [
      {
       "output_type": "stream",
       "stream": "stdout",
       "text": [
        "p1 < p2 = True\n",
        "p3 < p2 = False\n",
        "p4 < p1 = True\n"
       ]
      }
     ],
     "prompt_number": 9
    },
    {
     "cell_type": "code",
     "collapsed": false,
     "input": [
      "print 'p1 < p4 =', p1 < p4"
     ],
     "language": "python",
     "metadata": {},
     "outputs": [
      {
       "output_type": "stream",
       "stream": "stdout",
       "text": [
        "p1 < p4 ="
       ]
      },
      {
       "ename": "AttributeError",
       "evalue": "'Person' object has no attribute 'idNum'",
       "output_type": "pyerr",
       "traceback": [
        "\u001b[0;31m---------------------------------------------------------------------------\u001b[0m\n\u001b[0;31mAttributeError\u001b[0m                            Traceback (most recent call last)",
        "\u001b[0;32m<ipython-input-10-6cd23a0dfc6d>\u001b[0m in \u001b[0;36m<module>\u001b[0;34m()\u001b[0m\n\u001b[0;32m----> 1\u001b[0;31m \u001b[0;32mprint\u001b[0m \u001b[0;34m'p1 < p4 ='\u001b[0m\u001b[0;34m,\u001b[0m \u001b[0mp1\u001b[0m \u001b[0;34m<\u001b[0m \u001b[0mp4\u001b[0m\u001b[0;34m\u001b[0m\u001b[0m\n\u001b[0m",
        "\u001b[0;32m<ipython-input-6-5c138190415a>\u001b[0m in \u001b[0;36m__lt__\u001b[0;34m(self, other)\u001b[0m\n\u001b[1;32m      8\u001b[0m         \u001b[0;32mreturn\u001b[0m \u001b[0mself\u001b[0m\u001b[0;34m.\u001b[0m\u001b[0midNum\u001b[0m\u001b[0;34m\u001b[0m\u001b[0m\n\u001b[1;32m      9\u001b[0m     \u001b[0;32mdef\u001b[0m \u001b[0m__lt__\u001b[0m\u001b[0;34m(\u001b[0m\u001b[0mself\u001b[0m\u001b[0;34m,\u001b[0m \u001b[0mother\u001b[0m\u001b[0;34m)\u001b[0m\u001b[0;34m:\u001b[0m\u001b[0;34m\u001b[0m\u001b[0m\n\u001b[0;32m---> 10\u001b[0;31m         \u001b[0;32mreturn\u001b[0m \u001b[0mself\u001b[0m\u001b[0;34m.\u001b[0m\u001b[0midNum\u001b[0m \u001b[0;34m<\u001b[0m \u001b[0mother\u001b[0m\u001b[0;34m.\u001b[0m\u001b[0midNum\u001b[0m\u001b[0;34m\u001b[0m\u001b[0m\n\u001b[0m\u001b[1;32m     11\u001b[0m \u001b[0;34m\u001b[0m\u001b[0m\n\u001b[1;32m     12\u001b[0m     \u001b[0;32mdef\u001b[0m \u001b[0misStudent\u001b[0m\u001b[0;34m(\u001b[0m\u001b[0mself\u001b[0m\u001b[0;34m)\u001b[0m\u001b[0;34m:\u001b[0m\u001b[0;34m\u001b[0m\u001b[0m\n",
        "\u001b[0;31mAttributeError\u001b[0m: 'Person' object has no attribute 'idNum'"
       ]
      }
     ],
     "prompt_number": 10
    },
    {
     "cell_type": "code",
     "collapsed": false,
     "input": [
      "class Student(MITPerson):\n",
      "    pass\n",
      "class UG(Student):\n",
      "    def __init__(self, name, classYear):\n",
      "        MITPerson.__init__(self, name)\n",
      "        self.year = classYear\n",
      "    def getClass(self):\n",
      "        return self.year\n",
      "class Grad(Student):\n",
      "    pass"
     ],
     "language": "python",
     "metadata": {},
     "outputs": [
      {
       "output_type": "stream",
       "stream": "stdout",
       "text": [
        "\n"
       ]
      }
     ],
     "prompt_number": 11
    },
    {
     "cell_type": "code",
     "collapsed": false,
     "input": [
      "p5 = Grad('Buzz Aldrin')\n",
      "p6 = UG('Billy Beaver', 1984)\n",
      "print p5, 'is a graduate student is', type(p5) == Grad\n",
      "print p5, 'is an undergraduate student is', type(p5) == UG"
     ],
     "language": "python",
     "metadata": {},
     "outputs": [
      {
       "output_type": "stream",
       "stream": "stdout",
       "text": [
        "Buzz Aldrin is a graduate student is True\n",
        "Buzz Aldrin is an undergraduate student is False\n"
       ]
      }
     ],
     "prompt_number": 12
    },
    {
     "cell_type": "code",
     "collapsed": false,
     "input": [
      "def isStudent(self):\n",
      "    return isinstance(self, Student)"
     ],
     "language": "python",
     "metadata": {},
     "outputs": [],
     "prompt_number": 13
    },
    {
     "cell_type": "code",
     "collapsed": false,
     "input": [
      "print p5, 'is a student is', p5.isStudent()\n",
      "print p6, 'is a student is', p6.isStudent()\n",
      "print p3, 'is a student is', p3.isStudent()"
     ],
     "language": "python",
     "metadata": {},
     "outputs": [
      {
       "output_type": "stream",
       "stream": "stdout",
       "text": [
        "Buzz Aldrin is a student is True\n",
        "Billy Beaver is a student is True\n",
        "Billy Bob Beaver is a student is False\n"
       ]
      }
     ],
     "prompt_number": 14
    },
    {
     "cell_type": "code",
     "collapsed": false,
     "input": [
      "class Grades(object):\n",
      "    def __init__(self):\n",
      "        self.students = []\n",
      "        self.grades = {}\n",
      "        self.isSorted = True\n",
      "    def addStudent(self, student):\n",
      "        if student in self.students:\n",
      "            raise ValueError('Duplicate student')\n",
      "        self.students.append(student)\n",
      "        self.grades[student.getName()] = []\n",
      "        self.isSorted = False\n",
      "    def addGrade(self, student, grade):\n",
      "        try:\n",
      "            self.grades[student.getName()].append(grade)\n",
      "        except:\n",
      "            raise ValueError('Student not in mapping')\n",
      "    def getGrades(self, student):\n",
      "        try:\n",
      "            return self.grades[student.getName()][:]\n",
      "        except:\n",
      "            raise ValueError('Student not in mapping')\n",
      "    def getStudents(self):\n",
      "        if not self.isSorted:\n",
      "            self.students.sort()\n",
      "            self.isSorted = True\n",
      "        return self.students[:]"
     ],
     "language": "python",
     "metadata": {},
     "outputs": [],
     "prompt_number": 15
    },
    {
     "cell_type": "code",
     "collapsed": false,
     "input": [
      "def gradeReport(course):\n",
      "    report = ''\n",
      "    for s in course.getStudents():\n",
      "        tot = 0.0\n",
      "        numGrades = 0\n",
      "        for g in course.getGrades(s):\n",
      "            tot += g\n",
      "            numGrades += 1\n",
      "        try:\n",
      "            average = tot/numGrades\n",
      "            report = report + '\\n' + str(s) + '\\'s mean grade is ' \\\n",
      "                + str(average)\n",
      "        except ZeroDivisionError:\n",
      "            report = report + '\\n' + str(s) + ' has no grades'\n",
      "    return report\n",
      "\n",
      "ug1 = UG('Jane Doe', 2014)\n",
      "ug2 = UG('John Doe', 2015)\n",
      "ug3 = UG('David Henry', 2003)\n",
      "g1 = Grad('Billy Bucker')\n",
      "g2 = Grad('Buck D. Dent')\n",
      "sixHundred = Grades()\n",
      "sixHundred.addStudent(ug1)\n",
      "sixHundred.addStudent(ug2)\n",
      "sixHundred.addStudent(g1)\n",
      "sixHundred.addStudent(g2)\n",
      "for s in sixHundred.getStudents():\n",
      "    sixHundred.addGrade(s, 75)\n",
      "sixHundred.addGrade(g1, 25)\n",
      "sixHundred.addGrade(g2, 100)\n",
      "print gradeReport(sixHundred)"
     ],
     "language": "python",
     "metadata": {},
     "outputs": [
      {
       "output_type": "stream",
       "stream": "stdout",
       "text": [
        "\n",
        "Jane Doe's mean grade is 75.0\n",
        "John Doe's mean grade is 75.0\n",
        "Billy Bucker's mean grade is 50.0\n",
        "Buck D. Dent's mean grade is 87.5\n"
       ]
      }
     ],
     "prompt_number": 16
    },
    {
     "cell_type": "code",
     "collapsed": false,
     "input": [
      "## \u2605\u65b0\u7248\n",
      "class Grades(object):\n",
      "    def __init__(self):\n",
      "        self.students = []\n",
      "        self.grades = {}\n",
      "        self.isSorted = True\n",
      "    def addStudent(self, student):\n",
      "        if student in self.students:\n",
      "            raise ValueError('Duplicate student')\n",
      "        self.students.append(student)\n",
      "        self.grades[student.getName()] = []\n",
      "        self.isSorted = False\n",
      "    def addGrade(self, student, grade):\n",
      "        try:\n",
      "            self.grades[student.getName()].append(grade)\n",
      "        except:\n",
      "            raise ValueError('Student not in mapping')\n",
      "    def getGrades(self, student):\n",
      "        try:\n",
      "            return self.grades[student.getName()][:]\n",
      "        except:\n",
      "            raise ValueError('Student not in mapping')\n",
      "    def getStudents(self):\n",
      "        if not self.isSorted:\n",
      "            self.students.sort()\n",
      "            self.isSorted = True\n",
      "        # return self.students[:]\n",
      "        for s in self.students:\n",
      "            yield s # <===== \u2605\u2605\u2605 \u30b8\u30a7\u30cd\u30ec\u30fc\u30bf"
     ],
     "language": "python",
     "metadata": {},
     "outputs": [],
     "prompt_number": 18
    },
    {
     "cell_type": "code",
     "collapsed": false,
     "input": [
      "book = Grades()\n",
      "book.addStudent(Grad('Julie'))\n",
      "book.addStudent(Grad('Charlie'))\n",
      "for s in book.getStudents():\n",
      "    print s"
     ],
     "language": "python",
     "metadata": {},
     "outputs": [
      {
       "output_type": "stream",
       "stream": "stdout",
       "text": [
        "Julie\n",
        "Charlie\n"
       ]
      }
     ],
     "prompt_number": 19
    },
    {
     "cell_type": "code",
     "collapsed": false,
     "input": [
      "def findPayment(loan, r, m):\n",
      "    return loan*(( r * ( 1 + r )**m )/(( 1 + r )**m - 1))\n",
      "\n",
      "class Mortgage(object):\n",
      "    def __init__(self, loan, annRate, months):\n",
      "        self.loan = loan\n",
      "        self.rate = annRate/12.0\n",
      "        self.months = months\n",
      "        self.paid = [0.0]\n",
      "        self.owed = [loan]\n",
      "        self.payment = findPayment(loan, self.rate, months)\n",
      "        self.legend = None\n",
      "    def makePayment(self):\n",
      "        self.paid.append(self.payment)\n",
      "        reduction = self.payment - self.owed[-1]*self.rate\n",
      "        self.owed.append(self.owed[-1] - reduction)\n",
      "    def getTotalPaid(self):\n",
      "        return sum(self.paid)\n",
      "    def __str__(self):\n",
      "        return self.legend"
     ],
     "language": "python",
     "metadata": {},
     "outputs": [],
     "prompt_number": 41
    },
    {
     "cell_type": "code",
     "collapsed": false,
     "input": [
      "class Fixed(Mortgage):\n",
      "    def __init__(self, loan, r, months):\n",
      "        Mortgage.__init__(self, loan, r, months)\n",
      "        self.legend = 'Fixed, ' + str(r*100) + '%'\n",
      "        \n",
      "class FixedWithPts(Mortgage):\n",
      "    def __init__(self, loan, r, months, pts):\n",
      "        Mortgage.__init__(self, loan, r, months)\n",
      "        self.pts = pts\n",
      "        self.paid = [loan*(pts/100.0)]\n",
      "        self.legend = 'Fixed, ' + str(r*100) + '% ' + str(pts) + ' points'"
     ],
     "language": "python",
     "metadata": {},
     "outputs": [],
     "prompt_number": 42
    },
    {
     "cell_type": "code",
     "collapsed": false,
     "input": [
      "class TwoRate(Mortgage):\n",
      "    def __init__(self, loan, r, months, teaserRate, teaserMonths):\n",
      "        Mortgage.__init__(self, loan, teaserRate, months)\n",
      "        self.teaserMonths = teaserMonths\n",
      "        self.teaserRate = teaserRate\n",
      "        self.nextRate = r/12.0\n",
      "        self.legend = str(teaserRate*100) + '% for ' \\\n",
      "            + str(self.teaserMonths) + 'months, then ' + str(r*100) + '%'\n",
      "    def makePayment(self):\n",
      "        if len(self.paid) == self.teaserMonths + 1:\n",
      "            self.rate = self.nextRate\n",
      "            self.payment = findPayment(self.owed[-1], self.rate,\n",
      "                                       self.months - self.teaserMonths)\n",
      "        Mortgage.makePayment(self)"
     ],
     "language": "python",
     "metadata": {},
     "outputs": [],
     "prompt_number": 45
    },
    {
     "cell_type": "code",
     "collapsed": false,
     "input": [
      "def compareMortgages(amt, year, fixedRate, pts, ptsRate,\n",
      "                     varRate1, varRate2, varMonths):\n",
      "    totMonths = year * 12\n",
      "    fixed1 = Fixed(amt, fixedRate, totMonths)\n",
      "    fixed2 = FixedWithPts(amt, ptsRate, totMonths, pts)\n",
      "    twoRate = TwoRate(amt, varRate2, totMonths, varRate1, varMonths)\n",
      "    morts = [fixed1, fixed2, twoRate]\n",
      "    for m in range(totMonths):\n",
      "        for mort in morts:\n",
      "            mort.makePayment()\n",
      "    for m in morts:\n",
      "        print m\n",
      "        print 'Total payments = $' + str(int(m.getTotalPaid()))\n",
      "\n",
      "compareMortgages(amt=200000, year=30, fixedRate=0.07,\n",
      "                 pts=3.25, ptsRate=0.05, varRate1=0.045,\n",
      "                 varRate2=0.095,varMonths=48)"
     ],
     "language": "python",
     "metadata": {},
     "outputs": [
      {
       "output_type": "stream",
       "stream": "stdout",
       "text": [
        "Fixed, 7.0%\n",
        "Total payments = $479017\n",
        "Fixed, 5.0% 3.25 points\n",
        "Total payments = $393011\n",
        "4.5% for 48months, then 9.5%\n",
        "Total payments = $551444\n"
       ]
      }
     ],
     "prompt_number": 46
    },
    {
     "cell_type": "code",
     "collapsed": false,
     "input": [],
     "language": "python",
     "metadata": {},
     "outputs": [],
     "prompt_number": 47
    }
   ],
   "metadata": {}
  }
 ]
}