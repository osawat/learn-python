{
 "metadata": {
  "name": "",
  "signature": "sha256:bd381960b9756f42b02e5115177e4892578f7d3f362d700fc313ceb63c66f96b"
 },
 "nbformat": 3,
 "nbformat_minor": 0,
 "worksheets": [
  {
   "cells": [
    {
     "cell_type": "markdown",
     "metadata": {},
     "source": [
      "\u7b2c9\u7ae0\u3000\u8a08\u7b97\u8907\u96d1\u6027\u5165\u9580"
     ]
    },
    {
     "cell_type": "code",
     "collapsed": false,
     "input": [
      "def f(i):\n",
      "    answer = 1\n",
      "    while i >= 1:\n",
      "        answer *= i\n",
      "        i -= 1\n",
      "    return answer\n",
      "print f(100)"
     ],
     "language": "python",
     "metadata": {},
     "outputs": [
      {
       "output_type": "stream",
       "stream": "stdout",
       "text": [
        "93326215443944152681699238856266700490715968264381621468592963895217599993229915608941463976156518286253697920827223758251185210916864000000000000000000000000\n"
       ]
      }
     ],
     "prompt_number": 17
    },
    {
     "cell_type": "code",
     "collapsed": false,
     "input": [
      "def lineSearch(L, x):\n",
      "    for e in L:\n",
      "        if e == x:\n",
      "            return True\n",
      "    return False"
     ],
     "language": "python",
     "metadata": {},
     "outputs": [],
     "prompt_number": 18
    },
    {
     "cell_type": "code",
     "collapsed": false,
     "input": [
      "%time lineSearch(range(100000000, -1, -1), 0)"
     ],
     "language": "python",
     "metadata": {},
     "outputs": [
      {
       "output_type": "stream",
       "stream": "stdout",
       "text": [
        "CPU times: user 13.7 s, sys: 5.06 s, total: 18.7 s\n",
        "Wall time: 23.9 s\n"
       ]
      },
      {
       "metadata": {},
       "output_type": "pyout",
       "prompt_number": 19,
       "text": [
        "True"
       ]
      }
     ],
     "prompt_number": 19
    },
    {
     "cell_type": "code",
     "collapsed": false,
     "input": [
      "def fact(n):\n",
      "    answer = 1\n",
      "    while n > 1:\n",
      "        answer *= n\n",
      "        n -= 1\n",
      "    return answer\n",
      "print fact(100)"
     ],
     "language": "python",
     "metadata": {},
     "outputs": [
      {
       "output_type": "stream",
       "stream": "stdout",
       "text": [
        "93326215443944152681699238856266700490715968264381621468592963895217599993229915608941463976156518286253697920827223758251185210916864000000000000000000000000\n"
       ]
      }
     ],
     "prompt_number": 20
    },
    {
     "cell_type": "code",
     "collapsed": false,
     "input": [
      "def squareRootExhaustive(x, epsilon):\n",
      "    step = epsilon**2\n",
      "    ans = 0.0\n",
      "    while abs(ans**2 - x) >= epsilon and ans*ans <= x:\n",
      "        ans += step\n",
      "        if ans*ans > x:\n",
      "            raise ValueError\n",
      "    return ans"
     ],
     "language": "python",
     "metadata": {},
     "outputs": [],
     "prompt_number": 21
    },
    {
     "cell_type": "code",
     "collapsed": false,
     "input": [
      "def squareRoot(x, epsilon):\n",
      "    low = 0.0\n",
      "    high = max(1.0, x)\n",
      "    ans = (high + low)/2.0\n",
      "    while abs(ans**2 - x) >= epsilon:\n",
      "        if ans**2 < x:\n",
      "            low = ans\n",
      "        else:\n",
      "            high = ans\n",
      "        ans = (high + low)/2.0\n",
      "    return ans\n",
      "squareRoot(100, 0.0001)"
     ],
     "language": "python",
     "metadata": {},
     "outputs": [
      {
       "metadata": {},
       "output_type": "pyout",
       "prompt_number": 22,
       "text": [
        "10.000002384185791"
       ]
      }
     ],
     "prompt_number": 22
    },
    {
     "cell_type": "code",
     "collapsed": false,
     "input": [
      "save hello.py 23"
     ],
     "language": "python",
     "metadata": {},
     "outputs": [
      {
       "output_type": "stream",
       "stream": "stdout",
       "text": [
        "The following commands were written to file `hello.py`:\n",
        "get_ipython().magic(u'save hello.py 23')\n"
       ]
      }
     ],
     "prompt_number": 23
    },
    {
     "cell_type": "code",
     "collapsed": false,
     "input": [
      "def f(x):\n",
      "    ans = 0\n",
      "    for i in range(1000):\n",
      "        ans += 1\n",
      "    print 'Number of addtion so far', ans\n",
      "    for i in range(x):\n",
      "        ans += 1\n",
      "    print 'Number of addtion so far', ans\n",
      "    for i in range(x):\n",
      "        for j in range(x):\n",
      "            ans += 1\n",
      "            ans += 1\n",
      "    print 'Number of addtion so far', ans\n",
      "    return ans\n",
      "f(10)"
     ],
     "language": "python",
     "metadata": {},
     "outputs": [
      {
       "output_type": "stream",
       "stream": "stdout",
       "text": [
        "Number of addtion so far 1000\n",
        "Number of addtion so far 1010\n",
        "Number of addtion so far 1210\n"
       ]
      },
      {
       "metadata": {},
       "output_type": "pyout",
       "prompt_number": 24,
       "text": [
        "1210"
       ]
      }
     ],
     "prompt_number": 24
    },
    {
     "cell_type": "code",
     "collapsed": false,
     "input": [
      "def intToStr(i):\n",
      "    digits = '0123456789'\n",
      "    if i == 0:\n",
      "        return '0'\n",
      "    result = ''\n",
      "    while i > 0:\n",
      "        result = digits[i%10] + result\n",
      "        i = i / 10\n",
      "    return result\n",
      "intToStr(380)"
     ],
     "language": "python",
     "metadata": {},
     "outputs": [
      {
       "metadata": {},
       "output_type": "pyout",
       "prompt_number": 25,
       "text": [
        "'380'"
       ]
      }
     ],
     "prompt_number": 25
    },
    {
     "cell_type": "code",
     "collapsed": false,
     "input": [
      "def addDigits(n):\n",
      "    stringRep = intToStr(n)\n",
      "    val = 0\n",
      "    for c in stringRep:\n",
      "        val += int(c)\n",
      "    return val\n",
      "addDigits(123)"
     ],
     "language": "python",
     "metadata": {},
     "outputs": [
      {
       "metadata": {},
       "output_type": "pyout",
       "prompt_number": 26,
       "text": [
        "6"
       ]
      }
     ],
     "prompt_number": 26
    },
    {
     "cell_type": "code",
     "collapsed": false,
     "input": [
      "def addDigits(s):\n",
      "    val = 0\n",
      "    for c in s:\n",
      "        val += int(c)\n",
      "    return val\n",
      "addDigits('123')"
     ],
     "language": "python",
     "metadata": {},
     "outputs": [
      {
       "metadata": {},
       "output_type": "pyout",
       "prompt_number": 27,
       "text": [
        "6"
       ]
      }
     ],
     "prompt_number": 27
    },
    {
     "cell_type": "code",
     "collapsed": false,
     "input": [
      "def factorial(x):\n",
      "    if x == 1:\n",
      "        return 1\n",
      "    else:\n",
      "        return x * factorial(x - 1)\n",
      "print factorial(5)"
     ],
     "language": "python",
     "metadata": {},
     "outputs": [
      {
       "output_type": "stream",
       "stream": "stdout",
       "text": [
        "120\n"
       ]
      }
     ],
     "prompt_number": 28
    },
    {
     "cell_type": "code",
     "collapsed": false,
     "input": [
      "def isSubset(L1, L2):\n",
      "    for e1 in L1:\n",
      "        matched = False\n",
      "        for e2 in L2:\n",
      "            if e1 == e2:\n",
      "                matched = True\n",
      "                break\n",
      "        if not matched:\n",
      "            return False\n",
      "    return True\n",
      "L1 = [1, 3]\n",
      "L2 = [1, 2, 3, 4]\n",
      "isSubset(L1, L2)"
     ],
     "language": "python",
     "metadata": {},
     "outputs": [
      {
       "metadata": {},
       "output_type": "pyout",
       "prompt_number": 29,
       "text": [
        "True"
       ]
      }
     ],
     "prompt_number": 29
    },
    {
     "cell_type": "code",
     "collapsed": false,
     "input": [
      "def intersect(L1, L2):\n",
      "    tmp = []\n",
      "    for e1 in L1:\n",
      "        for e2 in L2:\n",
      "            if e1 == e2:\n",
      "                tmp.append(e1)\n",
      "    result = []\n",
      "    for e in tmp:\n",
      "        if e not in result:\n",
      "            result.append(e)\n",
      "    return result\n",
      "L1 = [1, 3, 5, 6]\n",
      "L2 = [4, 5, 6]\n",
      "print intersect(L1, L2)"
     ],
     "language": "python",
     "metadata": {},
     "outputs": [
      {
       "output_type": "stream",
       "stream": "stdout",
       "text": [
        "[5, 6]\n"
       ]
      }
     ],
     "prompt_number": 30
    },
    {
     "cell_type": "code",
     "collapsed": false,
     "input": [
      "def getBinaryRep(n, numDigits):\n",
      "    result = ''\n",
      "    while n > 0:\n",
      "        result = str(n%2) + result\n",
      "        n = n//2\n",
      "    if len(result) > numDigits:\n",
      "        raise ValueError('not enough digits')\n",
      "    for i in range(numDigits - len(result)):\n",
      "        result = '0' + result\n",
      "    return result\n",
      "\n",
      "def getPowerset(L):\n",
      "    powerset = []\n",
      "    for i in range(0, 2**len(L)):\n",
      "        binStr = getBinaryRep(i, len(L))\n",
      "        subset = []\n",
      "        for j in range(len(L)):\n",
      "            if binStr[j] == '1':\n",
      "                subset.append(L[j])\n",
      "        powerset.append(subset)\n",
      "    return powerset\n",
      "print getPowerset(['a', 'b', 'c'])"
     ],
     "language": "python",
     "metadata": {},
     "outputs": [
      {
       "output_type": "stream",
       "stream": "stdout",
       "text": [
        "[[], ['c'], ['b'], ['b', 'c'], ['a'], ['a', 'c'], ['a', 'b'], ['a', 'b', 'c']]\n"
       ]
      }
     ],
     "prompt_number": 31
    },
    {
     "cell_type": "markdown",
     "metadata": {},
     "source": [
      "\u7b2c10\u7ae0\u3000\u3044\u304f\u3064\u304b\u306e\u5358\u7d14\u306a\u30a2\u30eb\u30b4\u30ea\u30ba\u30e0\u3068\u30c7\u30fc\u30bf\u69cb\u9020"
     ]
    },
    {
     "cell_type": "code",
     "collapsed": false,
     "input": [
      "def search(L, e):\n",
      "    for i in range(len(L)):\n",
      "        if L[i] == e:\n",
      "            return True\n",
      "    return False\n",
      "\n",
      "print search([1, 2, 3, 4, 5, 6], 5)"
     ],
     "language": "python",
     "metadata": {},
     "outputs": [
      {
       "output_type": "stream",
       "stream": "stdout",
       "text": [
        "True\n"
       ]
      }
     ],
     "prompt_number": 32
    },
    {
     "cell_type": "code",
     "collapsed": false,
     "input": [
      "def search(L, e):\n",
      "    def bSearch(L, e, low, high):\n",
      "        if high == low:\n",
      "            return L[low] == e\n",
      "        mid = (low + high)//2\n",
      "        if L[mid] == e:\n",
      "            return True\n",
      "        elif L[mid] > e:\n",
      "            if low == mid:\n",
      "                return False\n",
      "            else:\n",
      "                return bSearch(L, e, low, mid - 1)\n",
      "        else:\n",
      "            return bSearch(L, e, mid + 1, high)\n",
      "        if len(L) == 0:\n",
      "            return False\n",
      "        else:\n",
      "            return bSearch(L, e, len(L) - 1)"
     ],
     "language": "python",
     "metadata": {},
     "outputs": [],
     "prompt_number": 33
    },
    {
     "cell_type": "code",
     "collapsed": false,
     "input": [
      "def selSort(L):\n",
      "    suffixStart = 0\n",
      "    while suffixStart != len(L):\n",
      "        for i in range(suffixStart, len(L)):\n",
      "            if L[i] < L[suffixStart]:\n",
      "                L[suffixStart], L[i] = L[i], L[suffixStart]\n",
      "        suffixStart += 1"
     ],
     "language": "python",
     "metadata": {},
     "outputs": [],
     "prompt_number": 34
    },
    {
     "cell_type": "code",
     "collapsed": false,
     "input": [
      "def merge(left, right, compare):\n",
      "    result = []\n",
      "    i, j = 0, 0\n",
      "    while i < len(left) and j < len(right):\n",
      "        if compare(left[i], right[i]):\n",
      "            result.append(left[i])\n",
      "            i += 1\n",
      "        else:\n",
      "            result.append(right[j])\n",
      "            j += 1\n",
      "    while ( i < len(left)):\n",
      "        result.append(left[i])\n",
      "        i += 1\n",
      "    while ( j < len(right)):\n",
      "        result.append(right[j])\n",
      "        j += 1\n",
      "    return result\n",
      "\n",
      "import operator\n",
      "def mergeSort(L, compare = operator.lt):\n",
      "    if len(L) < 2:\n",
      "        return L[:]\n",
      "    else:\n",
      "        middle = len(L)//2\n",
      "        left = mergeSort(L[:middle], compare)\n",
      "        right = mergeSort(L[middle:], compare)\n",
      "        return (left, right, compare)"
     ],
     "language": "python",
     "metadata": {},
     "outputs": [],
     "prompt_number": 53
    },
    {
     "cell_type": "code",
     "collapsed": false,
     "input": [
      "def lastNameFirstName(name1, name2):\n",
      "    import string\n",
      "    name1 = string.split(name1, ' ')\n",
      "    name2 = string.split(name2, ' ')\n",
      "    if name1[1] != name2[1]:\n",
      "        return name1[1] < name2[1]\n",
      "    else:\n",
      "        return name1[0] < name2[0]\n",
      "\n",
      "def firstNameLastName(name1, name2):\n",
      "    import string\n",
      "    name1 = string.split(name1, ' ')\n",
      "    name2 = string.split(name2, ' ')\n",
      "    if name1[0] != name2[0]:\n",
      "        return name1[0] < name2[1]\n",
      "    else:\n",
      "        return name1[1] < name2[1]\n",
      "    \n",
      "L = ['Chris Terman', 'Tom brady', 'Eric Grimson', 'Gisele Bundchen']\n",
      "newL = mergeSort(L, lastNameFirstName)\n",
      "print 'Sorted by last name = ', newL\n",
      "newL = mergeSort(L, firstNameLastName)\n",
      "print 'Sorted by first name = ', newL    "
     ],
     "language": "python",
     "metadata": {},
     "outputs": [
      {
       "output_type": "stream",
       "stream": "stdout",
       "text": [
        "Sorted by last name =  ((['Chris Terman'], ['Tom brady'], <function lastNameFirstName at 0x10da419b0>), (['Eric Grimson'], ['Gisele Bundchen'], <function lastNameFirstName at 0x10da419b0>), <function lastNameFirstName at 0x10da419b0>)\n",
        "Sorted by first name =  ((['Chris Terman'], ['Tom brady'], <function firstNameLastName at 0x108c3c398>), (['Eric Grimson'], ['Gisele Bundchen'], <function firstNameLastName at 0x108c3c398>), <function firstNameLastName at 0x108c3c398>)\n"
       ]
      }
     ],
     "prompt_number": 54
    },
    {
     "cell_type": "code",
     "collapsed": false,
     "input": [
      "L = [3, 5, 2]\n",
      "D = {'a':12, 'c':5, 'b':'dog'}\n",
      "print sorted(L)\n",
      "print L\n",
      "L.sort()\n",
      "print L\n",
      "print sorted(D)\n",
      "D.sort()"
     ],
     "language": "python",
     "metadata": {},
     "outputs": [
      {
       "output_type": "stream",
       "stream": "stdout",
       "text": [
        "[2, 3, 5]\n",
        "[3, 5, 2]\n",
        "[2, 3, 5]\n",
        "['a', 'b', 'c']\n"
       ]
      },
      {
       "ename": "AttributeError",
       "evalue": "'dict' object has no attribute 'sort'",
       "output_type": "pyerr",
       "traceback": [
        "\u001b[0;31m---------------------------------------------------------------------------\u001b[0m\n\u001b[0;31mAttributeError\u001b[0m                            Traceback (most recent call last)",
        "\u001b[0;32m<ipython-input-55-a868f5da5fa6>\u001b[0m in \u001b[0;36m<module>\u001b[0;34m()\u001b[0m\n\u001b[1;32m      6\u001b[0m \u001b[0;32mprint\u001b[0m \u001b[0mL\u001b[0m\u001b[0;34m\u001b[0m\u001b[0m\n\u001b[1;32m      7\u001b[0m \u001b[0;32mprint\u001b[0m \u001b[0msorted\u001b[0m\u001b[0;34m(\u001b[0m\u001b[0mD\u001b[0m\u001b[0;34m)\u001b[0m\u001b[0;34m\u001b[0m\u001b[0m\n\u001b[0;32m----> 8\u001b[0;31m \u001b[0mD\u001b[0m\u001b[0;34m.\u001b[0m\u001b[0msort\u001b[0m\u001b[0;34m(\u001b[0m\u001b[0;34m)\u001b[0m\u001b[0;34m\u001b[0m\u001b[0m\n\u001b[0m",
        "\u001b[0;31mAttributeError\u001b[0m: 'dict' object has no attribute 'sort'"
       ]
      }
     ],
     "prompt_number": 55
    },
    {
     "cell_type": "code",
     "collapsed": false,
     "input": [
      "L = [[1, 2, 3], (3, 2, 1, 0), 'abc']\n",
      "print sorted(L, key = len, reverse=True)"
     ],
     "language": "python",
     "metadata": {},
     "outputs": [
      {
       "output_type": "stream",
       "stream": "stdout",
       "text": [
        "[(3, 2, 1, 0), [1, 2, 3], 'abc']\n"
       ]
      }
     ],
     "prompt_number": 56
    },
    {
     "cell_type": "code",
     "collapsed": false,
     "input": [
      "class intDict(object):\n",
      "    def __init__(self, numBuckets):\n",
      "        self.buckets = []\n",
      "        self.numBuckets = numBuckets\n",
      "        for i in range(numBuckets):\n",
      "            self.buckets.append([])\n",
      "    def addEntry(self, dictKey, dictVal):\n",
      "        hashBucket = self.buckets[dictKey%self.numBuckets]\n",
      "        for i in range(len(hashBucket)):\n",
      "            if hashBucket[i][0] == dictKey:\n",
      "                hashBucket[i] = (dictKey, dictVal)\n",
      "                return\n",
      "        hashBucket.append((dictKey, dictVal))\n",
      "    def getValue(self, dictKey):\n",
      "        hashBucket = self.buckets[dictKey%self.numBuckets]\n",
      "        for e in hashBucket:\n",
      "            if e[0] == dictKey:\n",
      "                return e[1]\n",
      "        return None\n",
      "    def __str__(self):\n",
      "        result = '{'\n",
      "        for b in self.buckets:\n",
      "            for e in b:\n",
      "                result = result + str(e[0]) + ' : ' + str(e[1]) + '.'\n",
      "        return result[:-1] + '}'"
     ],
     "language": "python",
     "metadata": {},
     "outputs": [],
     "prompt_number": 57
    },
    {
     "cell_type": "code",
     "collapsed": false,
     "input": [
      "import random\n",
      "\n",
      "D = intDict(29)\n",
      "for i in range(20):\n",
      "    key = random.randint(0, 10**5)\n",
      "    D.addEntry(key, i)\n",
      "print 'The value of the intDict is: '\n",
      "print D\n",
      "print '\\n', 'The buckets are: '\n",
      "for hashBucket in D.buckets:\n",
      "    print '   ', hashBucket"
     ],
     "language": "python",
     "metadata": {},
     "outputs": [
      {
       "output_type": "stream",
       "stream": "stdout",
       "text": [
        "The value of the intDict is: \n",
        "{58233 : 2.80302 : 4.37934 : 12.55452 : 1.70563 : 9.15724 : 18.36199 : 10.41246 : 7.16770 : 11.82689 : 5.48529 : 15.56128 : 3.80376 : 0.4805 : 16.52251 : 14.48453 : 8.46540 : 13.71540 : 6.14382 : 17.23111 : 19}\n",
        "\n",
        "The buckets are: \n",
        "    []\n",
        "    [(58233, 2), (80302, 4)]\n",
        "    [(37934, 12)]\n",
        "    []\n",
        "    [(55452, 1)]\n",
        "    []\n",
        "    [(70563, 9), (15724, 18)]\n",
        "    [(36199, 10)]\n",
        "    [(41246, 7), (16770, 11)]\n",
        "    []\n",
        "    [(82689, 5)]\n",
        "    []\n",
        "    [(48529, 15)]\n",
        "    [(56128, 3)]\n",
        "    []\n",
        "    []\n",
        "    []\n",
        "    [(80376, 0)]\n",
        "    []\n",
        "    []\n",
        "    [(4805, 16)]\n",
        "    []\n",
        "    [(52251, 14)]\n",
        "    [(48453, 8)]\n",
        "    [(46540, 13)]\n",
        "    []\n",
        "    [(71540, 6)]\n",
        "    [(14382, 17), (23111, 19)]\n",
        "    []\n"
       ]
      }
     ],
     "prompt_number": 58
    },
    {
     "cell_type": "markdown",
     "metadata": {},
     "source": [
      "\u7b2c11\u7ae0\u3000\u30d7\u30ed\u30c3\u30c8\u3068\u30af\u30e9\u30b9"
     ]
    },
    {
     "cell_type": "code",
     "collapsed": false,
     "input": [
      "import pylab\n",
      "pylab.figure(1)\n",
      "pylab.plot([1, 2, 3, 4], [1, 7, 3, 5])\n",
      "pylab.show()"
     ],
     "language": "python",
     "metadata": {},
     "outputs": [],
     "prompt_number": 69
    },
    {
     "cell_type": "code",
     "collapsed": false,
     "input": [
      "import pylab\n",
      "pylab.figure(1)\n",
      "pylab.plot([1, 2, 3, 4], [1, 2, 3, 4])\n",
      "pylab.figure(2)\n",
      "pylab.plot([1, 4, 2, 3], [5, 6, 7, 8])\n",
      "#pylab.savefig('Figure-Addie')\n",
      "pylab.figure(1)\n",
      "pylab.plot([5, 6, 10, 3])\n",
      "#pylab.savefig('Figure-Jane')"
     ],
     "language": "python",
     "metadata": {},
     "outputs": [
      {
       "metadata": {},
       "output_type": "pyout",
       "prompt_number": 70,
       "text": [
        "[<matplotlib.lines.Line2D at 0x10db027d0>]"
       ]
      }
     ],
     "prompt_number": 70
    },
    {
     "cell_type": "code",
     "collapsed": false,
     "input": [
      "%matplotlib"
     ],
     "language": "python",
     "metadata": {},
     "outputs": [
      {
       "output_type": "stream",
       "stream": "stdout",
       "text": [
        "Using matplotlib backend: MacOSX\n"
       ]
      }
     ],
     "prompt_number": 74
    },
    {
     "cell_type": "code",
     "collapsed": false,
     "input": [
      "principal = 100000 # \u521d\u671f\u6295\u8cc7\n",
      "interestRate = 0.05\n",
      "year = 20\n",
      "values = []\n",
      "for i in range(year + 1):\n",
      "    values.append(principal)\n",
      "    principal += principal * interestRate\n",
      "pylab.plot(values, linewidth=30)\n",
      "pylab.title('5% Growth, Compounded Annually', fontsize='xx-large')\n",
      "pylab.xlabel('Years of Compounding')\n",
      "pylab.ylabel('Value of Principal ($)')"
     ],
     "language": "python",
     "metadata": {},
     "outputs": [
      {
       "metadata": {},
       "output_type": "pyout",
       "prompt_number": 75,
       "text": [
        "<matplotlib.text.Text at 0x10db0e3d0>"
       ]
      }
     ],
     "prompt_number": 75
    },
    {
     "cell_type": "code",
     "collapsed": false,
     "input": [
      "def findPayment(loan, r, m):\n",
      "    return loan*(( r * ( 1 + r )**m )/(( 1 + r )**m - 1))"
     ],
     "language": "python",
     "metadata": {},
     "outputs": [],
     "prompt_number": 82
    },
    {
     "cell_type": "code",
     "collapsed": false,
     "input": [
      "class Mortgage(object):\n",
      "    def __init__(self, loan, annRate, months):\n",
      "        self.loan = loan\n",
      "        self.rate = annRate/12.0\n",
      "        self.months = months\n",
      "        self.paid = [0.0]\n",
      "        self.owed = [loan]\n",
      "        self.payment = findPayment(loan, self.rate, months)\n",
      "        self.legned = None\n",
      "    def makePayment(self):\n",
      "        self.paid.append(self.payment)\n",
      "        reduction = self.payment - self.owed[-1] * self.rate\n",
      "        self.owed.append(self.owed[-1] - reduction)\n",
      "    def getTotalPaid(self):\n",
      "        return sum(self.paid)\n",
      "    def __str__(self):\n",
      "        return self.legned\n",
      "    def plotPayments(self, style):\n",
      "        pylab.plot(self.paid[1:], style, label=self.legned)\n",
      "    def plotBalance(self, style):\n",
      "        pylab.plot(self.owed, style, label=self.legned)\n",
      "    def plotTotPd(self, style):\n",
      "        totPd = [self.paid[0]]\n",
      "        for i in range(1, len(self.paid)):\n",
      "            totPd.append(totPd[-1] + self.paid[i])\n",
      "        pylab.plot(totPd, style, label = self.legned)\n",
      "    def plotNet(self, style):\n",
      "        totPd = [self.paid[0]]\n",
      "        for i in range(1, len(self.paid)):\n",
      "            totPd.append(totPd[-1] + self.paid[i])\n",
      "        equityAcquired = pylab.array([self.loan] * len(self.owed))\n",
      "        equityAcquired = equityAcquired - pylab.array(self.owed)\n",
      "        net = pylab.array(totPd) - equityAcquired\n",
      "        pylab.plot(net, style, label = self.legned)"
     ],
     "language": "python",
     "metadata": {},
     "outputs": [],
     "prompt_number": 89
    },
    {
     "cell_type": "code",
     "collapsed": false,
     "input": [
      "a1 = pylab.array([1, 2, 4])\n",
      "print 'a1 = ', a1\n",
      "a2 = a1 * 2\n",
      "print 'a2 = ', a2"
     ],
     "language": "python",
     "metadata": {},
     "outputs": [
      {
       "output_type": "stream",
       "stream": "stdout",
       "text": [
        "a1 =  [1 2 4]\n",
        "a2 =  [2 4 8]\n"
       ]
      }
     ],
     "prompt_number": 90
    },
    {
     "cell_type": "code",
     "collapsed": false,
     "input": [
      "type(a1)"
     ],
     "language": "python",
     "metadata": {},
     "outputs": [
      {
       "metadata": {},
       "output_type": "pyout",
       "prompt_number": 91,
       "text": [
        "numpy.ndarray"
       ]
      }
     ],
     "prompt_number": 91
    },
    {
     "cell_type": "code",
     "collapsed": false,
     "input": [
      "class Fixed(Mortgage):\n",
      "    def __init__(self, loan, r, months):\n",
      "        Mortgage.__init__(self ,loan, r, months)\n",
      "        self.legned = 'Fixed, ' + str(r*100) + '%'\n",
      "\n",
      "class FixedWithPts(Mortgage):\n",
      "    def __init__(self, loan, r, months, pts):\n",
      "        Mortgage.__init__(self, loan, r, months)\n",
      "        self.pts = pts\n",
      "        self.paid = [loan*(pts/100.0)]\n",
      "        self.legned = 'Fixed, ' + str(r*100) + '% ' + str(pts) + ' points'\n",
      "class TwoRate(Mortgage):\n",
      "    def __init__(self, loan, r, months, teaserRate, teaserMonths):\n",
      "        Mortgage.__init__(self, loan, teaserRate, months)\n",
      "        self.teaserMonths = teaserMonths\n",
      "        self.teaserRate = teaserRate\n",
      "        self.nextRate = r/12.0\n",
      "        self.legned = str(teaserRate*100) + '% for ' + \\\n",
      "            str(self.teaserMonths) + ' months, then ' + str(r*100) + '%'\n",
      "    def makePayment(self):\n",
      "        if len(self.paid) == self.teaserMonths + 1:\n",
      "            self.rate = self.nextRate\n",
      "            self.payment = findPayment(self.owed[-1], \\\n",
      "                            self.rate, self.months - self.teaserMonths)\n",
      "        Mortgage.makePayment(self)"
     ],
     "language": "python",
     "metadata": {},
     "outputs": [],
     "prompt_number": 92
    },
    {
     "cell_type": "code",
     "collapsed": false,
     "input": [
      "def plotMortgages(morts, amt):\n",
      "    style = ['b-', 'b-.', 'b:']\n",
      "    payments = 0\n",
      "    cost = 1\n",
      "    balance = 2\n",
      "    netCost = 3\n",
      "    pylab.figure(payments)\n",
      "    pylab.title('Monthly Payments of Different $' + str(amt) + \\\n",
      "                ' Mortgages')\n",
      "    pylab.xlabel('Months')\n",
      "    pylab.ylabel('Monthly Payments')\n",
      "    pylab.figure(cost)\n",
      "    pylab.title('Cash Outlay of Different $' + str(amt) + ' Mortgages')\n",
      "    pylab.xlabel('Months')\n",
      "    pylab.ylabel('Total Payments')\n",
      "    pylab.figure(balance)\n",
      "    pylab.title('Balance Remaining of $' + str(amt) + ' Mortgages')\n",
      "    pylab.xlabel('Months')\n",
      "    pylab.ylabel('Remaining Loan Balance of $')\n",
      "    pylab.figure(netCost)\n",
      "    pylab.title('Net Cost of $' + str(amt) + ' Mortgages')\n",
      "    pylab.xlabel('Months')\n",
      "    pylab.ylabel('Payments - Equity $')\n",
      "    for i in range(len(morts)):\n",
      "        pylab.figure(payments)\n",
      "        morts[i].plotPayments(style[i])\n",
      "        pylab.figure(cost)\n",
      "        morts[i].plotTotPd(style[i])\n",
      "        pylab.figure(balance)\n",
      "        morts[i].plotBalance(style[i])\n",
      "        pylab.figure(netCost)\n",
      "        morts[i].plotNet(style[i])\n",
      "    pylab.figure(payments)\n",
      "    pylab.legend(loc = 'upper center')\n",
      "    pylab.figure(cost)\n",
      "    pylab.legend(loc = 'best')\n",
      "    pylab.figure(balance)\n",
      "    pylab.legend(loc = 'best')\n",
      "    \n",
      "def compareMortgage(amt, years, fixedRate, pts, ptsRate, \\\n",
      "                    varRate1, varRate2, varMonths):\n",
      "    totMonths = years * 12\n",
      "    fixed1 = Fixed(amt, fixedRate, totMonths)\n",
      "    fixed2 = FixedWithPts(amt, ptsRate, totMonths, pts)\n",
      "    twoRate = TwoRate(amt, varRate2, totMonths, varRate1, varMonths)\n",
      "    morts = [fixed1, fixed2, twoRate]\n",
      "    for m in range(totMonths):\n",
      "        for mort in morts:\n",
      "            mort.makePayment()\n",
      "    plotMortgages(morts, amt)"
     ],
     "language": "python",
     "metadata": {},
     "outputs": [],
     "prompt_number": 95
    },
    {
     "cell_type": "code",
     "collapsed": false,
     "input": [
      "compareMortgage(amt=200000, years=30, fixedRate=0.07,\\\n",
      "                pts=3.25, ptsRate=0.05, \\\n",
      "                varRate1=0.045, varRate2=0.095, varMonths=48)"
     ],
     "language": "python",
     "metadata": {},
     "outputs": [],
     "prompt_number": 96
    },
    {
     "cell_type": "markdown",
     "metadata": {},
     "source": [
      "\u7b2c12\u7ae0\u3000\u78ba\u7387\u3001\u7d71\u8a08\u3068\u30d7\u30ed\u30b0\u30e9\u30e0"
     ]
    },
    {
     "cell_type": "code",
     "collapsed": false,
     "input": [
      "def squareRoot(x, epsilon):\n",
      "    \"\"\"x\u3068epsilon\u306f\u3001x >= 0, epsilon > 0 \u3092\u6e80\u305f\u3059\n",
      "    float\u578b\u306e\u5909\u6570\u3068\u3059\u308b\n",
      "    x - epsilon <= y*y <= x - epsilon\u3068\u306a\u308b\n",
      "    float\u578b\u306ey\u3092\u51fa\u529b\u3059\u308b\n",
      "    \"\"\""
     ],
     "language": "python",
     "metadata": {},
     "outputs": [],
     "prompt_number": 97
    },
    {
     "cell_type": "code",
     "collapsed": false,
     "input": [
      "import random\n",
      "def rollDie():\n",
      "    return random.choice([1, 2, 3, 4, 5, 6])\n",
      "def rollN(n):\n",
      "    result = ''\n",
      "    for i in range(n):\n",
      "        result += str(rollDie())\n",
      "    print result"
     ],
     "language": "python",
     "metadata": {},
     "outputs": [],
     "prompt_number": 98
    },
    {
     "cell_type": "code",
     "collapsed": false,
     "input": [
      "rollN(50)"
     ],
     "language": "python",
     "metadata": {},
     "outputs": [
      {
       "output_type": "stream",
       "stream": "stdout",
       "text": [
        "35156325213611634234153246631621516112543224612112\n"
       ]
      }
     ],
     "prompt_number": 99
    },
    {
     "cell_type": "code",
     "collapsed": false,
     "input": [
      "def flip(numFlips):\n",
      "    heads = 0.0\n",
      "    for i in range(numFlips):\n",
      "        if random.random() < 0.5:\n",
      "            heads += 1\n",
      "    return heads/numFlips\n",
      "\n",
      "def flipSim(numFlipsPerTrial, numFlips):\n",
      "    fracHeads = []\n",
      "    for i in range(numFlips):\n",
      "        fracHeads.append(flip(numFlipsPerTrial))\n",
      "    mean = sum(fracHeads)/len(fracHeads)\n",
      "    #print fracHeads\n",
      "    return mean"
     ],
     "language": "python",
     "metadata": {},
     "outputs": [],
     "prompt_number": 100
    },
    {
     "cell_type": "code",
     "collapsed": false,
     "input": [
      "flipSim(100, 100)"
     ],
     "language": "python",
     "metadata": {},
     "outputs": [
      {
       "metadata": {},
       "output_type": "pyout",
       "prompt_number": 101,
       "text": [
        "0.4954"
       ]
      }
     ],
     "prompt_number": 101
    },
    {
     "cell_type": "code",
     "collapsed": false,
     "input": [
      "def flipPlot(minExp, maxExp):\n",
      "    ratios = []\n",
      "    diffs = []\n",
      "    xAxis = []\n",
      "    for exp in range(minExp, maxExp + 1):\n",
      "        xAxis.append(2**exp)\n",
      "    for numFlip in xAxis:\n",
      "        numHeads = 0\n",
      "        for n in range(numFlip):\n",
      "            if random.random() < 0.5:\n",
      "                numHeads += 1\n",
      "        numTrails = numFlip - numHeads\n",
      "        ratios.append(numHeads/float(numTrails))\n",
      "        diffs.append(abs(numHeads - numTrails))\n",
      "    pylab.title('Difference Between Heads and Tails')\n",
      "    pylab.xlabel('Number of Flips')\n",
      "    pylab.ylabel('Abs(#Heads - #Trails)')\n",
      "    pylab.plot(xAxis, diffs)\n",
      "    pylab.figure()\n",
      "    pylab.title('Heads/Tails Ratios')\n",
      "    pylab.xlabel('Number of Flips')\n",
      "    pylab.ylabel('#Heads/#Trails')\n",
      "    pylab.plot(xAxis, ratios)\n",
      "    \n",
      "random.seed(0)\n",
      "flipPlot(4, 20)\n",
      "    "
     ],
     "language": "python",
     "metadata": {},
     "outputs": [],
     "prompt_number": 102
    },
    {
     "cell_type": "code",
     "collapsed": false,
     "input": [
      "def stdDev(X):\n",
      "    mean = float(sum(X))/len(X)\n",
      "    tot = 0.0\n",
      "    for x in X:\n",
      "        tot += (x - mean)**2\n",
      "    return (tot/len(X))**0.5"
     ],
     "language": "python",
     "metadata": {},
     "outputs": [],
     "prompt_number": 103
    },
    {
     "cell_type": "code",
     "collapsed": false,
     "input": [
      "def makePlot(xVals, yVals, title, xLabel, yLabel, style, \\\n",
      "             logX=False, logY=False):\n",
      "    pylab.figure()\n",
      "    pylab.title(title)\n",
      "    pylab.xlabel(xLabel)\n",
      "    pylab.ylabel(yLabel)\n",
      "    pylab.plot(xVals, yVals, style)\n",
      "    if logX:\n",
      "        pylab.semilogx()\n",
      "    if logY:\n",
      "        pylab.semilogy()\n",
      "\n",
      "def runTrial(numFlips):\n",
      "    numHeads = 0\n",
      "    for n in range(numFlips):\n",
      "        if random.random() < 0.5:\n",
      "             numHeads += 1\n",
      "    numTails = numFlips - numHeads\n",
      "    return (numHeads, numTails)\n",
      "\n",
      "def flipPlot1(minExp, maxExp, numTrials):\n",
      "    ratiosMeans, diffsMeans, ratiosSDs, diffsSDs = [], [], [], []\n",
      "    xAxis = []\n",
      "    for exp in range(minExp, maxExp + 1):\n",
      "        xAxis.append(2**exp)\n",
      "    for numFlips in xAxis:\n",
      "        ratios = []\n",
      "        diffs = []\n",
      "        for t in range(numTrials):\n",
      "            numHeads, numTails = runTrial(numFlips)\n",
      "            ratios.append(numHeads/float(numTails))\n",
      "            diffs.append(abs(numHeads - numTails))\n",
      "        ratiosMeans.append(sum(ratios)/float(numTrials))\n",
      "        diffsMeans.append(sum(diffs)/float(numTrials))\n",
      "        ratiosSDs.append(stdDev(ratios))\n",
      "        diffsSDs.append(stdDev(diffs))\n",
      "    numTrialsString = '(' + str(numTrials) + ' Trials)'\n",
      "    title = 'Mean Heads/Tails Raios ' + numTrialsString\n",
      "    makePlot(xAxis, ratiosMeans, title, \\\n",
      "             'Number of filps', 'Means Heads/Tails', 'bo', logX = True)\n",
      "    title = 'SD Heads/Tails Raios ' + numTrialsString\n",
      "    makePlot(xAxis, ratiosSDs, title, \\\n",
      "             'Number of filps', 'Standard Deviation', 'bo',\\\n",
      "             logX = True, logY = True)\n",
      "    \n",
      "    title = 'Mean abs(#Heads - #Tails)' + numTrialsString\n",
      "    makePlot(xAxis, diffsMeans, title, \\\n",
      "             'Number of flips', 'Mean abs(#Heads - #Trails)', 'bo',\\\n",
      "             logX = True, logY = True)\n",
      "    title = 'SD abs(#Heads - #Tails)' + numTrialsString\n",
      "    makePlot(xAxis, diffsSDs, title, \\\n",
      "             'Number of flips', 'Standard Division', 'bo', \\\n",
      "             logX = True, logY = True)"
     ],
     "language": "python",
     "metadata": {},
     "outputs": [],
     "prompt_number": 104
    },
    {
     "cell_type": "code",
     "collapsed": false,
     "input": [
      "flipPlot1(4, 20, 20)"
     ],
     "language": "python",
     "metadata": {},
     "outputs": [],
     "prompt_number": 105
    },
    {
     "cell_type": "code",
     "collapsed": false,
     "input": [
      "def CV(X):\n",
      "    mean = sum(X)/float(len(X))\n",
      "    try:\n",
      "        return stdDev(X)/mean\n",
      "    except ZeroDivisionError:\n",
      "        return float('nan')"
     ],
     "language": "python",
     "metadata": {},
     "outputs": [],
     "prompt_number": 106
    },
    {
     "cell_type": "code",
     "collapsed": false,
     "input": [
      "def flipPlot1(minExp, maxExp, numTrials):\n",
      "    ratiosMeans, diffsMeans, ratiosSDs, diffsSDs = [], [], [], []\n",
      "    ratiosCVs, diffsCVs = [], []\n",
      "    xAxis = []\n",
      "    for exp in range(minExp, maxExp + 1):\n",
      "        xAxis.append(2**exp)\n",
      "    for numFilps in xAxis:\n",
      "        ratios = []\n",
      "        diffs = []\n",
      "        for t in range(numTrials):\n",
      "            numHeads, numTails = runTrial(numFilps)\n",
      "            ratios.append(numHeads/float(numFilps))\n",
      "            diffs.append(abs(numHeads - numTails))\n",
      "        ratiosMeans.append(sum(ratios)/float(numTrials))\n",
      "        diffsMeans.append(sum(diffs)/float(numTrials))\n",
      "        ratiosSDs.append(stdDev(ratios))\n",
      "        diffsSDs.append(stdDev(diffs))\n",
      "        ratiosCVs.append(CV(ratios))\n",
      "        diffsCVs.append(CV(diffs))\n",
      "    numTrialsString = '(' + str(numTrials) + ' Trials )'\n",
      "    title = 'Mean Heads/Tails Ratios ' + numTrialsString\n",
      "    makePlot(xAxis, ratiosMeans, title, \\\n",
      "             'Number of flips ', 'Mean Heads/Tails', 'bo', logX = True)\n",
      "    title = 'SD Heads/Tails Ratios ' + numTrialsString\n",
      "    makePlot(xAxis, ratiosSDs, title, \\\n",
      "             'Number of flips ', 'Standard Deviation', 'bo',\\\n",
      "             logX = True, logY = True)\n",
      "    title = 'Mean abs(#Heads - #Tails) ' + numTrialsString\n",
      "    makePlot(xAxis, diffsMeans, title, \\\n",
      "             'Number of flips ', 'Standard Deviation', 'bo',\\\n",
      "             logX = True, logY = True)\n",
      "    title = 'SD abs(#Heads - #Tails) ' + numTrialsString\n",
      "    makePlot(xAxis, diffsSDs, title, \\\n",
      "             'Number of flips ', 'Standard Deviation', 'bo',\\\n",
      "             logX = True, logY = True)\n",
      "    title = 'Coeff. of Var. abs(#Heads - #Tails) ' + numTrialsString\n",
      "    makePlot(xAxis, diffsCVs, title, \\\n",
      "             'Number of flips ', 'Coeff. of Var.', 'bo',\\\n",
      "             logX = True)\n",
      "    title = 'Coeff. of Var. Heads/Tails Ratio ' + numTrialsString\n",
      "    makePlot(xAxis, ratiosCVs, title, \\\n",
      "             'Number of flips ', 'Coef. of Var.', 'bo',\\\n",
      "             logX = True, logY = True)"
     ],
     "language": "python",
     "metadata": {},
     "outputs": [],
     "prompt_number": 107
    },
    {
     "cell_type": "code",
     "collapsed": false,
     "input": [
      "flipPlot1(4, 20, 20)"
     ],
     "language": "python",
     "metadata": {},
     "outputs": [],
     "prompt_number": 108
    },
    {
     "cell_type": "code",
     "collapsed": false,
     "input": [
      "vals = [1, 200]\n",
      "for i in range(1000):\n",
      "    num1 = random.choice(range(1, 1000))\n",
      "    num2 = random.choice(range(1, 1000))\n",
      "    vals.append(num1 + num2)\n",
      "pylab.hist(vals, bins = 10)"
     ],
     "language": "python",
     "metadata": {},
     "outputs": [
      {
       "metadata": {},
       "output_type": "pyout",
       "prompt_number": 109,
       "text": [
        "(array([  22.,   52.,  110.,  134.,  163.,  177.,  147.,  108.,   57.,   32.]),\n",
        " array([  1.00000000e+00,   1.94000000e+02,   3.87000000e+02,\n",
        "          5.80000000e+02,   7.73000000e+02,   9.66000000e+02,\n",
        "          1.15900000e+03,   1.35200000e+03,   1.54500000e+03,\n",
        "          1.73800000e+03,   1.93100000e+03]),\n",
        " <a list of 10 Patch objects>)"
       ]
      }
     ],
     "prompt_number": 109
    },
    {
     "cell_type": "code",
     "collapsed": false,
     "input": [
      "def flip(numFlips):\n",
      "    heads = 0.0\n",
      "    for i in range(numFlips):\n",
      "        if random.random() < 0.5:\n",
      "            heads += 1\n",
      "    return heads/numFlips\n",
      "\n",
      "def flipSim(numFlipsPerTrial, numTrials):\n",
      "    fracHeads = []\n",
      "    for i in range(numTrials):\n",
      "        fracHeads.append(flip(numFlipsPerTrial))\n",
      "    mean = sum(fracHeads)/len(fracHeads)\n",
      "    sd = stdDev(fracHeads)\n",
      "    return (fracHeads, mean, sd)\n",
      "\n",
      "def labelPlot(numFlips, numTrials, mean, sd):\n",
      "    pylab.title(str(numTrials) + ' trials of ' + \\\n",
      "                str(numFlips) + ' flips each')\n",
      "    pylab.xlabel('Fraction of Heades')\n",
      "    pylab.ylabel('Number of Trials ')\n",
      "    xmin, xmax = pylab.xlim()\n",
      "    ymin, ymax = pylab.ylim()\n",
      "    pylab.text(xmin + (xmax - xmin)*0.02, (ymax - ymin)/2,\\\n",
      "               'Mean = ' + str(round(mean, 4))\\\n",
      "               + '\\nSD = ' + str(round(sd, 4)), size = 'x-large')\n",
      "    \n",
      "def makePlots(numFlips1, numFlips2, numTrials):\n",
      "    val1, mean1, sd1 = flipSim(numFlips1, numTrials)\n",
      "    pylab.hist(val1, bins = 20)\n",
      "    xmin, xmax = pylab.xlim()\n",
      "    ymin, ymax = pylab.ylim()\n",
      "    labelPlot(numFlips1, numTrials, mean1, sd1)\n",
      "    pylab.figure()\n",
      "    val2, mean2, sd2 = flipSim(numFlips2, numTrials)\n",
      "    pylab.hist(val2, bins = 20)\n",
      "    xmin, xmax = pylab.xlim()\n",
      "    ymin, ymax = pylab.ylim()\n",
      "    labelPlot(numFlips2, numTrials, mean2, sd2)\n",
      "\n",
      "random.seed(0)\n",
      "makePlots(100, 1000, 100000)"
     ],
     "language": "python",
     "metadata": {},
     "outputs": [],
     "prompt_number": 110
    },
    {
     "cell_type": "code",
     "collapsed": false,
     "input": [
      "pylab.errorbar(xVals, means, yerr = 2*pylab.array(sds))"
     ],
     "language": "python",
     "metadata": {},
     "outputs": [
      {
       "ename": "NameError",
       "evalue": "name 'xVals' is not defined",
       "output_type": "pyerr",
       "traceback": [
        "\u001b[0;31m---------------------------------------------------------------------------\u001b[0m\n\u001b[0;31mNameError\u001b[0m                                 Traceback (most recent call last)",
        "\u001b[0;32m<ipython-input-111-0ec723385ab1>\u001b[0m in \u001b[0;36m<module>\u001b[0;34m()\u001b[0m\n\u001b[0;32m----> 1\u001b[0;31m \u001b[0mpylab\u001b[0m\u001b[0;34m.\u001b[0m\u001b[0merrorbar\u001b[0m\u001b[0;34m(\u001b[0m\u001b[0mxVals\u001b[0m\u001b[0;34m,\u001b[0m \u001b[0mmeans\u001b[0m\u001b[0;34m,\u001b[0m \u001b[0myerr\u001b[0m \u001b[0;34m=\u001b[0m \u001b[0;36m2\u001b[0m\u001b[0;34m*\u001b[0m\u001b[0mpylab\u001b[0m\u001b[0;34m.\u001b[0m\u001b[0marray\u001b[0m\u001b[0;34m(\u001b[0m\u001b[0msds\u001b[0m\u001b[0;34m)\u001b[0m\u001b[0;34m)\u001b[0m\u001b[0;34m\u001b[0m\u001b[0m\n\u001b[0m",
        "\u001b[0;31mNameError\u001b[0m: name 'xVals' is not defined"
       ]
      }
     ],
     "prompt_number": 111
    },
    {
     "cell_type": "code",
     "collapsed": false,
     "input": [
      "def playSeries(numGames, teamProb):\n",
      "    numWon = 0\n",
      "    for game in range(numGames):\n",
      "        if random.random() <= teamProb:\n",
      "            numWon += 1\n",
      "    return (numWon > numGames//2)\n",
      "\n",
      "def simSeries(numSeries):\n",
      "    prob = 0.5\n",
      "    fracWon = []\n",
      "    probs = []\n",
      "    while prob <= 1.0:\n",
      "        seriesWon = 0.0\n",
      "        for i in range(numSeries):\n",
      "            if playSeries(7, prob):\n",
      "                seriesWon += 1\n",
      "        fracWon.append(seriesWon/numSeries)\n",
      "        probs.append(prob)\n",
      "        prob += 0.01\n",
      "    pylab.plot(probs, fracWon, linewidth = 5)\n",
      "    pylab.xlabel('Probability of Winning a Game')\n",
      "    pylab.ylabel('Probability of Winning a Series')\n",
      "    pylab.axhline(0.95)\n",
      "    pylab.ylim(0.5, 1.1)\n",
      "    pylab.title(str(numSeries) + ' Seven-Game Series ')\n",
      "simSeries(400)"
     ],
     "language": "python",
     "metadata": {},
     "outputs": [],
     "prompt_number": 112
    },
    {
     "cell_type": "code",
     "collapsed": false,
     "input": [
      "def findSeriesLength(teamProb):\n",
      "    numSeries = 200\n",
      "    maxLen = 2500\n",
      "    step = 10\n",
      "    \n",
      "    def fracWon(teamProb, numSeries, seriesLen):\n",
      "        won = 0.0\n",
      "        for series in range(numSeries):\n",
      "            if playSeries(seriesLen, teamProb):\n",
      "                won += 1\n",
      "        return won/numSeries\n",
      "    \n",
      "    winFrac = []\n",
      "    xVals = []\n",
      "    for seriesLen in range(1, maxLen, step):\n",
      "        xVals.append(seriesLen)\n",
      "        winFrac.append(fracWon(teamProb, numSeries, seriesLen))\n",
      "    pylab.plot(xVals, winFrac, linewidth = 5)\n",
      "    pylab.xlabel('Length of Series ')\n",
      "    pylab.ylabel('Probability of Winning Series ')\n",
      "    pylab.title(str(round(teamProb, 4)) + \\\n",
      "                ' Probability of Better Team Winning a Game')\n",
      "    pylab.axhline(0.95)\n",
      "\n",
      "YanksProb = 0.636\n",
      "PhilsProb = 0.574\n",
      "findSeriesLength(YanksProb/(YanksProb + PhilsProb))"
     ],
     "language": "python",
     "metadata": {},
     "outputs": [],
     "prompt_number": 113
    },
    {
     "cell_type": "code",
     "collapsed": false,
     "input": [
      "def collisionProb(n, k):\n",
      "    prob = 1.0\n",
      "    for i in range(1, k):\n",
      "        prob = prob * ((n - i)/float(n))\n",
      "    return 1 - prob"
     ],
     "language": "python",
     "metadata": {},
     "outputs": [],
     "prompt_number": 114
    },
    {
     "cell_type": "code",
     "collapsed": false,
     "input": [
      "def simInsertions(numIndices, numInsertions):\n",
      "    choices = range(numIndices)\n",
      "    used = []\n",
      "    for i in range(numInsertions):\n",
      "        hashVal = random.choice(choices)\n",
      "        if hashVal in used:\n",
      "            return 1\n",
      "        else:\n",
      "            used.append(hashVal)\n",
      "    return 0\n",
      "    \n",
      "def findProb(numIndices, numInsertions, numTrials):\n",
      "    collisions = 0.0\n",
      "    for t in range(numTrials):\n",
      "        collisions += simInsertions(numIndices, numInsertions)\n",
      "    return collisions/numTrials"
     ],
     "language": "python",
     "metadata": {},
     "outputs": [],
     "prompt_number": 115
    },
    {
     "cell_type": "code",
     "collapsed": false,
     "input": [
      "print 'Actual prabability of collision = ', collisionProb(1000, 50)\n",
      "print 'Est. prabability of collision = ', findProb(1000, 50, 10000)\n",
      "print 'Actual prabability of collision = ', collisionProb(1000, 200)\n",
      "print 'Est. prabability of collision = ', findProb(1000, 200, 10000)"
     ],
     "language": "python",
     "metadata": {},
     "outputs": [
      {
       "output_type": "stream",
       "stream": "stdout",
       "text": [
        "Actual prabability of collision =  0.71226865688\n",
        "Est. prabability of collision =  "
       ]
      },
      {
       "output_type": "stream",
       "stream": "stdout",
       "text": [
        "0.7065\n",
        "Actual prabability of collision =  0.999999999478\n",
        "Est. prabability of collision =  "
       ]
      },
      {
       "output_type": "stream",
       "stream": "stdout",
       "text": [
        "1.0\n"
       ]
      }
     ],
     "prompt_number": 116
    },
    {
     "cell_type": "markdown",
     "metadata": {},
     "source": [
      "\u7b2c13\u7ae0\u3000\u30e9\u30f3\u30c0\u30e0\u30a6\u30a9\u30fc\u30af\u3068\u53ef\u8996\u5316"
     ]
    },
    {
     "cell_type": "code",
     "collapsed": false,
     "input": [
      "class Location(object):\n",
      "    def __init__(self, x, y):\n",
      "        self.x = x\n",
      "        self.y = y\n",
      "    def move(self, deltaX, deltaY):\n",
      "        return Location(self.x + deltaX, self.y + deltaY)\n",
      "    def getX(self):\n",
      "        return self.x\n",
      "    def getY(self):\n",
      "        return self.y\n",
      "    def distFrom(self, other):\n",
      "        ox = other.x\n",
      "        oy = other.y\n",
      "        xDist = self.x - ox\n",
      "        yDist = self.y - oy\n",
      "        return (xDist**2 + yDist**2)**0.5\n",
      "    def __str__(self):\n",
      "        return '<' + str(self.x) + ' , ' + str(self.y) + '>'"
     ],
     "language": "python",
     "metadata": {},
     "outputs": [],
     "prompt_number": 117
    },
    {
     "cell_type": "code",
     "collapsed": false,
     "input": [
      "#def Field(Object):\n",
      "class Field(object):\n",
      "    def __init__(self):\n",
      "        self.drunks = {}\n",
      "    def addDrunk(self, drunk, loc):\n",
      "        if drunk in self.drunks:\n",
      "            raise ValueError('Duplicate drunk')\n",
      "        else:\n",
      "            self.drunks[drunk] = loc\n",
      "    def moveDrunk(self, drunk):\n",
      "        if drunk not in self.drunks:\n",
      "            raise ValueError('Drunk not in field')\n",
      "        xDist, yDist = drunk.takeStep()\n",
      "        currentLocation = self.drunks[drunk]\n",
      "        self.drunks[drunk] = currentLocation.move(xDist, yDist)\n",
      "    def getLoc(self, drunk):\n",
      "        if drunk not in self.drunks:\n",
      "            raise ValueError('Drunk not in field')\n",
      "        return self.drunks[drunk]"
     ],
     "language": "python",
     "metadata": {},
     "outputs": [],
     "prompt_number": 161
    },
    {
     "cell_type": "code",
     "collapsed": false,
     "input": [
      "class Drunk(object):\n",
      "    def __init__(self, name = None):\n",
      "        self.name = name\n",
      "    def __str__(self):\n",
      "        if self != None:\n",
      "            return self.name\n",
      "        return 'Anonymous'\n",
      "\n",
      "class UsualDrunk(Drunk):\n",
      "    def takeStep(self):\n",
      "        stepChoices = [(0.0, 1.0), (0.0, -1.0), (1.0, 0.0), (-1.0, 0.0)]\n",
      "        return random.choice(stepChoices)"
     ],
     "language": "python",
     "metadata": {},
     "outputs": [],
     "prompt_number": 162
    },
    {
     "cell_type": "code",
     "collapsed": false,
     "input": [
      "def walk(f, d, numSteps):\n",
      "    start = f.getLoc(d)\n",
      "    for s in range(numSteps):\n",
      "        f.moveDrunk(d)\n",
      "    return start.distFrom(f.getLoc(d))\n",
      "\n",
      "def simWalks(numSteps, numTrials, dClass):\n",
      "    Homer = dClass()\n",
      "    origin = Location(0.0, 0.0)\n",
      "    distances = []\n",
      "    for t in range(numTrials):\n",
      "        f = Field()\n",
      "        f.addDrunk(Homer, origin)\n",
      "        distances.append(walk(f, Homer, numTrials))\n",
      "    return distances\n",
      "\n",
      "def drunkTest(walkLengths, numTrials, dClass):\n",
      "    for numSteps in walkLengths:\n",
      "        distances = simWalks(numSteps, numTrials, dClass)\n",
      "        print dClass.__name__, 'random walk of', numSteps, ' steps'\n",
      "        print ' Means = ', sum(distances)/len(distances), \\\n",
      "                'CV = ', CV(distances)\n",
      "        print ' Max = ', max(distances), ' Min = ', min(distances)"
     ],
     "language": "python",
     "metadata": {},
     "outputs": [],
     "prompt_number": 163
    },
    {
     "cell_type": "code",
     "collapsed": false,
     "input": [
      "drunkTest((10, 100, 1000, 10000), 100, UsualDrunk)"
     ],
     "language": "python",
     "metadata": {},
     "outputs": [
      {
       "output_type": "stream",
       "stream": "stdout",
       "text": [
        "UsualDrunk random walk of 10  steps\n",
        " Means =  8.8967691361 CV =  0.600553512795\n",
        " Max =  24.1660919472  Min =  1.41421356237\n",
        "UsualDrunk"
       ]
      },
      {
       "output_type": "stream",
       "stream": "stdout",
       "text": [
        " random walk of 100  steps\n",
        " Means =  8.60550891985 CV =  0.539635297942\n",
        " Max =  20.2484567313  Min =  1.41421356237\n",
        "UsualDrunk"
       ]
      },
      {
       "output_type": "stream",
       "stream": "stdout",
       "text": [
        " random walk of 1000  steps\n",
        " Means =  9.49799295042 CV =  0.49009342088\n",
        " Max =  20.591260282  Min =  0.0\n",
        "UsualDrunk"
       ]
      },
      {
       "output_type": "stream",
       "stream": "stdout",
       "text": [
        " random walk of 10000  steps\n",
        " Means =  8.88432687961 CV =  0.540145199229\n",
        " Max =  20.8806130178  Min =  1.41421356237\n"
       ]
      }
     ],
     "prompt_number": 170
    },
    {
     "cell_type": "code",
     "collapsed": false,
     "input": [
      "drunkTest((0, 1), 100, UsualDrunk)"
     ],
     "language": "python",
     "metadata": {},
     "outputs": [
      {
       "output_type": "stream",
       "stream": "stdout",
       "text": [
        "UsualDrunk random walk of 0  steps\n",
        " Means =  8.96242176384 CV =  0.485007021567\n",
        " Max =  22.360679775  Min =  2.0\n",
        "UsualDrunk"
       ]
      },
      {
       "output_type": "stream",
       "stream": "stdout",
       "text": [
        " random walk of 1  steps\n",
        " Means =  8.43571514452 CV =  0.480631201566\n",
        " Max =  18.6010752377  Min =  0.0\n"
       ]
      }
     ],
     "prompt_number": 171
    },
    {
     "cell_type": "code",
     "collapsed": false,
     "input": [
      "class ColdDrunk(Drunk):\n",
      "    def takeStep(self):\n",
      "        stepChoices = [(0.0, 1.0), (0.0, -2.0), (1.0, 0.0), (-1.0, 0.0)]\n",
      "        return random.choice(stepChoices)\n",
      "\n",
      "class EWDrunk(Drunk):\n",
      "    def takeStep(self):\n",
      "        stepChoices = [(1.0, 0.0), (-1.0, 0.0)]\n",
      "        return random.choice(stepChoices)\n",
      "\n",
      "def simAll(drunkKinds, walkLengths, numTrials):\n",
      "    for dClass in drunkKinds:\n",
      "        drunkTest(walkLengths, numTrials, dClass)"
     ],
     "language": "python",
     "metadata": {},
     "outputs": [],
     "prompt_number": 172
    },
    {
     "cell_type": "code",
     "collapsed": false,
     "input": [
      "simAll((UsualDrunk, ColdDrunk, EWDrunk), (100, 1000), 10)"
     ],
     "language": "python",
     "metadata": {},
     "outputs": [
      {
       "output_type": "stream",
       "stream": "stdout",
       "text": [
        "UsualDrunk random walk of 100  steps\n",
        " Means =  2.93638872828 CV =  0.427747838407\n",
        " Max =  4.472135955  Min =  0.0\n",
        "UsualDrunk random walk of 1000  steps\n",
        " Means =  2.5615823185 CV =  0.357429494339\n",
        " Max =  4.472135955  Min =  1.41421356237\n",
        "ColdDrunk random walk of 100  steps\n",
        " Means =  3.50965508075 CV =  0.524014117474\n",
        " Max =  7.07106781187  Min =  1.0\n",
        "ColdDrunk random walk of 1000  steps\n",
        " Means =  3.42384793408 CV =  0.430964215048\n",
        " Max =  7.07106781187  Min =  2.0\n",
        "EWDrunk random walk of 100  steps\n",
        " Means =  2.6 CV =  0.692307692308\n",
        " Max =  6.0  Min =  0.0\n",
        "EWDrunk random walk of 1000  steps\n",
        " Means =  2.2 CV =  0.949118773537\n",
        " Max =  6.0  Min =  0.0\n"
       ]
      }
     ],
     "prompt_number": 173
    },
    {
     "cell_type": "code",
     "collapsed": false,
     "input": [
      "class styleIterator(object):\n",
      "    def __init__(self, styles):\n",
      "        self.index = 0\n",
      "        self.styles = styles\n",
      "    def nextStyle(self):\n",
      "        result = self.styles[self.index]\n",
      "        if self.index == len(self.styles) - 1:\n",
      "            self.index = 0\n",
      "        else:\n",
      "            self.index += 1\n",
      "        return result"
     ],
     "language": "python",
     "metadata": {},
     "outputs": [],
     "prompt_number": 174
    },
    {
     "cell_type": "code",
     "collapsed": false,
     "input": [
      "def simDrunk(numTrials, dClass, walkLengths):\n",
      "    meanDistances = []\n",
      "    cvDistances = []\n",
      "    for numSteps in walkLengths:\n",
      "        print 'Starting simulation of ', numSteps, ' steps'\n",
      "        trials = simWalks(numSteps, numTrials, dClass)\n",
      "        mean = sum(trials)/float(len(trials))\n",
      "        meanDistances.append(mean)\n",
      "        cvDistances.append(stdDev(trials)/mean)\n",
      "    return (meanDistances, cvDistances)\n",
      "\n",
      "def simAll(drunkKinds, walkLengths, numTrials):\n",
      "    styleChoice = styleIterator(('b-', 'r:', 'm-.'))\n",
      "    for dClass in drunkKinds:\n",
      "        curStyle = styleChoice.nextStyle()\n",
      "        print 'Starting simulator of ', dClass.__name__\n",
      "        means, cvs = simDrunk(numTrials, dClass, walkLengths)\n",
      "        cvMean = sum(cvs)/float(len(cvs))\n",
      "        pylab.plot(walkLengths, means, curStyle, \\\n",
      "                   label = dClass.__name__ + \\\n",
      "                   '(CV = ' + str(round(cvMean, 4)) + ')')\n",
      "        pylab.xlabel('Number of Steps')\n",
      "        pylab.ylabel('Distance from Origin ')\n",
      "        pylab.legend(loc = 'best')\n",
      "        pylab.semilogx()\n",
      "        pylab.semilogy()\n",
      "        \n",
      "simAll((UsualDrunk, ColdDrunk, EWDrunk), (10, 100, 1000, 10000, 100000), 100)"
     ],
     "language": "python",
     "metadata": {},
     "outputs": [
      {
       "output_type": "stream",
       "stream": "stdout",
       "text": [
        "Starting simulator of  UsualDrunk\n",
        "Starting simulation of  10  steps\n",
        "Starting simulation of "
       ]
      },
      {
       "output_type": "stream",
       "stream": "stdout",
       "text": [
        " 100  steps\n",
        "Starting simulation of "
       ]
      },
      {
       "output_type": "stream",
       "stream": "stdout",
       "text": [
        " 1000  steps\n",
        "Starting simulation of "
       ]
      },
      {
       "output_type": "stream",
       "stream": "stdout",
       "text": [
        " 10000  steps\n",
        "Starting simulation of "
       ]
      },
      {
       "output_type": "stream",
       "stream": "stdout",
       "text": [
        " 100000  steps\n",
        "Starting simulator of "
       ]
      },
      {
       "output_type": "stream",
       "stream": "stdout",
       "text": [
        " ColdDrunk\n",
        "Starting simulation of  10  steps\n",
        "Starting simulation of "
       ]
      },
      {
       "output_type": "stream",
       "stream": "stdout",
       "text": [
        " 100  steps\n",
        "Starting simulation of "
       ]
      },
      {
       "output_type": "stream",
       "stream": "stdout",
       "text": [
        " 1000  steps\n",
        "Starting simulation of "
       ]
      },
      {
       "output_type": "stream",
       "stream": "stdout",
       "text": [
        " 10000  steps\n",
        "Starting simulation of "
       ]
      },
      {
       "output_type": "stream",
       "stream": "stdout",
       "text": [
        " 100000  steps\n",
        "Starting simulator of "
       ]
      },
      {
       "output_type": "stream",
       "stream": "stdout",
       "text": [
        " EWDrunk\n",
        "Starting simulation of  10  steps\n",
        "Starting simulation of "
       ]
      },
      {
       "output_type": "stream",
       "stream": "stdout",
       "text": [
        " 100  steps\n",
        "Starting simulation of "
       ]
      },
      {
       "output_type": "stream",
       "stream": "stdout",
       "text": [
        " 1000  steps\n",
        "Starting simulation of "
       ]
      },
      {
       "output_type": "stream",
       "stream": "stdout",
       "text": [
        " 10000  steps\n",
        "Starting simulation of "
       ]
      },
      {
       "output_type": "stream",
       "stream": "stdout",
       "text": [
        " 100000  steps\n"
       ]
      }
     ],
     "prompt_number": 175
    },
    {
     "cell_type": "code",
     "collapsed": false,
     "input": [
      "def getFinalLocs(numSteps, numTrials, dClass):\n",
      "    locs = []\n",
      "    d = dClass()\n",
      "    origin = Location(0, 0)\n",
      "    for t in range(numTrials):\n",
      "        f = Field()\n",
      "        f.addDrunk(d, origin)\n",
      "        for s in range(numSteps):\n",
      "            f.moveDrunk(d)\n",
      "        locs.append(f.getLoc(d))\n",
      "    return locs\n",
      "\n",
      "def plotLocs(drunkKinds, numSteps, numTrials):\n",
      "    styleChoice = styleIterator(('b+', 'r^', 'mo'))\n",
      "    for dClass in drunkKinds:\n",
      "        locs = getFinalLocs(numSteps, numTrials, dClass)\n",
      "        xVals, yVals = [], []\n",
      "        for l in locs:\n",
      "            xVals.append(l.getX())\n",
      "            yVals.append(l.getY())\n",
      "        meanX = sum(xVals)/float(len(xVals))\n",
      "        meanY = sum(yVals)/float(len(yVals))\n",
      "        curStyle = styleChoice.nextStyle()\n",
      "        pylab.plot(xVals, yVals, curStyle, \\\n",
      "                   label = dClass.__name__ + ' Mean loc. = <' +\\\n",
      "                   str(meanX) + ' , ' + str(meanY) + '>')\n",
      "        pylab.title('Location at End of Walks (' +\\\n",
      "                    str(numSteps) + ' steps)')\n",
      "        pylab.xlabel('Steps East/West of Origin ')\n",
      "        pylab.ylabel('Steps North/South of Origin ')\n",
      "        pylab.legend(loc = 'lower left', numpoints = 1)\n",
      "        \n",
      "plotLocs((UsualDrunk, ColdDrunk, EWDrunk), 100, 200)"
     ],
     "language": "python",
     "metadata": {},
     "outputs": [],
     "prompt_number": 179
    },
    {
     "cell_type": "code",
     "collapsed": false,
     "input": [
      "def traceWalk(drunkKinds, numSteps):\n",
      "    styleChoice = styleIterator(('b+', 'r^', 'mo'))\n",
      "    f = Field()\n",
      "    for dClass in drunkKinds:\n",
      "        d = dClass()\n",
      "        f.addDrunk(d, Location(0, 0))\n",
      "        locs = []\n",
      "        for s in range(numSteps):\n",
      "            f.moveDrunk(d)\n",
      "            locs.append(f.getLoc(d))\n",
      "        xVals = []\n",
      "        yVals = []\n",
      "        for l in locs:\n",
      "                xVals.append(l.getX())\n",
      "                yVals.append(l.getY())\n",
      "        curStyle = styleChoice.nextStyle()\n",
      "        pylab.plot(xVals, yVals, curStyle, \\\n",
      "                       label = dClass.__name__)\n",
      "        pylab.title('Spots Visited on Walk (' + \\\n",
      "                        str(numSteps) + ' steps')\n",
      "        pylab.xlabel('Steps East/West of Origin ')\n",
      "        pylab.ylabel('Steps North/South of Origin ')\n",
      "        pylab.legend(loc = 'best')\n",
      "            \n",
      "traceWalk((UsualDrunk, ColdDrunk, EWDrunk), 200)"
     ],
     "language": "python",
     "metadata": {},
     "outputs": [],
     "prompt_number": 181
    },
    {
     "cell_type": "markdown",
     "metadata": {},
     "source": [
      "\u7b2c14\u7ae0\u3000\u30e2\u30f3\u30c6\u30ab\u30eb\u30ed\u30fb\u30b7\u30df\u30e5\u30ec\u30fc\u30b7\u30e7\u30f3"
     ]
    },
    {
     "cell_type": "code",
     "collapsed": false,
     "input": [],
     "language": "python",
     "metadata": {},
     "outputs": []
    }
   ],
   "metadata": {}
  }
 ]
}